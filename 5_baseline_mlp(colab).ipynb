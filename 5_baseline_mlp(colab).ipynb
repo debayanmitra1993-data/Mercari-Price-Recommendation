{
 "cells": [
  {
   "cell_type": "markdown",
   "metadata": {
    "colab_type": "text",
    "id": "F8kzILM8MpJZ"
   },
   "source": [
    "#  <font color='red'>Table of Contents</font>\n"
   ]
  },
  {
   "cell_type": "markdown",
   "metadata": {
    "colab_type": "text",
    "id": "GruFZTjTMqJH"
   },
   "source": [
    "[12. Baseline MLP (Colab)](#section12)<br>\n"
   ]
  },
  {
   "cell_type": "code",
   "execution_count": 21,
   "metadata": {
    "colab": {
     "base_uri": "https://localhost:8080/",
     "height": 34
    },
    "colab_type": "code",
    "id": "XOhfPML6MwI7",
    "outputId": "86957f1c-0c0d-4085-d4a6-06b3df069c29"
   },
   "outputs": [
    {
     "name": "stdout",
     "output_type": "stream",
     "text": [
      "CWD is  /content/gdrive/My Drive/Mercari2\n"
     ]
    }
   ],
   "source": [
    "#ref - https://stackoverflow.com/questions/14463277/how-to-disable-python-warnings\n",
    "\n",
    "# Basic Libs..\n",
    "import warnings\n",
    "warnings.filterwarnings(\"ignore\")\n",
    "import math\n",
    "import time\n",
    "import pandas as pd\n",
    "import numpy as np\n",
    "import scipy\n",
    "import scipy.sparse\n",
    "from tqdm import tqdm,tqdm_notebook\n",
    "from prettytable import PrettyTable\n",
    "import pickle\n",
    "from IPython.display import Image\n",
    "from contextlib import contextmanager\n",
    "import os\n",
    "print('CWD is ',os.getcwd())\n",
    "\n",
    "# Vis Libs..\n",
    "import seaborn as sns\n",
    "import matplotlib.pyplot as plt\n",
    "from wordcloud import WordCloud\n",
    "\n",
    "# Text Libs..\n",
    "import re\n",
    "from gensim import corpora, models\n",
    "import gensim\n",
    "from gensim.utils import simple_preprocess\n",
    "from gensim.parsing.preprocessing import STOPWORDS\n",
    "from nltk.stem import WordNetLemmatizer, SnowballStemmer,PorterStemmer\n",
    "from nltk.stem.porter import *\n",
    "import nltk\n",
    "from nltk.sentiment.vader import SentimentIntensityAnalyzer\n",
    "from sklearn.feature_extraction import DictVectorizer\n",
    "from sklearn.feature_extraction.text import CountVectorizer,TfidfVectorizer\n",
    "from sklearn.preprocessing import LabelBinarizer\n",
    "\n",
    "# ML Libs...\n",
    "from sklearn.model_selection import train_test_split\n",
    "from sklearn.preprocessing import StandardScaler, MinMaxScaler, OneHotEncoder,FunctionTransformer\n",
    "from sklearn.linear_model import Ridge\n",
    "from sklearn.metrics import mean_squared_error\n",
    "import lightgbm as lgb\n",
    "from sklearn.feature_selection import SelectKBest,f_regression\n",
    "from sklearn.model_selection import GridSearchCV\n",
    "\n",
    "\n",
    "# DL Libs..\n",
    "from tensorflow.keras.preprocessing.text import Tokenizer\n",
    "from tensorflow.keras.preprocessing.sequence import pad_sequences\n",
    "from tensorflow.keras.layers import Dense, Input , Dropout, Flatten,concatenate,LSTM\n",
    "from tensorflow.keras.layers import Embedding\n",
    "import tensorflow.keras\n",
    "from tensorflow.keras.models import Model,load_model\n",
    "from tensorflow.keras.layers import BatchNormalization\n",
    "from tensorflow.keras.utils import plot_model\n",
    "from tensorflow.keras.callbacks import ModelCheckpoint,TensorBoard,ReduceLROnPlateau, EarlyStopping\n",
    "from tensorflow.keras import backend as K\n",
    "from tensorflow.keras import optimizers\n",
    "\n",
    "# Colab Libs...\n",
    "from pydrive.auth import GoogleAuth\n",
    "from pydrive.drive import GoogleDrive\n",
    "from google.colab import auth\n",
    "from oauth2client.client import GoogleCredentials"
   ]
  },
  {
   "cell_type": "markdown",
   "metadata": {
    "colab_type": "text",
    "id": "XO1ozzr3NDSD"
   },
   "source": [
    "#  <a id = 'section12'> <font color='red'>  12. Baseline MLP (colab)  </font> </a>"
   ]
  },
  {
   "cell_type": "markdown",
   "metadata": {
    "colab_type": "text",
    "id": "tCFe6pEXNLH4"
   },
   "source": [
    "### <font color='red'> 12.1 Setup Colab Environment </font>"
   ]
  },
  {
   "cell_type": "code",
   "execution_count": null,
   "metadata": {},
   "outputs": [],
   "source": [
    "'''\n",
    "Code below sets up Google Colab to load the input files from\n",
    "Google Drive and can output files as well\n",
    "'''"
   ]
  },
  {
   "cell_type": "code",
   "execution_count": 0,
   "metadata": {
    "colab": {},
    "colab_type": "code",
    "id": "cWnlbH3vNMsE"
   },
   "outputs": [],
   "source": [
    "# Importing Libraries\n",
    "#ref - https://buomsoo-kim.github.io/colab/2018/04/16/Importing-files-from-Google-Drive-in-Google-Colab.md/\n",
    "\n",
    "auth.authenticate_user()\n",
    "gauth = GoogleAuth()\n",
    "gauth.credentials = GoogleCredentials.get_application_default()\n",
    "drive = GoogleDrive(gauth)"
   ]
  },
  {
   "cell_type": "code",
   "execution_count": 3,
   "metadata": {
    "colab": {
     "base_uri": "https://localhost:8080/",
     "height": 121
    },
    "colab_type": "code",
    "id": "h6JUqcW-NOfv",
    "outputId": "aaaf38d6-e8b6-420d-e346-9f615860575f"
   },
   "outputs": [
    {
     "name": "stdout",
     "output_type": "stream",
     "text": [
      "Go to this URL in a browser: https://accounts.google.com/o/oauth2/auth?client_id=947318989803-6bn6qk8qdgf4n4g3pfee6491hc0brc4i.apps.googleusercontent.com&redirect_uri=urn%3aietf%3awg%3aoauth%3a2.0%3aoob&response_type=code&scope=email%20https%3a%2f%2fwww.googleapis.com%2fauth%2fdocs.test%20https%3a%2f%2fwww.googleapis.com%2fauth%2fdrive%20https%3a%2f%2fwww.googleapis.com%2fauth%2fdrive.photos.readonly%20https%3a%2f%2fwww.googleapis.com%2fauth%2fpeopleapi.readonly\n",
      "\n",
      "Enter your authorization code:\n",
      "··········\n",
      "Mounted at /content/gdrive\n"
     ]
    }
   ],
   "source": [
    "from google.colab import drive\n",
    "drive.mount('/content/gdrive')"
   ]
  },
  {
   "cell_type": "code",
   "execution_count": 4,
   "metadata": {
    "colab": {
     "base_uri": "https://localhost:8080/",
     "height": 34
    },
    "colab_type": "code",
    "id": "B-4CKbtdNOif",
    "outputId": "1281828c-bf09-4aad-e03f-0d9015256117"
   },
   "outputs": [
    {
     "name": "stdout",
     "output_type": "stream",
     "text": [
      "We are currently in the folder of  /content/gdrive/My Drive/Mercari2\n"
     ]
    }
   ],
   "source": [
    "import os\n",
    "os.chdir('/content/gdrive/My Drive/Mercari2')\n",
    "print(\"We are currently in the folder of \",os.getcwd())"
   ]
  },
  {
   "cell_type": "markdown",
   "metadata": {
    "colab_type": "text",
    "id": "G7QNkVO6Nb9f"
   },
   "source": [
    "### <font color='red'> 12.2 Load Data From GDrive </font>"
   ]
  },
  {
   "cell_type": "code",
   "execution_count": 5,
   "metadata": {
    "colab": {
     "base_uri": "https://localhost:8080/",
     "height": 34
    },
    "colab_type": "code",
    "id": "BcMqUoTbNd8N",
    "outputId": "37ad5e2d-ea46-42e4-883f-92d50988fbfc"
   },
   "outputs": [
    {
     "name": "stdout",
     "output_type": "stream",
     "text": [
      "(1111901, 8) (370634, 8)\n"
     ]
    }
   ],
   "source": [
    "file = open('df_train_model', 'rb')\n",
    "df_train_model = pickle.load(file)\n",
    "file.close()\n",
    "\n",
    "file = open('df_test_model', 'rb')\n",
    "df_test_model = pickle.load(file)\n",
    "file.close()\n",
    "\n",
    "print(df_train_model.shape,df_test_model.shape)"
   ]
  },
  {
   "cell_type": "code",
   "execution_count": 6,
   "metadata": {
    "colab": {
     "base_uri": "https://localhost:8080/",
     "height": 34
    },
    "colab_type": "code",
    "id": "Y5g8nuDLNgJB",
    "outputId": "809070bf-ef7b-40e3-d0ec-0bad4e6ea1ac"
   },
   "outputs": [
    {
     "name": "stdout",
     "output_type": "stream",
     "text": [
      "(1111222, 8)\n"
     ]
    }
   ],
   "source": [
    "# ref - https://www.kaggle.com/valkling/mercari-rnn-2ridge-models-with-notes-0-42755\n",
    "\n",
    "df_train_model = df_train_model[(df_train_model.price >= 3) & (df_train_model.price <= 2000)]\n",
    "print(df_train_model.shape)"
   ]
  },
  {
   "cell_type": "markdown",
   "metadata": {
    "colab_type": "text",
    "id": "S2X2lvV_OLT9"
   },
   "source": [
    "### <font color='red'> 12.3 Encoding Data </font>"
   ]
  },
  {
   "cell_type": "code",
   "execution_count": 0,
   "metadata": {
    "colab": {},
    "colab_type": "code",
    "id": "9YMy9K9DOtAT"
   },
   "outputs": [],
   "source": [
    "# ref - https://www.kaggle.com/lopuhin/mercari-golf-0-3875-cv-in-75-loc-1900-s\n",
    "'''\n",
    "This Function concatenates text features from item-name,brand,category,description to create \n",
    "the concatenated text feature.\n",
    "'''\n",
    "\n",
    "def data_preprocess(df):\n",
    "    df['name'] = df['name'].fillna('') + ' ' + df['brand_name'].fillna('')\n",
    "    df['text'] = (df['item_description'].fillna('') + ' ' + df['name'] + ' ' + df['category_name'].fillna(''))\n",
    "    return df[['name', 'text', 'shipping', 'item_condition_id','price']]"
   ]
  },
  {
   "cell_type": "code",
   "execution_count": 0,
   "metadata": {
    "colab": {},
    "colab_type": "code",
    "id": "ClIH79axP8tm"
   },
   "outputs": [],
   "source": [
    "'''\n",
    "This Function takes in train,test datasets as input and returns \n",
    "feature transforms - Tfidfvectorizer,Onehotencoder,etc. and \n",
    "returns concatenated feature (hstack) of X_train,X_test,y_train,y_test as output.\n",
    "'''\n",
    "def data_encoder(train,test):\n",
    "    # Text Encoding for Names...\n",
    "    vect_name = TfidfVectorizer(max_features=100000, token_pattern='\\w+', dtype=np.float32)\n",
    "    train_name  = vect_name.fit_transform(train['name'].values)\n",
    "    test_name = vect_name.transform(test['name'].values)\n",
    "\n",
    "    # Text Encoding for Text...\n",
    "    vect_text = TfidfVectorizer(max_features=100000, token_pattern='\\w+', ngram_range=(1, 2), dtype=np.float32)\n",
    "    train_text  = vect_text.fit_transform(train['text'].values)\n",
    "    test_text = vect_text.transform(test['text'].values)\n",
    "\n",
    "    # Encoding for Shipping, Item Condition ID...\n",
    "    train_dummies = scipy.sparse.csr_matrix(pd.get_dummies(train[[\"item_condition_id\", \"shipping\"]], sparse = True).values)\n",
    "    test_dummies = scipy.sparse.csr_matrix(pd.get_dummies(test[[\"item_condition_id\", \"shipping\"]], sparse = True).values)\n",
    "\n",
    "    # Final Feature Stack for X_train,X_test\n",
    "    X_train = scipy.sparse.hstack((train_name, train_text, train_dummies)).tocsr().astype('float32')\n",
    "    X_test = scipy.sparse.hstack((test_name, test_text, test_dummies)).tocsr().astype('float32')\n",
    "\n",
    "    # Final Outputs.. y_train,y_test (Standardizing the output variable price) using standardscaler...\n",
    "    global y_scaler\n",
    "    y_scaler = StandardScaler()\n",
    "    y_train = y_scaler.fit_transform(np.log1p(train['price'].values.reshape(-1, 1)))\n",
    "    y_test = y_scaler.transform(np.log1p(test['price'].values.reshape(-1, 1)))\n",
    "\n",
    "    return X_train,X_test,y_train,y_test"
   ]
  },
  {
   "cell_type": "code",
   "execution_count": 47,
   "metadata": {
    "colab": {
     "base_uri": "https://localhost:8080/",
     "height": 34
    },
    "colab_type": "code",
    "id": "vSRZLAv5R4wc",
    "outputId": "2b84a975-7213-47ea-a5b1-fd0e6a14d65a"
   },
   "outputs": [
    {
     "name": "stdout",
     "output_type": "stream",
     "text": [
      "(1111222, 190546) (370634, 190546) (1111222, 1) (370634, 1)\n"
     ]
    }
   ],
   "source": [
    "X_train,X_test,y_train,y_test = data_encoder(data_preprocess(df_train_model),data_preprocess(df_test_model))\n",
    "print(X_train.shape,X_test.shape,y_train.shape,y_test.shape)"
   ]
  },
  {
   "cell_type": "markdown",
   "metadata": {
    "colab_type": "text",
    "id": "eyjomUkHXkzx"
   },
   "source": [
    "### <font color='red'> 12.4 Creating MLP Model </font>"
   ]
  },
  {
   "cell_type": "code",
   "execution_count": 0,
   "metadata": {
    "colab": {},
    "colab_type": "code",
    "id": "FWQdB7t0XnhE"
   },
   "outputs": [],
   "source": [
    "'''Building a Sparse MLP model'''\n",
    "\n",
    "def build_mlp_model(train):\n",
    "    model_in = Input(shape=(train.shape[1],), dtype='float32', sparse=True)\n",
    "    out = Dense(256, activation='relu')(model_in)\n",
    "    out = Dense(64, activation='relu')(out)\n",
    "    out = Dense(64, activation='relu')(out)\n",
    "    out = Dense(32, activation='relu')(out)\n",
    "    out = Dense(1)(out)\n",
    "    model = Model(model_in, out)\n",
    "    return model"
   ]
  },
  {
   "cell_type": "code",
   "execution_count": 51,
   "metadata": {
    "colab": {
     "base_uri": "https://localhost:8080/",
     "height": 353
    },
    "colab_type": "code",
    "id": "nbbt5qUZaIsw",
    "outputId": "46c2ed0b-8e9e-4ac0-acb8-bb75488fc925"
   },
   "outputs": [
    {
     "name": "stdout",
     "output_type": "stream",
     "text": [
      "Model: \"model_1\"\n",
      "_________________________________________________________________\n",
      "Layer (type)                 Output Shape              Param #   \n",
      "=================================================================\n",
      "input_2 (InputLayer)         [(None, 190546)]          0         \n",
      "_________________________________________________________________\n",
      "dense_5 (Dense)              (None, 256)               48780032  \n",
      "_________________________________________________________________\n",
      "dense_6 (Dense)              (None, 64)                16448     \n",
      "_________________________________________________________________\n",
      "dense_7 (Dense)              (None, 64)                4160      \n",
      "_________________________________________________________________\n",
      "dense_8 (Dense)              (None, 32)                2080      \n",
      "_________________________________________________________________\n",
      "dense_9 (Dense)              (None, 1)                 33        \n",
      "=================================================================\n",
      "Total params: 48,802,753\n",
      "Trainable params: 48,802,753\n",
      "Non-trainable params: 0\n",
      "_________________________________________________________________\n"
     ]
    }
   ],
   "source": [
    "'''Summarizing the model built'''\n",
    "\n",
    "baseline_mlp_model = build_mlp_model(X_train)\n",
    "baseline_mlp_model.summary()"
   ]
  },
  {
   "cell_type": "code",
   "execution_count": 52,
   "metadata": {
    "colab": {
     "base_uri": "https://localhost:8080/",
     "height": 644
    },
    "colab_type": "code",
    "id": "BABywpRhaiOw",
    "outputId": "3c5e9b90-c1c6-4eaf-9e54-a9dacf8a9fa7"
   },
   "outputs": [
    {
     "data": {
      "image/png": "[encoded data removed]",
      "text/plain": [
       "<IPython.core.display.Image object>"
      ]
     },
     "execution_count": 52,
     "metadata": {
      "tags": []
     },
     "output_type": "execute_result"
    }
   ],
   "source": [
    "'''Graphical Visualization of the Model'''\n",
    "\n",
    "plot_model(baseline_mlp_model, to_file='baseline_mlp_model.png', show_shapes=True, show_layer_names=True)\n",
    "Image(filename='baseline_mlp_model.png')"
   ]
  },
  {
   "cell_type": "markdown",
   "metadata": {
    "colab_type": "text",
    "id": "jyymdI72X2JB"
   },
   "source": [
    "### <font color='red'> 12.5 Train Model </font>"
   ]
  },
  {
   "cell_type": "code",
   "execution_count": 0,
   "metadata": {
    "colab": {},
    "colab_type": "code",
    "id": "s3JscUAZbw4N"
   },
   "outputs": [],
   "source": [
    "# ref - https://www.kaggle.com/lopuhin/mercari-golf-0-3875-cv-in-75-loc-1900-s\n",
    "'''This function builds a timer which prints time elapsed for a code section to execute'''\n",
    "\n",
    "@contextmanager\n",
    "def timer(name):\n",
    "    t0 = time.time()\n",
    "    yield\n",
    "    print(f'[{name}] done in {time.time() - t0:.0f} s')"
   ]
  },
  {
   "cell_type": "code",
   "execution_count": 0,
   "metadata": {
    "colab": {},
    "colab_type": "code",
    "id": "UoOgsWDAe5F_"
   },
   "outputs": [],
   "source": [
    "'''Defining the Evaluation Metric - RMSLE'''\n",
    "\n",
    "def rmsle_score(y, y_pred):\n",
    "    assert len(y) == len(y_pred)\n",
    "    to_sum = [(math.log(y_pred[i] + 1) - math.log(y[i] + 1)) ** 2.0 for i,pred in enumerate(y_pred)]\n",
    "    return (sum(to_sum) * (1.0/len(y))) ** 0.5"
   ]
  },
  {
   "cell_type": "code",
   "execution_count": 56,
   "metadata": {
    "colab": {
     "base_uri": "https://localhost:8080/",
     "height": 420
    },
    "colab_type": "code",
    "id": "ykMIbKcuX4Jm",
    "outputId": "b12e03eb-9994-4edc-fb1b-c3dae764760c"
   },
   "outputs": [
    {
     "name": "stdout",
     "output_type": "stream",
     "text": [
      "4340/4341 [============================>.] - ETA: 0s - loss: 0.2883\n",
      "Epoch 00001: val_loss improved from inf to 0.32293, saving model to baseline_mlp_model_epochs:001-val_loss:0.323.hdf5\n",
      "4341/4341 [==============================] - 100s 23ms/step - loss: 0.2883 - val_loss: 0.3229\n",
      "Test RMSLE for batch size =  256  is  0.4242432088221895 \n",
      "\n",
      "[epoch 1] done in 120 s\n",
      "2171/2171 [==============================] - ETA: 0s - loss: 0.1804\n",
      "Epoch 00001: val_loss improved from 0.32293 to 0.31812, saving model to baseline_mlp_model_epochs:001-val_loss:0.318.hdf5\n",
      "2171/2171 [==============================] - 58s 27ms/step - loss: 0.1804 - val_loss: 0.3181\n",
      "Test RMSLE for batch size =  512  is  0.4210777707203211 \n",
      "\n",
      "[epoch 2] done in 79 s\n",
      "1086/1086 [==============================] - ETA: 0s - loss: 0.1081\n",
      "Epoch 00001: val_loss improved from 0.31812 to 0.31722, saving model to baseline_mlp_model_epochs:001-val_loss:0.317.hdf5\n",
      "1086/1086 [==============================] - 37s 34ms/step - loss: 0.1081 - val_loss: 0.3172\n",
      "Test RMSLE for batch size =  1024  is  0.42047724993126756 \n",
      "\n",
      "[epoch 3] done in 58 s\n",
      "542/543 [============================>.] - ETA: 0s - loss: 0.0654\n",
      "Epoch 00001: val_loss did not improve from 0.31722\n",
      "543/543 [==============================] - 23s 42ms/step - loss: 0.0654 - val_loss: 0.3236\n",
      "Test RMSLE for batch size =  2048  is  0.4247170374035801 \n",
      "\n",
      "[epoch 4] done in 47 s\n"
     ]
    }
   ],
   "source": [
    "'''Training Model'''\n",
    "\n",
    "baseline_mlp_model.compile(loss='mean_squared_error', optimizer=optimizers.Adam(lr=3e-3))\n",
    "filepath = \"baseline_mlp_model_epochs:{epoch:03d}-val_loss:{val_loss:.3f}.hdf5\"\n",
    "checkpoint = ModelCheckpoint(filepath,monitor=\"val_loss\",mode=\"min\",save_best_only = True,verbose = 1)\n",
    "tensorboard = TensorBoard(log_dir='/content/gdrive/My Drive/Mercari2/log_baseline_mlp_model')\n",
    "callbacks_list = [checkpoint,tensorboard]\n",
    "\n",
    "# Training 3 Models with incremental Batch Sizes of (256,512,1024,2049) for 1 epoch each..\n",
    "for i in range(4):\n",
    "    with timer(f'epoch {i + 1}'):\n",
    "        baseline_mlp_model.fit(x=X_train, y=y_train, batch_size=2**(8 + i), epochs=1, verbose=1, validation_data=(X_test, y_test),callbacks = callbacks_list)\n",
    "        # print('Test RMSLE after epoch = ',i,' is ',rmsle_score(np.expm1(y_test) , np.expm1(baseline_mlp_model.predict(X_test)[:, 0])),'\\n')\n",
    "    \n",
    "        preds = baseline_mlp_model.predict(X_test)[:, 0]\n",
    "        y_pred = np.expm1(y_scaler.inverse_transform(preds.reshape(-1, 1))[:, 0])\n",
    "        print('Test RMSLE for batch size = ',2**(8 + i),' is ',rmsle_score(df_test_model.price.values , y_pred),'\\n')"
   ]
  },
  {
   "cell_type": "markdown",
   "metadata": {},
   "source": [
    "##### Results - Model with batch size = 512 gave the best results "
   ]
  },
  {
   "cell_type": "markdown",
   "metadata": {
    "colab_type": "text",
    "id": "IpU_Q1AqX4Si"
   },
   "source": [
    "### <font color='red'> 12.6 Test Model </font>\n"
   ]
  },
  {
   "cell_type": "code",
   "execution_count": 57,
   "metadata": {
    "colab": {
     "base_uri": "https://localhost:8080/",
     "height": 50
    },
    "colab_type": "code",
    "id": "Q-M-NkaseE1h",
    "outputId": "7ae602f4-34ca-46c2-b5a4-4f2456d2c429"
   },
   "outputs": [
    {
     "name": "stdout",
     "output_type": "stream",
     "text": [
      "WARNING:tensorflow:Error in loading the saved optimizer state. As a result, your model is starting with a freshly initialized optimizer.\n",
      "RMSLE of Test set is  0.42047725006422204\n"
     ]
    }
   ],
   "source": [
    "best_model = load_model('/content/gdrive/My Drive/Mercari2/baseline_mlp_model_epochs:001-val_loss:0.317.hdf5')\n",
    "\n",
    "preds = best_model.predict(X_test)[:, 0]\n",
    "y_pred = np.expm1(y_scaler.inverse_transform(preds.reshape(-1, 1))[:, 0])\n",
    "\n",
    "print('RMSLE of Test set is ',rmsle_score(df_test_model.price.values , y_pred))"
   ]
  },
  {
   "cell_type": "markdown",
   "metadata": {},
   "source": [
    "##### Summary - We obtain a Test RMSLE of 0.42, the best Model so far obtained"
   ]
  }
 ],
 "metadata": {
  "accelerator": "GPU",
  "colab": {
   "collapsed_sections": [],
   "machine_shape": "hm",
   "name": "5_mlp(colab).ipynb",
   "provenance": []
  },
  "kernelspec": {
   "display_name": "Python 3",
   "language": "python",
   "name": "python3"
  },
  "language_info": {
   "codemirror_mode": {
    "name": "ipython",
    "version": 3
   },
   "file_extension": ".py",
   "mimetype": "text/x-python",
   "name": "python",
   "nbconvert_exporter": "python",
   "pygments_lexer": "ipython3",
   "version": "3.7.3"
  }
 },
 "nbformat": 4,
 "nbformat_minor": 1
}
