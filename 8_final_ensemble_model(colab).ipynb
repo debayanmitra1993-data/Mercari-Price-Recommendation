{
 "cells": [
  {
   "cell_type": "markdown",
   "metadata": {
    "colab_type": "text",
    "id": "W7dcp8Y35HvE"
   },
   "source": [
    "#  <font color='red'>Table of Contents</font>\n"
   ]
  },
  {
   "cell_type": "markdown",
   "metadata": {
    "colab_type": "text",
    "id": "z2RIxPYI5Ii9"
   },
   "source": [
    "[14. Ensemble Model(Colab)](#section14)<br>\n"
   ]
  },
  {
   "cell_type": "code",
   "execution_count": 1,
   "metadata": {
    "colab": {
     "base_uri": "https://localhost:8080/",
     "height": 34
    },
    "colab_type": "code",
    "id": "CNNsEqfj5Qmh",
    "outputId": "4f0a02b4-06cb-43b8-914f-3de6efca48de"
   },
   "outputs": [
    {
     "name": "stdout",
     "output_type": "stream",
     "text": [
      "CWD is  C:\\Users\\demitra\\Downloads\\mercari\n"
     ]
    },
    {
     "name": "stderr",
     "output_type": "stream",
     "text": [
      "C:\\Users\\demitra\\AppData\\Local\\Continuum\\anaconda3\\lib\\site-packages\\smart_open\\ssh.py:34: UserWarning: paramiko missing, opening SSH/SCP/SFTP paths will be disabled.  `pip install paramiko` to suppress\n",
      "  warnings.warn('paramiko missing, opening SSH/SCP/SFTP paths will be disabled.  `pip install paramiko` to suppress')\n",
      "C:\\Users\\demitra\\AppData\\Local\\Continuum\\anaconda3\\lib\\site-packages\\gensim\\utils.py:1197: UserWarning: detected Windows; aliasing chunkize to chunkize_serial\n",
      "  warnings.warn(\"detected Windows; aliasing chunkize to chunkize_serial\")\n"
     ]
    }
   ],
   "source": [
    "#ref - https://stackoverflow.com/questions/14463277/how-to-disable-python-warnings\n",
    "\n",
    "# Basic Libs..\n",
    "import warnings\n",
    "warnings.filterwarnings(\"ignore\")\n",
    "import math\n",
    "import time\n",
    "import pandas as pd\n",
    "import numpy as np\n",
    "import scipy\n",
    "import scipy.sparse\n",
    "from tqdm import tqdm,tqdm_notebook\n",
    "from prettytable import PrettyTable\n",
    "import pickle\n",
    "from IPython.display import Image\n",
    "from contextlib import contextmanager\n",
    "import os\n",
    "print('CWD is ',os.getcwd())\n",
    "\n",
    "# Vis Libs..\n",
    "import seaborn as sns\n",
    "import matplotlib.pyplot as plt\n",
    "from wordcloud import WordCloud\n",
    "\n",
    "# Text Libs..\n",
    "import re\n",
    "from gensim import corpora, models\n",
    "import gensim\n",
    "from gensim.utils import simple_preprocess\n",
    "from gensim.parsing.preprocessing import STOPWORDS\n",
    "from nltk.stem import WordNetLemmatizer, SnowballStemmer,PorterStemmer\n",
    "from nltk.stem.porter import *\n",
    "import nltk\n",
    "from nltk.sentiment.vader import SentimentIntensityAnalyzer\n",
    "from sklearn.feature_extraction import DictVectorizer\n",
    "from sklearn.feature_extraction.text import CountVectorizer,TfidfVectorizer\n",
    "from sklearn.preprocessing import LabelBinarizer\n",
    "\n",
    "# ML Libs...\n",
    "from sklearn.model_selection import train_test_split\n",
    "from sklearn.preprocessing import StandardScaler, MinMaxScaler, OneHotEncoder,FunctionTransformer\n",
    "from sklearn.linear_model import Ridge\n",
    "from sklearn.metrics import mean_squared_error\n",
    "import lightgbm as lgb\n",
    "from sklearn.feature_selection import SelectKBest,f_regression\n",
    "from sklearn.model_selection import GridSearchCV\n",
    "\n",
    "\n",
    "# DL Libs..\n",
    "from tensorflow.keras.preprocessing.text import Tokenizer\n",
    "from tensorflow.keras.preprocessing.sequence import pad_sequences\n",
    "from tensorflow.keras.layers import Dense, Input , Dropout, Flatten,concatenate,LSTM\n",
    "from tensorflow.keras.layers import Embedding\n",
    "import tensorflow.keras\n",
    "from tensorflow.keras.models import Model,load_model\n",
    "from tensorflow.keras.layers import BatchNormalization\n",
    "from tensorflow.keras.utils import plot_model\n",
    "from tensorflow.keras.callbacks import ModelCheckpoint,TensorBoard,ReduceLROnPlateau, EarlyStopping\n",
    "from tensorflow.keras import backend as K\n",
    "from tensorflow.keras import optimizers"
   ]
  },
  {
   "cell_type": "markdown",
   "metadata": {
    "colab_type": "text",
    "id": "5Me4VyAa5Zsx"
   },
   "source": [
    "#  <a id = 'section12'> <font color='red'>  14. Ensemble Model (colab)  </font> </a>"
   ]
  },
  {
   "cell_type": "markdown",
   "metadata": {
    "colab_type": "text",
    "id": "tFLpJBVZ5eg8"
   },
   "source": [
    "### <font color='red'> 14.1 Setup Colab Environment </font>"
   ]
  },
  {
   "cell_type": "code",
   "execution_count": 0,
   "metadata": {
    "colab": {},
    "colab_type": "code",
    "id": "GbXkK1aX5XsN"
   },
   "outputs": [],
   "source": [
    "# Importing Libraries\n",
    "#ref - https://buomsoo-kim.github.io/colab/2018/04/16/Importing-files-from-Google-Drive-in-Google-Colab.md/\n",
    "\n",
    "# Colab Libs...\n",
    "from pydrive.auth import GoogleAuth\n",
    "from pydrive.drive import GoogleDrive\n",
    "from google.colab import auth\n",
    "from oauth2client.client import GoogleCredentials\n",
    "\n",
    "auth.authenticate_user()\n",
    "gauth = GoogleAuth()\n",
    "gauth.credentials = GoogleCredentials.get_application_default()\n",
    "drive = GoogleDrive(gauth)"
   ]
  },
  {
   "cell_type": "code",
   "execution_count": 0,
   "metadata": {
    "colab": {
     "base_uri": "https://localhost:8080/",
     "height": 121
    },
    "colab_type": "code",
    "id": "t7vqX04J5gae",
    "outputId": "0cc8ecfe-86f5-40d8-bc01-f0169b6ba2f7"
   },
   "outputs": [
    {
     "name": "stdout",
     "output_type": "stream",
     "text": [
      "Go to this URL in a browser: https://accounts.google.com/o/oauth2/auth?client_id=947318989803-6bn6qk8qdgf4n4g3pfee6491hc0brc4i.apps.googleusercontent.com&redirect_uri=urn%3aietf%3awg%3aoauth%3a2.0%3aoob&response_type=code&scope=email%20https%3a%2f%2fwww.googleapis.com%2fauth%2fdocs.test%20https%3a%2f%2fwww.googleapis.com%2fauth%2fdrive%20https%3a%2f%2fwww.googleapis.com%2fauth%2fdrive.photos.readonly%20https%3a%2f%2fwww.googleapis.com%2fauth%2fpeopleapi.readonly\n",
      "\n",
      "Enter your authorization code:\n",
      "··········\n",
      "Mounted at /content/gdrive\n"
     ]
    }
   ],
   "source": [
    "from google.colab import drive\n",
    "drive.mount('/content/gdrive')"
   ]
  },
  {
   "cell_type": "code",
   "execution_count": 0,
   "metadata": {
    "colab": {
     "base_uri": "https://localhost:8080/",
     "height": 34
    },
    "colab_type": "code",
    "id": "WiQJH8Y55gdQ",
    "outputId": "c71c9312-398f-4f3f-f4b2-43ebd521c35a"
   },
   "outputs": [
    {
     "name": "stdout",
     "output_type": "stream",
     "text": [
      "We are currently in the folder of  /content/gdrive/My Drive/Mercari2\n"
     ]
    }
   ],
   "source": [
    "import os\n",
    "os.chdir('/content/gdrive/My Drive/Mercari2')\n",
    "print(\"We are currently in the folder of \",os.getcwd())"
   ]
  },
  {
   "cell_type": "markdown",
   "metadata": {
    "colab_type": "text",
    "id": "twDk17Eo57pU"
   },
   "source": [
    "### <font color='red'> 14.2 Load Data From GDrive </font>"
   ]
  },
  {
   "cell_type": "code",
   "execution_count": 7,
   "metadata": {
    "colab": {
     "base_uri": "https://localhost:8080/",
     "height": 34
    },
    "colab_type": "code",
    "id": "iBJAzZLw59Wt",
    "outputId": "6a7824b0-ea5f-4e5e-bcce-4fc3fbd370d5"
   },
   "outputs": [
    {
     "name": "stdout",
     "output_type": "stream",
     "text": [
      "(1111901, 8) (370634, 8)\n"
     ]
    }
   ],
   "source": [
    "file = open('df_train_model', 'rb')\n",
    "df_train_model = pickle.load(file)\n",
    "file.close()\n",
    "\n",
    "file = open('df_test_model', 'rb')\n",
    "df_test_model = pickle.load(file)\n",
    "file.close()\n",
    "\n",
    "print(df_train_model.shape,df_test_model.shape)"
   ]
  },
  {
   "cell_type": "code",
   "execution_count": 8,
   "metadata": {
    "colab": {
     "base_uri": "https://localhost:8080/",
     "height": 34
    },
    "colab_type": "code",
    "id": "0d9ynCiD6AK4",
    "outputId": "c535d616-652a-4312-c427-c4d787a291d1"
   },
   "outputs": [
    {
     "name": "stdout",
     "output_type": "stream",
     "text": [
      "(1111222, 8)\n"
     ]
    }
   ],
   "source": [
    "# ref - https://www.kaggle.com/valkling/mercari-rnn-2ridge-models-with-notes-0-42755\n",
    "\n",
    "df_train_model = df_train_model[(df_train_model.price >= 3) & (df_train_model.price <= 2000)]\n",
    "print(df_train_model.shape)"
   ]
  },
  {
   "cell_type": "markdown",
   "metadata": {
    "colab_type": "text",
    "id": "U-re0vpb6CM8"
   },
   "source": [
    "### <font color='red'> 14.3 Data Preparation </font>"
   ]
  },
  {
   "cell_type": "code",
   "execution_count": 0,
   "metadata": {
    "colab": {},
    "colab_type": "code",
    "id": "-GOAouQR6Ewz"
   },
   "outputs": [],
   "source": [
    "def decontracted(phrase):\n",
    "    # specific\n",
    "    phrase = re.sub(r\"won't\", \"will not\", phrase)\n",
    "    phrase = re.sub(r\"can\\'t\", \"can not\", phrase)\n",
    "\n",
    "    # general\n",
    "    phrase = re.sub(r\"n\\'t\", \" not\", phrase)\n",
    "    phrase = re.sub(r\"\\'re\", \" are\", phrase)\n",
    "    phrase = re.sub(r\"\\'s\", \" is\", phrase)\n",
    "    phrase = re.sub(r\"\\'d\", \" would\", phrase)\n",
    "    phrase = re.sub(r\"\\'ll\", \" will\", phrase)\n",
    "    phrase = re.sub(r\"\\'t\", \" not\", phrase)\n",
    "    phrase = re.sub(r\"\\'ve\", \" have\", phrase)\n",
    "    phrase = re.sub(r\"\\'m\", \" am\", phrase)\n",
    "    return phrase\n",
    "\n",
    "# https://gist.github.com/sebleier/554280\n",
    "# we are removing the words from the stop words list: 'no', 'nor', 'not'\n",
    "stopwords= ['i', 'me', 'my', 'myself', 'we', 'our', 'ours', 'ourselves', 'you', \"you're\", \"you've\",\\\n",
    "            \"you'll\", \"you'd\", 'your', 'yours', 'yourself', 'yourselves', 'he', 'him', 'his', 'himself', \\\n",
    "            'she', \"she's\", 'her', 'hers', 'herself', 'it', \"it's\", 'its', 'itself', 'they', 'them', 'their',\\\n",
    "            'theirs', 'themselves', 'what', 'which', 'who', 'whom', 'this', 'that', \"that'll\", 'these', 'those', \\\n",
    "            'am', 'is', 'are', 'was', 'were', 'be', 'been', 'being', 'have', 'has', 'had', 'having', 'do', 'does', \\\n",
    "            'did', 'doing', 'a', 'an', 'the', 'and', 'but', 'if', 'or', 'because', 'as', 'until', 'while', 'of', \\\n",
    "            'at', 'by', 'for', 'with', 'about', 'against', 'between', 'into', 'through', 'during', 'before', 'after',\\\n",
    "            'above', 'below', 'to', 'from', 'up', 'down', 'in', 'out', 'on', 'off', 'over', 'under', 'again', 'further',\\\n",
    "            'then', 'once', 'here', 'there', 'when', 'where', 'why', 'how', 'all', 'any', 'both', 'each', 'few', 'more',\\\n",
    "            'most', 'other', 'some', 'such', 'only', 'own', 'same', 'so', 'than', 'too', 'very', \\\n",
    "            's', 't', 'can', 'will', 'just', 'don', \"don't\", 'should', \"should've\", 'now', 'd', 'll', 'm', 'o', 're', \\\n",
    "            've', 'y', 'ain', 'aren', \"aren't\", 'couldn', \"couldn't\", 'didn', \"didn't\", 'doesn', \"doesn't\", 'hadn',\\\n",
    "            \"hadn't\", 'hasn', \"hasn't\", 'haven', \"haven't\", 'isn', \"isn't\", 'ma', 'mightn', \"mightn't\", 'mustn',\\\n",
    "            \"mustn't\", 'needn', \"needn't\", 'shan', \"shan't\", 'shouldn', \"shouldn't\", 'wasn', \"wasn't\", 'weren', \"weren't\", \\\n",
    "            'won', \"won't\", 'wouldn', \"wouldn't\"]\n",
    "\n",
    "def text_preprocess(data):\n",
    "    preprocessed = []\n",
    "    # tqdm is for printing the status bar\n",
    "    for sentance in tqdm_notebook(data):\n",
    "        sent = decontracted(sentance)\n",
    "        sent = sent.replace('\\\\r', ' ')\n",
    "        sent = sent.replace('\\\\\"', ' ')\n",
    "        sent = sent.replace('\\\\n', ' ')\n",
    "        sent = re.sub('[^A-Za-z0-9]+', ' ', sent)\n",
    "        # https://gist.github.com/sebleier/554280\n",
    "        sent = ' '.join(e for e in sent.split() if e not in stopwords)\n",
    "        preprocessed.append(sent.lower().strip())\n",
    "    return preprocessed"
   ]
  },
  {
   "cell_type": "code",
   "execution_count": 0,
   "metadata": {
    "colab": {},
    "colab_type": "code",
    "id": "apZH3MVDmlh-"
   },
   "outputs": [],
   "source": [
    "# ref - https://www.kaggle.com/lopuhin/mercari-golf-0-3875-cv-in-75-loc-1900-s\n",
    "\n",
    "def data_preprocess(df):\n",
    "  df['name'] = df['name'].fillna('') + ' ' + df['brand_name'].fillna('')\n",
    "  df['text'] = (df['item_description'].fillna('') + ' ' + df['name'] + ' ' + df['category_name'].fillna(''))\n",
    "  return df[['name', 'text', 'shipping', 'item_condition_id','price']]"
   ]
  },
  {
   "cell_type": "code",
   "execution_count": 0,
   "metadata": {
    "colab": {},
    "colab_type": "code",
    "id": "5kBKNRaBmmIx"
   },
   "outputs": [],
   "source": [
    "def data_encoder(train,test):\n",
    "\n",
    "  # Text Encoding for Names...\n",
    "  vect_name = TfidfVectorizer(max_features=100000, token_pattern='\\w+', dtype=np.float32)\n",
    "  train_name  = vect_name.fit_transform(train['name'].values)\n",
    "  test_name = vect_name.transform(test['name'].values)\n",
    "\n",
    "  # Text Encoding for Text...\n",
    "  vect_text = TfidfVectorizer(max_features=100000, token_pattern='\\w+', ngram_range=(1, 2), dtype=np.float32)\n",
    "  train_text  = vect_text.fit_transform(train['text'].values)\n",
    "  test_text = vect_text.transform(test['text'].values)\n",
    "\n",
    "  # Encoding for Shipping, Item Condition ID...\n",
    "  train_dummies = scipy.sparse.csr_matrix(pd.get_dummies(train[[\"item_condition_id\", \"shipping\"]], sparse = True).values)\n",
    "  test_dummies = scipy.sparse.csr_matrix(pd.get_dummies(test[[\"item_condition_id\", \"shipping\"]], sparse = True).values)\n",
    "\n",
    "  # Final Feature Stack for X_train,X_test\n",
    "  X_train = scipy.sparse.hstack((train_name, train_text, train_dummies)).tocsr().astype('float32')\n",
    "  X_test = scipy.sparse.hstack((test_name, test_text, test_dummies)).tocsr().astype('float32')\n",
    "\n",
    "  # Final Outputs.. y_train,y_test\n",
    "  global y_scaler\n",
    "  y_scaler = StandardScaler()\n",
    "  y_train = y_scaler.fit_transform(np.log1p(train['price'].values.reshape(-1, 1)))\n",
    "  y_test = y_scaler.transform(np.log1p(test['price'].values.reshape(-1, 1)))\n",
    "\n",
    "  return X_train,X_test,y_train,y_test"
   ]
  },
  {
   "cell_type": "code",
   "execution_count": 0,
   "metadata": {
    "colab": {},
    "colab_type": "code",
    "id": "1rRZMzz6f_gw"
   },
   "outputs": [],
   "source": [
    "def text_concatenate(df):\n",
    "  df['text'] = (df['name'].astype(str).fillna('') + ' ' + df['brand_name'].astype(str).fillna('') + ' ' + \n",
    "                df['item_description'].astype(str).fillna('') + \" \" + df['category_name'].astype(str).fillna(''))\n",
    "  return df['text']"
   ]
  },
  {
   "cell_type": "code",
   "execution_count": 0,
   "metadata": {
    "colab": {},
    "colab_type": "code",
    "id": "aP3fTTfG_5uZ"
   },
   "outputs": [],
   "source": [
    "def text_tokenize(train,test):\n",
    "    t = Tokenizer()\n",
    "    t.fit_on_texts(train)\n",
    "    #print('Total number of words in the document are ',len(t.word_index) + 1)\n",
    "    train_tokenized = t.texts_to_sequences(train)\n",
    "    test_tokenized = t.texts_to_sequences(test)\n",
    "    return train_tokenized,test_tokenized,t"
   ]
  },
  {
   "cell_type": "code",
   "execution_count": 0,
   "metadata": {
    "colab": {},
    "colab_type": "code",
    "id": "mQM4z3Vu_6G8"
   },
   "outputs": [],
   "source": [
    "def text_padding(train,test,sl):\n",
    "    padded_train_text = pad_sequences(train, maxlen = sl, padding='pre')\n",
    "    padded_test_text = pad_sequences(test, maxlen = sl, padding='pre')\n",
    "    return padded_train_text,padded_test_text"
   ]
  },
  {
   "cell_type": "code",
   "execution_count": 0,
   "metadata": {
    "colab": {},
    "colab_type": "code",
    "id": "lBdXd8zn6Rne"
   },
   "outputs": [],
   "source": [
    "def text_encoder(train,test,vect_type,params):\n",
    "    vectorizer = CountVectorizer(ngram_range = params[0],min_df = params[1],max_df = params[2],max_features = params[3],token_pattern = '\\w+',\n",
    "                                 dtype = np.float32) if vect_type == 'BOW' else TfidfVectorizer(ngram_range = params[0],min_df = params[1],\n",
    "                                                                                                max_df = params[2],max_features = params[3],token_pattern = '\\w+',\n",
    "                                                                                                dtype = np.float32)\n",
    "    train_transform = vectorizer.fit_transform(train)\n",
    "    test_transform = vectorizer.transform(test)\n",
    "    feat_names = vectorizer.get_feature_names()\n",
    "    return train_transform,test_transform,feat_names"
   ]
  },
  {
   "cell_type": "code",
   "execution_count": 0,
   "metadata": {
    "colab": {},
    "colab_type": "code",
    "id": "J75c0krS6xiY"
   },
   "outputs": [],
   "source": [
    "def dummy_encoder(train,test):\n",
    "    train_transform = scipy.sparse.csr_matrix(pd.get_dummies(train[[\"item_condition_id\", \n",
    "                                                                         \"shipping\"]], sparse = True).values)\n",
    "    test_transform = scipy.sparse.csr_matrix(pd.get_dummies(test[[\"item_condition_id\", \n",
    "                                                                         \"shipping\"]], sparse = True).values)\n",
    "    return train_transform,test_transform"
   ]
  },
  {
   "cell_type": "code",
   "execution_count": 0,
   "metadata": {
    "colab": {},
    "colab_type": "code",
    "id": "9vsCNJOf6xyV"
   },
   "outputs": [],
   "source": [
    "def brand_encoder(train,test):\n",
    "    vect = LabelBinarizer(sparse_output=True)\n",
    "    train_transform = vect.fit_transform(train[\"brand_name\"])\n",
    "    test_transform = vect.transform(test[\"brand_name\"])\n",
    "    return train_transform,test_transform"
   ]
  },
  {
   "cell_type": "code",
   "execution_count": 0,
   "metadata": {
    "colab": {},
    "colab_type": "code",
    "id": "fPctf_G_6x2l"
   },
   "outputs": [],
   "source": [
    "def category_encoder(train,test):\n",
    "    unique_categories = pd.Series(\"/\".join(train[\"category_name\"].unique().astype(\"str\")).split(\"/\")).unique()\n",
    "    count_category = CountVectorizer(vocabulary = unique_categories,lowercase = False,binary = True)\n",
    "    train_transform = count_category.fit_transform(train[\"category_name\"])\n",
    "    test_transform = count_category.transform(test['category_name'])\n",
    "    return train_transform,test_transform"
   ]
  },
  {
   "cell_type": "code",
   "execution_count": 0,
   "metadata": {
    "colab": {},
    "colab_type": "code",
    "id": "vZEtJot08I3q"
   },
   "outputs": [],
   "source": [
    "def generate_cbs_stats(train,test):\n",
    "    df_group = train.groupby('cat_brand_ship',as_index = False).agg({\"shipping\" : len,\n",
    "                                                        \"log_price\" : [np.median, np.mean, np.std,np.min,np.max]})\n",
    "    df_group.columns = ['cat_brand_ship','cbs_count','cbs_log_price_median','cbs_log_price_mean','cbs_log_price_std',\n",
    "                    'cbs_log_price_min','cbs_log_price_max']\n",
    "\n",
    "    df_group['cbs_log_price_std'] = df_group['cbs_log_price_std'].fillna(0)\n",
    "    df_group['cbs_log_price_conf_variance'] = df_group['cbs_log_price_std'] / df_group['cbs_log_price_mean']\n",
    "    df_group['cbs_log_count'] = np.log1p(df_group['cbs_count'])\n",
    "    df_group['cbs_min_expected_log_price'] = (df_group['cbs_log_price_mean'] - (df_group['cbs_log_price_std']*2)).clip(lower=1.0)\n",
    "    df_group['cbs_max_expected_log_price'] = (df_group['cbs_log_price_mean'] + (df_group['cbs_log_price_std']*2))\n",
    "    \n",
    "    df_group_stats = test.merge(df_group.reset_index(),\n",
    "                                      how = 'left',\n",
    "                                      on = 'cat_brand_ship')[['cbs_log_price_mean','cbs_min_expected_log_price','cbs_max_expected_log_price']].fillna(0).values\n",
    "    \n",
    "    scaler = StandardScaler(copy=True)\n",
    "    cbs_feats_scaled = scaler.fit_transform(df_group_stats)\n",
    "    return cbs_feats_scaled"
   ]
  },
  {
   "cell_type": "code",
   "execution_count": 0,
   "metadata": {
    "colab": {},
    "colab_type": "code",
    "id": "mm2Drgd18xHP"
   },
   "outputs": [],
   "source": [
    "def self_token(column):\n",
    "    unique = list(set(column))\n",
    "    total = list(column)\n",
    "    size = len(unique)\n",
    "    count = []\n",
    "    for category in unique:\n",
    "        count.append([total.count(category),category])\n",
    "    count.sort()\n",
    "    rank = {}\n",
    "    for i in range(1,len(count)+1):\n",
    "        rank.update({count[i-1][1] : i})\n",
    "    return (rank , unique,size)\n",
    "\n",
    "def lstm_category_encoder(train,test):\n",
    "    cat_rank, unique,size = self_token(train)\n",
    "    encoded_train = []\n",
    "    encoded_test = []\n",
    "    for category in train:\n",
    "        encoded_train.append(cat_rank[category])\n",
    "\n",
    "    for category in test:\n",
    "        if category in unique:\n",
    "            encoded_test.append(cat_rank[category]) \n",
    "        else:\n",
    "            encoded_test.append(0) \n",
    "    encoded_train = np.asarray(encoded_train)\n",
    "    encoded_test = np.asarray(encoded_test)\n",
    "    return encoded_train,encoded_test,size"
   ]
  },
  {
   "cell_type": "code",
   "execution_count": 0,
   "metadata": {
    "colab": {},
    "colab_type": "code",
    "id": "lzwIR96_9w60"
   },
   "outputs": [],
   "source": [
    "def generate_embedding_matrix(token):\n",
    "    with open('glove_vectors', 'rb') as f:\n",
    "        model = pickle.load(f)\n",
    "        glove_words =  set(model.keys())\n",
    "        \n",
    "    embedding_matrix_text = np.zeros((len(token.word_index) + 1, 300))\n",
    "    for word, i in tqdm_notebook(token.word_index.items()):\n",
    "        if word in glove_words:\n",
    "            embedding_vector = model[word]\n",
    "            embedding_matrix_text[i] = embedding_vector\n",
    "    \n",
    "    return embedding_matrix_text"
   ]
  },
  {
   "cell_type": "code",
   "execution_count": 0,
   "metadata": {
    "colab": {
     "base_uri": "https://localhost:8080/",
     "height": 229,
     "referenced_widgets": [
      "547edf3417bb430c8c025eeeeb13b27c",
      "b863bd24d633425595219addc6896d08",
      "5f23990d596e4c80b17fa67cad4f7f43",
      "e9d66c9785b74b589d1b480ce6827120",
      "970e55dc15be4198b1d149cf2dbaafc1",
      "8538b735adcb45449ffe14edf7d6956a",
      "f720630bdb144dd1acef951e43effd11",
      "2ee7f20cdf6042e0b5d393b0bdedf9aa",
      "dc0233a0d44f4a3bbfb4dbf62cedf0db",
      "0e5c8c1845144ceea3854bed2151fdc6",
      "75a133cb5f90498ca7aec4957711e4e7",
      "3d286953cb88488bbe996d6956f800f6",
      "9ba2791dece5429fa6251fbeb8288a44",
      "66eb9579b9274fca8c2894cd92d50061",
      "c14c2bf6fde344f8bc48a06fa3452845",
      "e4db030ab8bc4e3db2cb08eeb11c4117",
      "b7e4e4776c0a424fada2152a7b32d062",
      "295d9bf85b2c4afd987f77353dba1f66",
      "afcb206b9c2c4bbaa0e89e5d02608e1c",
      "cff56002e66547fe8f1a8142413c6969",
      "4ed12d3ea9594e26bbded0511ea4682e",
      "383010638f914463ae7c0b985821abe0",
      "2b52c573ca8649cd860a51f4a353b172",
      "48e0c8501b3c43c2a4b1ca587ed5b6be",
      "2a24d8425d064648b89ae957428eaf1a",
      "764842df866f424992fb00812630f17e",
      "eb9b86b793ef4b0b9a06d4892cfc61d4",
      "2b47be5148f14e529374557c2d016ffa",
      "a32c2d6f077643caa15c13a9b632c26d",
      "c4fe47f3dfd946b08aa5b9b9649bbb44",
      "a937e2b105a54b488e391138867546b5",
      "ffbb695f1dda43059701fdb2b74bfcc1"
     ]
    },
    "colab_type": "code",
    "id": "pzwFn0RH5yFE",
    "outputId": "8e58f14e-36e5-402c-8248-297169d45d9e"
   },
   "outputs": [
    {
     "data": {
      "application/vnd.jupyter.widget-view+json": {
       "model_id": "547edf3417bb430c8c025eeeeb13b27c",
       "version_major": 2,
       "version_minor": 0
      },
      "text/plain": [
       "HBox(children=(IntProgress(value=0, max=1111222), HTML(value='')))"
      ]
     },
     "metadata": {
      "tags": []
     },
     "output_type": "display_data"
    },
    {
     "name": "stdout",
     "output_type": "stream",
     "text": [
      "\n"
     ]
    },
    {
     "data": {
      "application/vnd.jupyter.widget-view+json": {
       "model_id": "dc0233a0d44f4a3bbfb4dbf62cedf0db",
       "version_major": 2,
       "version_minor": 0
      },
      "text/plain": [
       "HBox(children=(IntProgress(value=0, max=370634), HTML(value='')))"
      ]
     },
     "metadata": {
      "tags": []
     },
     "output_type": "display_data"
    },
    {
     "name": "stdout",
     "output_type": "stream",
     "text": [
      "\n"
     ]
    },
    {
     "data": {
      "application/vnd.jupyter.widget-view+json": {
       "model_id": "b7e4e4776c0a424fada2152a7b32d062",
       "version_major": 2,
       "version_minor": 0
      },
      "text/plain": [
       "HBox(children=(IntProgress(value=0, max=1111222), HTML(value='')))"
      ]
     },
     "metadata": {
      "tags": []
     },
     "output_type": "display_data"
    },
    {
     "name": "stdout",
     "output_type": "stream",
     "text": [
      "\n"
     ]
    },
    {
     "data": {
      "application/vnd.jupyter.widget-view+json": {
       "model_id": "2a24d8425d064648b89ae957428eaf1a",
       "version_major": 2,
       "version_minor": 0
      },
      "text/plain": [
       "HBox(children=(IntProgress(value=0, max=370634), HTML(value='')))"
      ]
     },
     "metadata": {
      "tags": []
     },
     "output_type": "display_data"
    },
    {
     "name": "stdout",
     "output_type": "stream",
     "text": [
      "\n",
      "(1111222, 32577) (370634, 32577) (1111222, 100000) (370634, 100000)\n"
     ]
    }
   ],
   "source": [
    "train_bow_name,test_bow_name,bow_name_feats = text_encoder(text_preprocess(df_train_model['name'].replace([np.nan], '')),\n",
    "                                                       text_preprocess(df_test_model['name'].replace([np.nan], '')),\n",
    "                                                       'BOW',\n",
    "                                                       ((1,3),25,1.0,50000))\n",
    "train_bow_desc,test_bow_desc,bow_desc_feats = text_encoder(text_preprocess(df_train_model['item_description'].replace([np.nan,'No description yet'], '')),\n",
    "                                                       text_preprocess(df_test_model['item_description'].replace([np.nan,'No description yet'], '')),\n",
    "                                                       'BOW',\n",
    "                                                       ((1,3),30,1.0,100000))\n",
    "print(train_bow_name.shape,test_bow_name.shape,train_bow_desc.shape,test_bow_desc.shape)"
   ]
  },
  {
   "cell_type": "code",
   "execution_count": 0,
   "metadata": {
    "colab": {
     "base_uri": "https://localhost:8080/",
     "height": 229,
     "referenced_widgets": [
      "b9c06b071f8f4a8c943325963a2ec536",
      "340aba14caac41f6a6d8dc5a0ab5cb67",
      "3b3ded094b6d4d3c9b1c8b0f3a52f91c",
      "2a6dd970ffff4ead8684fe0aeba9baa5",
      "f5e1dfbe3f25479d947026e1d9dc3382",
      "27f5cb1f84e94b759391d39d4069f745",
      "abf1bd70d9544add99ed5956749b7644",
      "c71578b2e3d34acdad85967722a07b4f",
      "a5a1825b0ba441b2912d87f7d8651866",
      "2395e2123efc4e61bbd48ea037522535",
      "d928d54580934f8a8ce26973a4528f7c",
      "d6f5ba9f8e054b6c945bd940d0035778",
      "ada31f58d52d4376aa8dbc8a168caf71",
      "5e2144cc751e4239be893dfd7b81986d",
      "f4adffb5162b4359a870cd1e57994be7",
      "d40a49e648974bb5af7ff70108348e85",
      "f73e5f8a321c4500bfbc96f8bef86b53",
      "129838d6f1ae434b8c03bce1ec7c021e",
      "cff12855a0ff4534b6b5dd58adc3baca",
      "b82cfb5630ce45fabb618a5353b2a8ad",
      "743f4ddb82b5413a9ffd89f98ecd184a",
      "b79000544a0c4f249d749fe7ef7c33d0",
      "a30f83b4f5c0439381b32990bf966083",
      "e846b0c1d9c0454496da5f0b3d164152",
      "7f55963f25574d4db64eb404bca5c890",
      "b573dae032d64abf9f755d71969d1d53",
      "4006477a4e02476882b3d7ff733dbe81",
      "4e90876ee5d74c26a4195347f54a795e",
      "de8da20f4a9a4cc1a48be18d834d8c2a",
      "1ee062c1882242408d2a6de86acff862",
      "7c5ac13d10fe457b968645bcfe473adc",
      "b53a3ece692d411fa49e13b65176e42c"
     ]
    },
    "colab_type": "code",
    "id": "-aMSTRh3_WIf",
    "outputId": "20db83c2-0785-446a-946f-15f3b57add87"
   },
   "outputs": [
    {
     "data": {
      "application/vnd.jupyter.widget-view+json": {
       "model_id": "b9c06b071f8f4a8c943325963a2ec536",
       "version_major": 2,
       "version_minor": 0
      },
      "text/plain": [
       "HBox(children=(IntProgress(value=0, max=1111222), HTML(value='')))"
      ]
     },
     "metadata": {
      "tags": []
     },
     "output_type": "display_data"
    },
    {
     "name": "stdout",
     "output_type": "stream",
     "text": [
      "\n"
     ]
    },
    {
     "data": {
      "application/vnd.jupyter.widget-view+json": {
       "model_id": "a5a1825b0ba441b2912d87f7d8651866",
       "version_major": 2,
       "version_minor": 0
      },
      "text/plain": [
       "HBox(children=(IntProgress(value=0, max=370634), HTML(value='')))"
      ]
     },
     "metadata": {
      "tags": []
     },
     "output_type": "display_data"
    },
    {
     "name": "stdout",
     "output_type": "stream",
     "text": [
      "\n"
     ]
    },
    {
     "data": {
      "application/vnd.jupyter.widget-view+json": {
       "model_id": "f73e5f8a321c4500bfbc96f8bef86b53",
       "version_major": 2,
       "version_minor": 0
      },
      "text/plain": [
       "HBox(children=(IntProgress(value=0, max=1111222), HTML(value='')))"
      ]
     },
     "metadata": {
      "tags": []
     },
     "output_type": "display_data"
    },
    {
     "name": "stdout",
     "output_type": "stream",
     "text": [
      "\n"
     ]
    },
    {
     "data": {
      "application/vnd.jupyter.widget-view+json": {
       "model_id": "7f55963f25574d4db64eb404bca5c890",
       "version_major": 2,
       "version_minor": 0
      },
      "text/plain": [
       "HBox(children=(IntProgress(value=0, max=370634), HTML(value='')))"
      ]
     },
     "metadata": {
      "tags": []
     },
     "output_type": "display_data"
    },
    {
     "name": "stdout",
     "output_type": "stream",
     "text": [
      "\n",
      "(1111222, 32577) (370634, 32577) (1111222, 100000) (370634, 100000)\n"
     ]
    }
   ],
   "source": [
    "train_tfidf_name,test_tfidf_name,tfidf_name_feats = text_encoder(text_preprocess(df_train_model['name'].replace([np.nan], '')),\n",
    "                                                       text_preprocess(df_test_model['name'].replace([np.nan], '')),\n",
    "                                                       'TFIDF',\n",
    "                                                       ((1,3),25,1.0,50000))\n",
    "train_tfidf_desc,test_tfidf_desc,tfidf_desc_feats = text_encoder(text_preprocess(df_train_model['item_description'].replace([np.nan,'No description yet'], '')),\n",
    "                                                       text_preprocess(df_test_model['item_description'].replace([np.nan,'No description yet'], '')),\n",
    "                                                       'TFIDF',\n",
    "                                                       ((1,3),30,1.0,100000))\n",
    "print(train_tfidf_name.shape,test_tfidf_name.shape,train_tfidf_desc.shape,test_tfidf_desc.shape)"
   ]
  },
  {
   "cell_type": "code",
   "execution_count": 0,
   "metadata": {
    "colab": {
     "base_uri": "https://localhost:8080/",
     "height": 34
    },
    "colab_type": "code",
    "id": "3QseZ5775_S_",
    "outputId": "7416cbd0-bebf-4a03-94b5-302da838ac8c"
   },
   "outputs": [
    {
     "name": "stdout",
     "output_type": "stream",
     "text": [
      "(1111222, 4445) (370634, 4445)\n"
     ]
    }
   ],
   "source": [
    "train_brand,test_brand = brand_encoder(pd.DataFrame(df_train_model[\"brand_name\"].fillna(\"missing\").astype(\"category\")),\n",
    "                                       pd.DataFrame(df_test_model[\"brand_name\"].fillna(\"missing\").astype(\"category\")))\n",
    "print(train_brand.shape,test_brand.shape)"
   ]
  },
  {
   "cell_type": "code",
   "execution_count": 0,
   "metadata": {
    "colab": {
     "base_uri": "https://localhost:8080/",
     "height": 34
    },
    "colab_type": "code",
    "id": "bt0rJqzl8F8c",
    "outputId": "a997b8c4-2b51-4a4a-d5cd-2459caac3629"
   },
   "outputs": [
    {
     "name": "stdout",
     "output_type": "stream",
     "text": [
      "(1111222, 932) (370634, 932)\n"
     ]
    }
   ],
   "source": [
    "train_category,test_category = category_encoder(pd.DataFrame(df_train_model[\"category_name\"].fillna(\"missing\").astype(\"category\")),\n",
    "                                                pd.DataFrame(df_test_model[\"category_name\"].fillna(\"missing\").astype(\"category\")))\n",
    "print(train_category.shape,test_category.shape)"
   ]
  },
  {
   "cell_type": "code",
   "execution_count": 0,
   "metadata": {
    "colab": {
     "base_uri": "https://localhost:8080/",
     "height": 34
    },
    "colab_type": "code",
    "id": "4mIX1gxB8Rc4",
    "outputId": "af4c7014-4fba-41fe-b1cf-119922290a62"
   },
   "outputs": [
    {
     "name": "stdout",
     "output_type": "stream",
     "text": [
      "(1111222, 7) (370634, 7)\n"
     ]
    }
   ],
   "source": [
    "train_dummies,test_dummies = dummy_encoder(pd.DataFrame({\"shipping\" : df_train_model[\"shipping\"].astype(\"category\"),\n",
    "                                                         \"item_condition_id\" : df_train_model[\"item_condition_id\"].astype(\"category\")}),\n",
    "                                           pd.DataFrame({\"shipping\" : df_test_model[\"shipping\"].astype(\"category\"),\n",
    "                                                         \"item_condition_id\" : df_test_model[\"item_condition_id\"].astype(\"category\")}))\n",
    "print(train_dummies.shape,test_dummies.shape)"
   ]
  },
  {
   "cell_type": "markdown",
   "metadata": {
    "colab_type": "text",
    "id": "h4MN5aGp-Nq5"
   },
   "source": [
    "### <font color='red'> 14.4 Models </font>"
   ]
  },
  {
   "cell_type": "code",
   "execution_count": 5,
   "metadata": {
    "colab": {},
    "colab_type": "code",
    "id": "QfO_rVci-TEP"
   },
   "outputs": [],
   "source": [
    "def rmsle_score(y, y_pred):\n",
    "    assert len(y) == len(y_pred)\n",
    "    to_sum = [(math.log(y_pred[i] + 1) - math.log(y[i] + 1)) ** 2.0 for i,pred in enumerate(y_pred)]\n",
    "    return (sum(to_sum) * (1.0/len(y))) ** 0.5"
   ]
  },
  {
   "cell_type": "code",
   "execution_count": 0,
   "metadata": {
    "colab": {},
    "colab_type": "code",
    "id": "7CSZPe2V-QKs"
   },
   "outputs": [],
   "source": [
    "def ridge_model(X_train,y_train,params):\n",
    "  model = Ridge(solver = \"lsqr\", fit_intercept=False,alpha = params)\n",
    "  model.fit(X_train,y_train)\n",
    "  return model"
   ]
  },
  {
   "cell_type": "code",
   "execution_count": 0,
   "metadata": {
    "colab": {},
    "colab_type": "code",
    "id": "1cyRifC2-zEO"
   },
   "outputs": [],
   "source": [
    "def build_lstm_model_1(TEXT_LENGTH,tokenizer,embedding_matrix,\n",
    "                      ship_size,ici_size,NUMERIC_LENGTH):\n",
    "    \n",
    "  text_input = Input(shape=(TEXT_LENGTH,), name='TEXT_NAME_DESC_BRAND_CATEGORY')\n",
    "  x = Embedding(len(tokenizer.word_index) + 1, 300, weights=[embedding_matrix], input_length=TEXT_LENGTH)(text_input)\n",
    "  lstm_out = LSTM(100,recurrent_dropout=0.25,return_sequences=True)(x)\n",
    "  flatten_1 = Flatten()(lstm_out)\n",
    "\n",
    "  shipping_feat = Input(shape=(1,), name='SHIPPING')\n",
    "  x = Embedding(ship_size + 1, 10, input_length=1)(shipping_feat)\n",
    "  flatten_2 = Flatten()(x)\n",
    "\n",
    "  item_cond_feat = Input(shape=(1,), name='ITEM_CONDITION')\n",
    "  x = Embedding(ici_size + 1, 10, input_length=1)(item_cond_feat)\n",
    "  flatten_3 = Flatten()(x)\n",
    "\n",
    "  numeric_feat = Input(shape=(NUMERIC_LENGTH,), name='NUMERIC_FEATURES')\n",
    "  dense_1 = Dense(1, activation='relu',kernel_initializer=\"he_normal\",kernel_regularizer=tensorflow.keras.regularizers.l2(0.001))(numeric_feat)\n",
    "\n",
    "  x = concatenate([flatten_1,flatten_2,flatten_3,dense_1])\n",
    "\n",
    "  x = Dense(100, activation='relu',kernel_initializer=\"he_normal\",kernel_regularizer=tensorflow.keras.regularizers.l2(0.001))(x)\n",
    "  x = Dropout(0.2)(x)\n",
    "  x = BatchNormalization()(x)\n",
    "  x = Dense(50, activation='relu',kernel_initializer=\"he_normal\",kernel_regularizer=tensorflow.keras.regularizers.l2(0.001))(x)\n",
    "  x = Dropout(0.3)(x)\n",
    "  x = BatchNormalization()(x)\n",
    "  x = Dense(10, activation='relu',kernel_initializer=\"he_normal\",kernel_regularizer=tensorflow.keras.regularizers.l2(0.001))(x)\n",
    "  final_output = Dense(1, activation='linear')(x)\n",
    "\n",
    "  model = Model(inputs=[text_input,shipping_feat,item_cond_feat,numeric_feat], outputs=[final_output])\n",
    "  return model"
   ]
  },
  {
   "cell_type": "code",
   "execution_count": 0,
   "metadata": {
    "colab": {},
    "colab_type": "code",
    "id": "glyrOQBt_Sp_"
   },
   "outputs": [],
   "source": [
    "def build_mlp_model1(train_shape):\n",
    "  model_in = Input(shape=(train_shape,), dtype='float32', sparse=True)\n",
    "  out = Dense(256, activation='relu')(model_in)\n",
    "  out = Dense(64, activation='relu')(out)\n",
    "  out = Dense(64, activation='relu')(out)\n",
    "  out = Dense(32, activation='relu')(out)\n",
    "  out = Dense(1)(out)\n",
    "  model = Model(model_in, out)\n",
    "  return model"
   ]
  },
  {
   "cell_type": "code",
   "execution_count": 0,
   "metadata": {
    "colab": {},
    "colab_type": "code",
    "id": "NrygtaPyo9ZM"
   },
   "outputs": [],
   "source": [
    "def build_mlp_model2(train_shape):\n",
    "  model_in = Input(shape=(train_shape,), dtype='float32', sparse=True)\n",
    "  out = Dense(1024, activation='relu')(model_in)\n",
    "  out = Dense(512, activation='relu')(out)\n",
    "  out = Dense(256, activation='relu')(out)\n",
    "  out = Dense(128, activation='relu')(out)\n",
    "  out = Dense(64, activation='relu')(out)\n",
    "  out = Dense(32, activation='relu')(out)\n",
    "  out = Dense(1)(out)\n",
    "  model = Model(model_in, out)\n",
    "  return model"
   ]
  },
  {
   "cell_type": "code",
   "execution_count": 0,
   "metadata": {
    "colab": {},
    "colab_type": "code",
    "id": "OMqMHW67p8zW"
   },
   "outputs": [],
   "source": [
    "def build_mlp_model3(train_shape):\n",
    "  model_in = Input(shape=(train_shape,), dtype='float32', sparse=True)\n",
    "  out = Dense(1024, activation='relu')(model_in)\n",
    "  out = Dense(512, activation='relu')(out)\n",
    "  out = Dropout(0.2)(out)\n",
    "  out = Dense(256, activation='relu')(out)\n",
    "  out = Dropout(0.25)(out)\n",
    "  out = Dense(128, activation='relu')(out)\n",
    "  out = BatchNormalization()(out)\n",
    "  out = Dense(64, activation='relu')(out)\n",
    "  out = Dense(32, activation='relu')(out)\n",
    "  out = Dense(1)(out)\n",
    "  model = Model(model_in, out)\n",
    "  return model"
   ]
  },
  {
   "cell_type": "code",
   "execution_count": 0,
   "metadata": {
    "colab": {},
    "colab_type": "code",
    "id": "hhcWhvFm21Qz"
   },
   "outputs": [],
   "source": [
    "def train_nn(X_train,y_train,X_test,y_test,model,filepath,bsize,tb_logdir,ep):\n",
    "  model.compile(optimizer='adam', loss='mean_squared_error')\n",
    "  history = model.fit(X_train,y_train, batch_size=bsize, epochs=ep, \n",
    "                                    verbose=1, validation_data=(X_test, y_test),\n",
    "                                    callbacks = [ModelCheckpoint(filepath,monitor=\"val_loss\",mode=\"min\",save_best_only = True,verbose = 1),\n",
    "                                                 TensorBoard(log_dir=tb_logdir)])\n",
    "  return history,model"
   ]
  },
  {
   "cell_type": "code",
   "execution_count": 0,
   "metadata": {
    "colab": {},
    "colab_type": "code",
    "id": "zscgn8zno7eY"
   },
   "outputs": [],
   "source": [
    "# ref - https://www.kaggle.com/lopuhin/mercari-golf-0-3875-cv-in-75-loc-1900-s\n",
    "\n",
    "@contextmanager\n",
    "def timer(name):\n",
    "    t0 = time.time()\n",
    "    yield\n",
    "    print(f'[{name}] done in {time.time() - t0:.0f} s')"
   ]
  },
  {
   "cell_type": "markdown",
   "metadata": {
    "colab_type": "text",
    "id": "VzITjV22_jg5"
   },
   "source": [
    "### <font color='red'> 14.5 Generate Ensembles </font>"
   ]
  },
  {
   "cell_type": "markdown",
   "metadata": {
    "colab_type": "text",
    "id": "IKQ4efGi3WuD"
   },
   "source": [
    "**RIDGE BOW**"
   ]
  },
  {
   "cell_type": "code",
   "execution_count": 0,
   "metadata": {
    "colab": {
     "base_uri": "https://localhost:8080/",
     "height": 67
    },
    "colab_type": "code",
    "id": "RMvXyBEb_oby",
    "outputId": "a4996d26-0d1a-49c6-c222-973dc5f2bccc"
   },
   "outputs": [
    {
     "name": "stdout",
     "output_type": "stream",
     "text": [
      "(1111222, 137961) (370634, 137961) (1111222,) (370634,)\n",
      "Test RMSLE =  0.47188263626134835 \n",
      "\n"
     ]
    }
   ],
   "source": [
    "X_train = scipy.sparse.hstack((train_brand,train_category,train_dummies,train_bow_name,train_bow_desc)).tocsr().astype('float32')\n",
    "X_test = scipy.sparse.hstack((test_brand,test_category,test_dummies,test_bow_name,test_bow_desc)).tocsr().astype('float32')\n",
    "\n",
    "y_train = np.log1p(df_train_model['price'])\n",
    "y_test = np.log1p(df_test_model['price'])\n",
    "print(X_train.shape,X_test.shape,y_train.shape,y_test.shape)\n",
    "\n",
    "ridge = ridge_model(X_train,y_train,10)\n",
    "preds_ridge1 = np.expm1(ridge.predict(X_test))\n",
    "print('Test RMSLE = ',rmsle_score(np.expm1(y_test).values , preds_ridge1),'\\n')\n",
    "del ridge\n",
    "\n",
    "#file = open('preds_ridge1', 'wb')\n",
    "#pickle.dump(preds_ridge1, file)\n",
    "#file.close()"
   ]
  },
  {
   "cell_type": "markdown",
   "metadata": {
    "colab_type": "text",
    "id": "B3qnnujO--YX"
   },
   "source": [
    "**RIDGE TFIDF**"
   ]
  },
  {
   "cell_type": "code",
   "execution_count": 0,
   "metadata": {
    "colab": {
     "base_uri": "https://localhost:8080/",
     "height": 67
    },
    "colab_type": "code",
    "id": "QIPxzhCv_BV_",
    "outputId": "7cb0a2bb-d1bf-4d4e-9386-7c24471f4f32"
   },
   "outputs": [
    {
     "name": "stdout",
     "output_type": "stream",
     "text": [
      "(1111222, 137961) (370634, 137961) (1111222,) (370634,)\n",
      "Test RMSLE =  0.4771104326487539 \n",
      "\n"
     ]
    }
   ],
   "source": [
    "X_train = scipy.sparse.hstack((train_brand,train_category,train_dummies,train_tfidf_name,train_tfidf_desc)).tocsr().astype('float32')\n",
    "X_test = scipy.sparse.hstack((test_brand,test_category,test_dummies,test_tfidf_name,test_tfidf_desc)).tocsr().astype('float32')\n",
    "\n",
    "y_train = np.log1p(df_train_model['price'])\n",
    "y_test = np.log1p(df_test_model['price'])\n",
    "print(X_train.shape,X_test.shape,y_train.shape,y_test.shape)\n",
    "\n",
    "ridge = ridge_model(X_train,y_train,10)\n",
    "preds_ridge2 = np.expm1(ridge.predict(X_test))\n",
    "print('Test RMSLE = ',rmsle_score(np.expm1(y_test).values , preds_ridge2),'\\n')\n",
    "del ridge\n",
    "\n",
    "#file = open('preds_ridge2', 'wb')\n",
    "#pickle.dump(preds_ridge2, file)\n",
    "#file.close()"
   ]
  },
  {
   "cell_type": "markdown",
   "metadata": {
    "colab_type": "text",
    "id": "kC85CedRPN7p"
   },
   "source": [
    "**LGBM**"
   ]
  },
  {
   "cell_type": "code",
   "execution_count": 0,
   "metadata": {
    "colab": {},
    "colab_type": "code",
    "id": "aZEWCMCjYJop"
   },
   "outputs": [],
   "source": [
    "'''Done in Local CPU (Notebook 7)'''"
   ]
  },
  {
   "cell_type": "markdown",
   "metadata": {
    "colab_type": "text",
    "id": "EmFRAqMl3iUE"
   },
   "source": [
    "**LSTM 1**"
   ]
  },
  {
   "cell_type": "code",
   "execution_count": 0,
   "metadata": {
    "colab": {},
    "colab_type": "code",
    "id": "7A1Y7DFvPEz0"
   },
   "outputs": [],
   "source": [
    "train_ship,test_ship,ship_size = lstm_category_encoder(df_train_model['shipping'].astype('category'),\n",
    "                                                  df_test_model['shipping'].astype('category'))\n",
    "train_ici,test_ici,ici_size = lstm_category_encoder(df_train_model['item_condition_id'].astype('category'),\n",
    "                                                  df_test_model['item_condition_id'].astype('category'))"
   ]
  },
  {
   "cell_type": "code",
   "execution_count": 0,
   "metadata": {
    "colab": {
     "base_uri": "https://localhost:8080/",
     "height": 114,
     "referenced_widgets": [
      "a25920b83f094be792b3e186c5c83ff2",
      "07f15f452c7a43f3863da1f729ceace1",
      "68feb3255337490b9bdee8f6efc18bee",
      "609c742e8f354838883f0a081c778455",
      "1e36763ce0a04e6c833f6b059ca7a482",
      "7e44d71f2fa94edcbe83a3f11d1fff0a",
      "19a8877012a6469b9a11cca216aadad6",
      "f09f32cc8a4a439f9f53142a17e73234",
      "b4fe257a14ec4efd9816f80bd849dd40",
      "af453bae5bb04bfb987ab43a0f5fb5cc",
      "2d78a988bb734c82ae8eca2bee01884a",
      "4cf1867b75274ebe86c81ed74e25c0dd",
      "a93a6810c3f24c138b0a10f5f77100c4",
      "da8b3f6632b84f969f7d010e11000b4a",
      "8ef655e5b7b442dbad8eb6dab698972b",
      "31363dcaedd1462197df830f7405de54"
     ]
    },
    "colab_type": "code",
    "id": "8p-Z55TsgnV0",
    "outputId": "31196ca0-4288-4adc-fe50-b5f8091b3ab9"
   },
   "outputs": [
    {
     "data": {
      "application/vnd.jupyter.widget-view+json": {
       "model_id": "a25920b83f094be792b3e186c5c83ff2",
       "version_major": 2,
       "version_minor": 0
      },
      "text/plain": [
       "HBox(children=(IntProgress(value=0, max=1111222), HTML(value='')))"
      ]
     },
     "metadata": {
      "tags": []
     },
     "output_type": "display_data"
    },
    {
     "name": "stdout",
     "output_type": "stream",
     "text": [
      "\n"
     ]
    },
    {
     "data": {
      "application/vnd.jupyter.widget-view+json": {
       "model_id": "b4fe257a14ec4efd9816f80bd849dd40",
       "version_major": 2,
       "version_minor": 0
      },
      "text/plain": [
       "HBox(children=(IntProgress(value=0, max=370634), HTML(value='')))"
      ]
     },
     "metadata": {
      "tags": []
     },
     "output_type": "display_data"
    },
    {
     "name": "stdout",
     "output_type": "stream",
     "text": [
      "\n"
     ]
    }
   ],
   "source": [
    "df_train_model['text'] = text_concatenate(df_train_model)\n",
    "df_test_model['text'] = text_concatenate(df_test_model)\n",
    "train_text,test_text, tokenizer = text_tokenize(text_preprocess(df_train_model['text']),text_preprocess(df_test_model['text']))"
   ]
  },
  {
   "cell_type": "code",
   "execution_count": 0,
   "metadata": {
    "colab": {},
    "colab_type": "code",
    "id": "_SDK3TuRhs5C"
   },
   "outputs": [],
   "source": [
    "TEXT_LENGTH = 100\n",
    "train_text_pad,test_text_pad = text_padding(train_text,test_text,TEXT_LENGTH)"
   ]
  },
  {
   "cell_type": "code",
   "execution_count": 0,
   "metadata": {
    "colab": {
     "base_uri": "https://localhost:8080/",
     "height": 82,
     "referenced_widgets": [
      "ae416a236b1a4fcc8235892e7274e8a8",
      "828bd1ea123143b0866dc136158533da",
      "25461bb2c13c46349857aea83820e913",
      "a744b835ac3b4a3197c6567a425f2c5c",
      "fbcc5268c4914760980f8089a7529774",
      "245a89e024834f248a033d720f158f4b",
      "3ad60d562f554170af24b05a8aeca610",
      "5ab2cdef13b243fd9da06a17dce16e1f"
     ]
    },
    "colab_type": "code",
    "id": "F-Kg-2SIcqGc",
    "outputId": "42f1715b-deeb-4ec2-cbd6-aba8376b7983"
   },
   "outputs": [
    {
     "data": {
      "application/vnd.jupyter.widget-view+json": {
       "model_id": "ae416a236b1a4fcc8235892e7274e8a8",
       "version_major": 2,
       "version_minor": 0
      },
      "text/plain": [
       "HBox(children=(IntProgress(value=0, max=173025), HTML(value='')))"
      ]
     },
     "metadata": {
      "tags": []
     },
     "output_type": "display_data"
    },
    {
     "name": "stdout",
     "output_type": "stream",
     "text": [
      "\n",
      "(173026, 300)\n"
     ]
    }
   ],
   "source": [
    "embedding_text = generate_embedding_matrix(tokenizer)\n",
    "print(embedding_text.shape)"
   ]
  },
  {
   "cell_type": "code",
   "execution_count": 0,
   "metadata": {
    "colab": {
     "base_uri": "https://localhost:8080/",
     "height": 34
    },
    "colab_type": "code",
    "id": "dQBDiGB7ezwj",
    "outputId": "061dbe83-767d-45f6-a4a4-18ae2295aa49"
   },
   "outputs": [
    {
     "name": "stdout",
     "output_type": "stream",
     "text": [
      "(1111222, 3) (370634, 3)\n"
     ]
    }
   ],
   "source": [
    "df_train_model['cat_brand_ship'] = (df_train_model['category_name'].astype(str) + \"_\" + \n",
    "                                    df_train_model['brand_name'].astype(str) + \"_\" +  \n",
    "                                    df_train_model['shipping'].astype(str))\n",
    "df_test_model['cat_brand_ship'] = (df_test_model['category_name'].astype(str) + \"_\" + \n",
    "                                    df_test_model['brand_name'].astype(str) + \"_\" +  \n",
    "                                    df_test_model['shipping'].astype(str))\n",
    "df_train_model['log_price'] = np.log1p(df_train_model['price'])\n",
    "df_test_model['log_price'] = np.log1p(df_test_model['price'])\n",
    "\n",
    "train_cbs_feats = generate_cbs_stats(df_train_model,df_train_model)\n",
    "test_cbs_feats = generate_cbs_stats(df_train_model,df_test_model)\n",
    "print(train_cbs_feats.shape,test_cbs_feats.shape)"
   ]
  },
  {
   "cell_type": "code",
   "execution_count": 0,
   "metadata": {
    "colab": {},
    "colab_type": "code",
    "id": "8WqUeqnvcux9"
   },
   "outputs": [],
   "source": [
    "X_train = [train_text_pad,\n",
    "           np.array(train_ship),np.array(train_ici),\n",
    "           train_cbs_feats]\n",
    "X_test =  [test_text_pad,\n",
    "           np.array(test_ship),np.array(test_ici),\n",
    "           test_cbs_feats]\n",
    "y_train = np.log1p(df_train_model['price'])\n",
    "y_test = np.log1p(df_test_model['price'])"
   ]
  },
  {
   "cell_type": "code",
   "execution_count": 0,
   "metadata": {
    "colab": {
     "base_uri": "https://localhost:8080/",
     "height": 1000
    },
    "colab_type": "code",
    "id": "tV-QvRXdcu1R",
    "outputId": "a35a6636-f4ec-40b3-869b-6532c9304dc1"
   },
   "outputs": [
    {
     "name": "stdout",
     "output_type": "stream",
     "text": [
      "WARNING:tensorflow:Layer lstm_1 will not use cuDNN kernel since it doesn't meet the cuDNN kernel criteria. It will use generic GPU kernel as fallback when running on GPU\n"
     ]
    },
    {
     "data": {
      "image/png": "[encoded data removed]",
      "text/plain": [
       "<IPython.core.display.Image object>"
      ]
     },
     "execution_count": 39,
     "metadata": {
      "tags": []
     },
     "output_type": "execute_result"
    }
   ],
   "source": [
    "lstm1 = build_lstm_model_1(TEXT_LENGTH,tokenizer,embedding_text,ship_size,ici_size,3)\n",
    "plot_model(lstm1, to_file= 'lstm1.png', show_shapes=True, show_layer_names=True)\n",
    "Image(filename='lstm1.png')"
   ]
  },
  {
   "cell_type": "code",
   "execution_count": 0,
   "metadata": {
    "colab": {
     "base_uri": "https://localhost:8080/",
     "height": 1000
    },
    "colab_type": "code",
    "id": "pZTs7csMjXtC",
    "outputId": "986f2d33-984d-4326-9089-31d3c44a7c35"
   },
   "outputs": [
    {
     "name": "stdout",
     "output_type": "stream",
     "text": [
      "Epoch 1/15\n",
      "272/272 [==============================] - ETA: 0s - loss: 0.8674\n",
      "Epoch 00001: val_loss improved from inf to 0.60076, saving model to lstm1_epochs:001-val_loss:0.601.hdf5\n",
      "272/272 [==============================] - 269s 987ms/step - loss: 0.8674 - val_loss: 0.6008\n",
      "Epoch 2/15\n",
      "272/272 [==============================] - ETA: 0s - loss: 0.3872\n",
      "Epoch 00002: val_loss improved from 0.60076 to 0.36920, saving model to lstm1_epochs:002-val_loss:0.369.hdf5\n",
      "272/272 [==============================] - 268s 985ms/step - loss: 0.3872 - val_loss: 0.3692\n",
      "Epoch 3/15\n",
      "272/272 [==============================] - ETA: 0s - loss: 0.3018\n",
      "Epoch 00003: val_loss improved from 0.36920 to 0.31877, saving model to lstm1_epochs:003-val_loss:0.319.hdf5\n",
      "272/272 [==============================] - 267s 980ms/step - loss: 0.3018 - val_loss: 0.3188\n",
      "Epoch 4/15\n",
      "272/272 [==============================] - ETA: 0s - loss: 0.2566\n",
      "Epoch 00004: val_loss improved from 0.31877 to 0.27752, saving model to lstm1_epochs:004-val_loss:0.278.hdf5\n",
      "272/272 [==============================] - 266s 979ms/step - loss: 0.2566 - val_loss: 0.2775\n",
      "Epoch 5/15\n",
      "272/272 [==============================] - ETA: 0s - loss: 0.2262\n",
      "Epoch 00005: val_loss improved from 0.27752 to 0.26633, saving model to lstm1_epochs:005-val_loss:0.266.hdf5\n",
      "272/272 [==============================] - 266s 977ms/step - loss: 0.2262 - val_loss: 0.2663\n",
      "Epoch 6/15\n",
      "272/272 [==============================] - ETA: 0s - loss: 0.2053\n",
      "Epoch 00006: val_loss improved from 0.26633 to 0.25851, saving model to lstm1_epochs:006-val_loss:0.259.hdf5\n",
      "272/272 [==============================] - 265s 973ms/step - loss: 0.2053 - val_loss: 0.2585\n",
      "Epoch 7/15\n",
      "272/272 [==============================] - ETA: 0s - loss: 0.1910\n",
      "Epoch 00007: val_loss improved from 0.25851 to 0.25284, saving model to lstm1_epochs:007-val_loss:0.253.hdf5\n",
      "272/272 [==============================] - 266s 979ms/step - loss: 0.1910 - val_loss: 0.2528\n",
      "Epoch 8/15\n",
      "272/272 [==============================] - ETA: 0s - loss: 0.1793\n",
      "Epoch 00008: val_loss improved from 0.25284 to 0.24752, saving model to lstm1_epochs:008-val_loss:0.248.hdf5\n",
      "272/272 [==============================] - 266s 978ms/step - loss: 0.1793 - val_loss: 0.2475\n",
      "Epoch 9/15\n",
      "272/272 [==============================] - ETA: 0s - loss: 0.1701\n",
      "Epoch 00009: val_loss improved from 0.24752 to 0.24253, saving model to lstm1_epochs:009-val_loss:0.243.hdf5\n",
      "272/272 [==============================] - 266s 978ms/step - loss: 0.1701 - val_loss: 0.2425\n",
      "Epoch 10/15\n",
      "272/272 [==============================] - ETA: 0s - loss: 0.1629\n",
      "Epoch 00010: val_loss did not improve from 0.24253\n",
      "272/272 [==============================] - 266s 980ms/step - loss: 0.1629 - val_loss: 0.2473\n",
      "Epoch 11/15\n",
      "272/272 [==============================] - ETA: 0s - loss: 0.1564\n",
      "Epoch 00011: val_loss did not improve from 0.24253\n",
      "272/272 [==============================] - 265s 973ms/step - loss: 0.1564 - val_loss: 0.2432\n",
      "Epoch 12/15\n",
      "272/272 [==============================] - ETA: 0s - loss: 0.1506\n",
      "Epoch 00012: val_loss improved from 0.24253 to 0.24165, saving model to lstm1_epochs:012-val_loss:0.242.hdf5\n",
      "272/272 [==============================] - 265s 973ms/step - loss: 0.1506 - val_loss: 0.2416\n",
      "Epoch 13/15\n",
      "272/272 [==============================] - ETA: 0s - loss: 0.1459\n",
      "Epoch 00013: val_loss did not improve from 0.24165\n",
      "272/272 [==============================] - 265s 973ms/step - loss: 0.1459 - val_loss: 0.2464\n",
      "Epoch 14/15\n",
      "272/272 [==============================] - ETA: 0s - loss: 0.1406\n",
      "Epoch 00014: val_loss did not improve from 0.24165\n",
      "272/272 [==============================] - 264s 970ms/step - loss: 0.1406 - val_loss: 0.2435\n",
      "Epoch 15/15\n",
      "272/272 [==============================] - ETA: 0s - loss: 0.1362\n",
      "Epoch 00015: val_loss did not improve from 0.24165\n",
      "272/272 [==============================] - 263s 966ms/step - loss: 0.1362 - val_loss: 0.2480\n"
     ]
    },
    {
     "data": {
      "text/plain": [
       "<tensorflow.python.keras.callbacks.History at 0x7f31d6b33c50>"
      ]
     },
     "execution_count": 46,
     "metadata": {
      "tags": []
     },
     "output_type": "execute_result"
    }
   ],
   "source": [
    "train_nn(X_train,y_train,X_test,y_test,lstm1,\n",
    "         \"lstm1_epochs:{epoch:03d}-val_loss:{val_loss:.3f}.hdf5\",4096,\n",
    "         '/content/gdrive/My Drive/Mercari2/log_lstm1',15)"
   ]
  },
  {
   "cell_type": "code",
   "execution_count": 0,
   "metadata": {
    "colab": {
     "base_uri": "https://localhost:8080/",
     "height": 84
    },
    "colab_type": "code",
    "id": "av4baz6bnpho",
    "outputId": "a7f35fc9-e9db-4c96-cf5d-49edb1749e53"
   },
   "outputs": [
    {
     "name": "stdout",
     "output_type": "stream",
     "text": [
      "WARNING:tensorflow:Layer lstm_1 will not use cuDNN kernel since it doesn't meet the cuDNN kernel criteria. It will use generic GPU kernel as fallback when running on GPU\n",
      "WARNING:tensorflow:Error in loading the saved optimizer state. As a result, your model is starting with a freshly initialized optimizer.\n",
      "91/91 [==============================] - 14s 153ms/step\n",
      "RMSLE of Test set is  0.47405512964753027\n"
     ]
    }
   ],
   "source": [
    "best_model = load_model('/content/gdrive/My Drive/Mercari2/lstm1_epochs:012-val_loss:0.242.hdf5')\n",
    "\n",
    "preds_lstm1 = np.expm1(best_model.predict(X_test,batch_size = 4096,verbose = 1))\n",
    "print('RMSLE of Test set is ',rmsle_score(np.expm1(y_test).values , preds_lstm1))\n",
    "#file = open('preds_lstm1', 'wb')\n",
    "#pickle.dump(preds_lstm1, file)\n",
    "#file.close()"
   ]
  },
  {
   "cell_type": "markdown",
   "metadata": {
    "colab_type": "text",
    "id": "DU03_UXX3jvw"
   },
   "source": [
    "**MLP 1**"
   ]
  },
  {
   "cell_type": "code",
   "execution_count": 0,
   "metadata": {
    "colab": {
     "base_uri": "https://localhost:8080/",
     "height": 34
    },
    "colab_type": "code",
    "id": "FwngbyEr3k_b",
    "outputId": "f051c2b2-b23c-4985-c02a-d06419167afb"
   },
   "outputs": [
    {
     "name": "stdout",
     "output_type": "stream",
     "text": [
      "(1111222, 190546) (370634, 190546) (1111222, 1) (370634, 1)\n"
     ]
    }
   ],
   "source": [
    "X_train,X_test,y_train,y_test = data_encoder(data_preprocess(df_train_model),data_preprocess(df_test_model))\n",
    "print(X_train.shape,X_test.shape,y_train.shape,y_test.shape)"
   ]
  },
  {
   "cell_type": "code",
   "execution_count": 0,
   "metadata": {
    "colab": {
     "base_uri": "https://localhost:8080/",
     "height": 644
    },
    "colab_type": "code",
    "id": "CdO3D3OOm6Ez",
    "outputId": "4e849350-ffc6-4818-e14b-9bf887a1fa84"
   },
   "outputs": [
    {
     "data": {
      "image/png": "[encoded data removed]",
      "text/plain": [
       "<IPython.core.display.Image object>"
      ]
     },
     "execution_count": 16,
     "metadata": {
      "tags": []
     },
     "output_type": "execute_result"
    }
   ],
   "source": [
    "mlp1 = build_mlp_model1(X_train.shape[1])\n",
    "plot_model(mlp1, to_file= 'mlp1.png', show_shapes=True, show_layer_names=True)\n",
    "Image(filename='mlp1.png')"
   ]
  },
  {
   "cell_type": "code",
   "execution_count": 0,
   "metadata": {
    "colab": {
     "base_uri": "https://localhost:8080/",
     "height": 420
    },
    "colab_type": "code",
    "id": "uJGWfOsFnMlb",
    "outputId": "fc7ba273-6a04-4cb5-ce94-bdef7a3233d5"
   },
   "outputs": [
    {
     "name": "stdout",
     "output_type": "stream",
     "text": [
      "4340/4341 [============================>.] - ETA: 0s - loss: 0.3528\n",
      "Epoch 00001: val_loss improved from inf to 0.32301, saving model to mlp1_epochs:001-val_loss:0.323.hdf5\n",
      "4341/4341 [==============================] - 102s 23ms/step - loss: 0.3528 - val_loss: 0.3230\n",
      "Test RMSLE for batch size =  256  is  0.4242937519450807\n",
      "Saving preds_mlp1 for test RMSLE =  0.4242937519450807 for batch size =  256 \n",
      "\n",
      "[epoch 1] done in 127 s\n",
      "2170/2171 [============================>.] - ETA: 0s - loss: 0.2131\n",
      "Epoch 00001: val_loss improved from inf to 0.31047, saving model to mlp1_epochs:001-val_loss:0.310.hdf5\n",
      "2171/2171 [==============================] - 58s 27ms/step - loss: 0.2131 - val_loss: 0.3105\n",
      "Test RMSLE for batch size =  512  is  0.4159806401817518\n",
      "Saving preds_mlp1 for test RMSLE =  0.4159806401817518 for batch size =  512 \n",
      "\n",
      "[epoch 2] done in 81 s\n",
      "1086/1086 [==============================] - ETA: 0s - loss: 0.1234\n",
      "Epoch 00001: val_loss improved from inf to 0.31563, saving model to mlp1_epochs:001-val_loss:0.316.hdf5\n",
      "1086/1086 [==============================] - 36s 34ms/step - loss: 0.1234 - val_loss: 0.3156\n",
      "Test RMSLE for batch size =  1024  is  0.41942648493923484\n",
      "[epoch 3] done in 58 s\n",
      "542/543 [============================>.] - ETA: 0s - loss: 0.0706\n",
      "Epoch 00001: val_loss improved from inf to 0.32256, saving model to mlp1_epochs:001-val_loss:0.323.hdf5\n",
      "543/543 [==============================] - 26s 48ms/step - loss: 0.0707 - val_loss: 0.3226\n",
      "Test RMSLE for batch size =  2048  is  0.42400032920757313\n",
      "[epoch 4] done in 48 s\n"
     ]
    }
   ],
   "source": [
    "score = 1\n",
    "for i in range(4):\n",
    "  with timer(f'epoch {i + 1}'):\n",
    "    his,mod = train_nn(X_train,y_train,X_test,y_test,mlp1,\n",
    "             \"mlp1_epochs:{epoch:03d}-val_loss:{val_loss:.3f}.hdf5\",\n",
    "             2**(8 + i),\n",
    "             '/content/gdrive/My Drive/Mercari2/log_mlp1',1)\n",
    "    preds = mod.predict(X_test)[:, 0]\n",
    "    preds_mlp1 = np.expm1(y_scaler.inverse_transform(preds.reshape(-1, 1))[:, 0])\n",
    "    print('Test RMSLE for batch size = ',2**(8 + i),' is ',rmsle_score(df_test_model.price.values , preds_mlp1))\n",
    "\n",
    "    if(score > rmsle_score(df_test_model.price.values , preds_mlp1)):\n",
    "      score = rmsle_score(df_test_model.price.values , preds_mlp1)\n",
    "      print('Saving preds_mlp1 for test RMSLE = ',score,'for batch size = ',2**(8+i),'\\n')\n",
    "      file = open('preds_mlp1', 'wb')\n",
    "      pickle.dump(preds_mlp1, file)\n",
    "      file.close()"
   ]
  },
  {
   "cell_type": "markdown",
   "metadata": {
    "colab_type": "text",
    "id": "SDjfxoDJCVCc"
   },
   "source": [
    "**MLP 2**"
   ]
  },
  {
   "cell_type": "code",
   "execution_count": 0,
   "metadata": {
    "colab": {
     "base_uri": "https://localhost:8080/",
     "height": 34
    },
    "colab_type": "code",
    "id": "DRv8dCJS0UzG",
    "outputId": "385807b9-902a-416f-c2db-050875a3b701"
   },
   "outputs": [
    {
     "name": "stdout",
     "output_type": "stream",
     "text": [
      "(1111222, 190546) (370634, 190546) (1111222, 1) (370634, 1)\n"
     ]
    }
   ],
   "source": [
    "X_train,X_test,y_train,y_test = data_encoder(data_preprocess(df_train_model),data_preprocess(df_test_model))\n",
    "print(X_train.shape,X_test.shape,y_train.shape,y_test.shape)"
   ]
  },
  {
   "cell_type": "code",
   "execution_count": 0,
   "metadata": {
    "colab": {
     "base_uri": "https://localhost:8080/",
     "height": 865
    },
    "colab_type": "code",
    "id": "tPHH51lQojVi",
    "outputId": "7a837105-3a75-4073-dc61-dc9e4a9cb39f"
   },
   "outputs": [
    {
     "data": {
      "image/png": "[encoded data removed]",
      "text/plain": [
       "<IPython.core.display.Image object>"
      ]
     },
     "execution_count": 19,
     "metadata": {
      "tags": []
     },
     "output_type": "execute_result"
    }
   ],
   "source": [
    "mlp2 = build_mlp_model2(X_train.shape[1])\n",
    "plot_model(mlp2, to_file= 'mlp2.png', show_shapes=True, show_layer_names=True)\n",
    "Image(filename='mlp2.png')"
   ]
  },
  {
   "cell_type": "code",
   "execution_count": 0,
   "metadata": {
    "colab": {
     "base_uri": "https://localhost:8080/",
     "height": 252
    },
    "colab_type": "code",
    "id": "DY2BVw8dojX6",
    "outputId": "e91deaf6-b4bb-4e5d-e072-365738fe1047"
   },
   "outputs": [
    {
     "name": "stdout",
     "output_type": "stream",
     "text": [
      "4341/4341 [==============================] - ETA: 0s - loss: 0.3551\n",
      "Epoch 00001: val_loss improved from inf to 0.31995, saving model to mlp2_epochs:001-val_loss:0.320.hdf5\n",
      "4341/4341 [==============================] - 356s 82ms/step - loss: 0.3551 - val_loss: 0.3199\n",
      "Test RMSLE for batch size =  256  is  0.4222815110175788\n",
      "Saving preds_mlp2 for test RMSLE =  0.4222815110175788 for batch size =  256 \n",
      "\n",
      "[epoch 1] done in 381 s\n",
      "2171/2171 [==============================] - ETA: 0s - loss: 0.2040\n",
      "Epoch 00001: val_loss improved from inf to 0.30449, saving model to mlp2_epochs:001-val_loss:0.304.hdf5\n",
      "2171/2171 [==============================] - 216s 100ms/step - loss: 0.2040 - val_loss: 0.3045\n",
      "Test RMSLE for batch size =  512  is  0.4119554042609999\n",
      "Saving preds_mlp2 for test RMSLE =  0.4119554042609999 for batch size =  512 \n",
      "\n",
      "[epoch 2] done in 243 s\n"
     ]
    }
   ],
   "source": [
    "score = 1\n",
    "for i in range(2):\n",
    "  with timer(f'epoch {i + 1}'):\n",
    "    his,mod = train_nn(X_train,y_train,X_test,y_test,mlp2,\n",
    "             \"mlp2_epochs:{epoch:03d}-val_loss:{val_loss:.3f}.hdf5\",\n",
    "             2**(8 + i),\n",
    "             '/content/gdrive/My Drive/Mercari2/log_mlp2',1)\n",
    "    preds = mod.predict(X_test)[:, 0]\n",
    "    preds_mlp2 = np.expm1(y_scaler.inverse_transform(preds.reshape(-1, 1))[:, 0])\n",
    "    print('Test RMSLE for batch size = ',2**(8 + i),' is ',rmsle_score(df_test_model.price.values , preds_mlp2))\n",
    "\n",
    "    if(score > rmsle_score(df_test_model.price.values , preds_mlp2)):\n",
    "      score = rmsle_score(df_test_model.price.values , preds_mlp2)\n",
    "      print('Saving preds_mlp2 for test RMSLE = ',score,'for batch size = ',2**(8+i),'\\n')\n",
    "      file = open('preds_mlp2', 'wb')\n",
    "      pickle.dump(preds_mlp2, file)\n",
    "      file.close()"
   ]
  },
  {
   "cell_type": "markdown",
   "metadata": {
    "colab_type": "text",
    "id": "VmaiLmsrr8Pk"
   },
   "source": [
    "**MLP 3**"
   ]
  },
  {
   "cell_type": "code",
   "execution_count": 0,
   "metadata": {
    "colab": {
     "base_uri": "https://localhost:8080/",
     "height": 34
    },
    "colab_type": "code",
    "id": "w74cUOXBojah",
    "outputId": "312a2838-cebf-4d2d-fd64-d12e09e46a55"
   },
   "outputs": [
    {
     "name": "stdout",
     "output_type": "stream",
     "text": [
      "(1111222, 190546) (370634, 190546) (1111222, 1) (370634, 1)\n"
     ]
    }
   ],
   "source": [
    "X_train,X_test,y_train,y_test = data_encoder(data_preprocess(df_train_model),data_preprocess(df_test_model))\n",
    "print(X_train.shape,X_test.shape,y_train.shape,y_test.shape)"
   ]
  },
  {
   "cell_type": "code",
   "execution_count": 0,
   "metadata": {
    "colab": {
     "base_uri": "https://localhost:8080/",
     "height": 1000
    },
    "colab_type": "code",
    "id": "zeTGk0bNr912",
    "outputId": "c9bda6b3-d5f5-46e6-ee6f-a90062978357"
   },
   "outputs": [
    {
     "data": {
      "image/png": "[encoded data removed]",
      "text/plain": [
       "<IPython.core.display.Image object>"
      ]
     },
     "execution_count": 24,
     "metadata": {
      "tags": []
     },
     "output_type": "execute_result"
    }
   ],
   "source": [
    "mlp3 = build_mlp_model3(X_train.shape[1])\n",
    "plot_model(mlp3, to_file= 'mlp3.png', show_shapes=True, show_layer_names=True)\n",
    "Image(filename='mlp3.png')"
   ]
  },
  {
   "cell_type": "code",
   "execution_count": 0,
   "metadata": {
    "colab": {
     "base_uri": "https://localhost:8080/",
     "height": 252
    },
    "colab_type": "code",
    "id": "WIbYLYSWojdI",
    "outputId": "0a2de53c-d1a4-4888-9478-3150607d3e2c"
   },
   "outputs": [
    {
     "name": "stdout",
     "output_type": "stream",
     "text": [
      "4341/4341 [==============================] - ETA: 0s - loss: 0.3692\n",
      "Epoch 00001: val_loss improved from inf to 0.33256, saving model to mlp3_epochs:001-val_loss:0.333.hdf5\n",
      "4341/4341 [==============================] - 360s 83ms/step - loss: 0.3692 - val_loss: 0.3326\n",
      "Test RMSLE for batch size =  256  is  0.43052736492287547\n",
      "Saving preds_mlp3 for test RMSLE =  0.43052736492287547 for batch size =  256 \n",
      "\n",
      "[epoch 1] done in 388 s\n",
      "2171/2171 [==============================] - ETA: 0s - loss: 0.2211\n",
      "Epoch 00001: val_loss improved from inf to 0.31162, saving model to mlp3_epochs:001-val_loss:0.312.hdf5\n",
      "2171/2171 [==============================] - 208s 96ms/step - loss: 0.2211 - val_loss: 0.3116\n",
      "Test RMSLE for batch size =  512  is  0.4167500612081327\n",
      "Saving preds_mlp3 for test RMSLE =  0.4167500612081327 for batch size =  512 \n",
      "\n",
      "[epoch 2] done in 234 s\n"
     ]
    }
   ],
   "source": [
    "score = 1\n",
    "for i in range(2):\n",
    "  with timer(f'epoch {i + 1}'):\n",
    "    his,mod = train_nn(X_train,y_train,X_test,y_test,mlp3,\n",
    "             \"mlp3_epochs:{epoch:03d}-val_loss:{val_loss:.3f}.hdf5\",\n",
    "             2**(8 + i),\n",
    "             '/content/gdrive/My Drive/Mercari2/log_mlp3',1)\n",
    "    preds = mod.predict(X_test)[:, 0]\n",
    "    preds_mlp3 = np.expm1(y_scaler.inverse_transform(preds.reshape(-1, 1))[:, 0])\n",
    "    print('Test RMSLE for batch size = ',2**(8 + i),' is ',rmsle_score(df_test_model.price.values , preds_mlp3))\n",
    "\n",
    "    if(score > rmsle_score(df_test_model.price.values , preds_mlp3)):\n",
    "      score = rmsle_score(df_test_model.price.values , preds_mlp3)\n",
    "      print('Saving preds_mlp3 for test RMSLE = ',score,'for batch size = ',2**(8+i),'\\n')\n",
    "      file = open('preds_mlp3', 'wb')\n",
    "      pickle.dump(preds_mlp3, file)\n",
    "      file.close()"
   ]
  },
  {
   "cell_type": "markdown",
   "metadata": {
    "colab_type": "text",
    "id": "tbv-_pFF3ll-"
   },
   "source": [
    "**WEIGHTED ENSEMBLE**"
   ]
  },
  {
   "cell_type": "code",
   "execution_count": 2,
   "metadata": {
    "colab": {},
    "colab_type": "code",
    "id": "SKlisS2b3nzi"
   },
   "outputs": [],
   "source": [
    "file = open('preds_ridge1', 'rb')\n",
    "preds_ridge1 = pickle.load(file)\n",
    "file.close()\n",
    "\n",
    "file = open('preds_ridge2', 'rb')\n",
    "preds_ridge2 = pickle.load(file)\n",
    "file.close()\n",
    "\n",
    "file = open('preds_lstm1', 'rb')\n",
    "preds_lstm1 = pickle.load(file)\n",
    "file.close()\n",
    "\n",
    "file = open('preds_mlp1', 'rb')\n",
    "preds_mlp1 = pickle.load(file)\n",
    "file.close()\n",
    "\n",
    "file = open('preds_mlp2', 'rb')\n",
    "preds_mlp2 = pickle.load(file)\n",
    "file.close()"
   ]
  },
  {
   "cell_type": "code",
   "execution_count": 3,
   "metadata": {},
   "outputs": [],
   "source": [
    "def plot_weight_score(w,s):\n",
    "    plt.plot(w, s)\n",
    "    plt.scatter(w, s)\n",
    "    plt.xlabel(\"Weights Ratio\")\n",
    "    plt.ylabel(\"RMSLE\")\n",
    "    plt.title(\"Weight Selection for Ensemble\")\n",
    "    plt.grid()\n",
    "    plt.show()\n",
    "\n",
    "def ensemble_generator(preds1,preds2):\n",
    "    weights = list(np.linspace(0,1,50))\n",
    "    scores = []\n",
    "    \n",
    "    for w in tqdm_notebook(weights):\n",
    "        preds = (w*preds1) + (1-w)*(preds2)\n",
    "        scores.append(rmsle_score(df_test_model.price.values,preds))\n",
    "    \n",
    "    plot_weight_score(weights,scores)\n",
    "    df_ens = pd.DataFrame({'weights' : weights,'scores':scores})\n",
    "    w = df_ens.weights[df_ens.scores == min(df_ens.scores)].values[0]\n",
    "    \n",
    "    preds_final = (w*preds1) + (1-w)*(preds2)\n",
    "    return preds_final"
   ]
  },
  {
   "cell_type": "code",
   "execution_count": 9,
   "metadata": {},
   "outputs": [
    {
     "data": {
      "application/vnd.jupyter.widget-view+json": {
       "model_id": "754c56354944426d8f48cfe79658c6ae",
       "version_major": 2,
       "version_minor": 0
      },
      "text/plain": [
       "HBox(children=(IntProgress(value=0, max=50), HTML(value='')))"
      ]
     },
     "metadata": {},
     "output_type": "display_data"
    },
    {
     "name": "stdout",
     "output_type": "stream",
     "text": [
      "\n"
     ]
    },
    {
     "data": {
      "image/png": "[encoded data removed]",
      "text/plain": [
       "<Figure size 432x288 with 1 Axes>"
      ]
     },
     "metadata": {
      "needs_background": "light"
     },
     "output_type": "display_data"
    },
    {
     "name": "stdout",
     "output_type": "stream",
     "text": [
      "Test RMSLE of Ensemble =  0.4089412959053463\n"
     ]
    }
   ],
   "source": [
    "preds_final_mlps = ensemble_generator(preds_mlp1,preds_mlp2)\n",
    "print('Test RMSLE of Ensemble = ',rmsle_score(df_test_model.price.values , preds_final_mlps))"
   ]
  },
  {
   "cell_type": "code",
   "execution_count": 10,
   "metadata": {},
   "outputs": [
    {
     "data": {
      "application/vnd.jupyter.widget-view+json": {
       "model_id": "63d9d96e59f64e7a90413549ad1a6aff",
       "version_major": 2,
       "version_minor": 0
      },
      "text/plain": [
       "HBox(children=(IntProgress(value=0, max=50), HTML(value='')))"
      ]
     },
     "metadata": {},
     "output_type": "display_data"
    },
    {
     "name": "stdout",
     "output_type": "stream",
     "text": [
      "\n"
     ]
    },
    {
     "data": {
      "image/png": "[encoded data removed]",
      "text/plain": [
       "<Figure size 432x288 with 1 Axes>"
      ]
     },
     "metadata": {
      "needs_background": "light"
     },
     "output_type": "display_data"
    },
    {
     "name": "stdout",
     "output_type": "stream",
     "text": [
      "Test RMSLE of Ensemble =  0.46532978269178293\n"
     ]
    }
   ],
   "source": [
    "preds_final_ridges = ensemble_generator(preds_ridge1,preds_ridge2)\n",
    "print('Test RMSLE of Ensemble = ',rmsle_score(df_test_model.price.values , preds_final_ridges))"
   ]
  },
  {
   "cell_type": "code",
   "execution_count": 11,
   "metadata": {},
   "outputs": [
    {
     "data": {
      "application/vnd.jupyter.widget-view+json": {
       "model_id": "1446f60172b0451494b76cec18e5b0ef",
       "version_major": 2,
       "version_minor": 0
      },
      "text/plain": [
       "HBox(children=(IntProgress(value=0, max=50), HTML(value='')))"
      ]
     },
     "metadata": {},
     "output_type": "display_data"
    },
    {
     "name": "stdout",
     "output_type": "stream",
     "text": [
      "\n"
     ]
    },
    {
     "data": {
      "image/png": "[encoded data removed]",
      "text/plain": [
       "<Figure size 432x288 with 1 Axes>"
      ]
     },
     "metadata": {
      "needs_background": "light"
     },
     "output_type": "display_data"
    },
    {
     "name": "stdout",
     "output_type": "stream",
     "text": [
      "Test RMSLE of Ensemble =  0.40836257543391197\n"
     ]
    }
   ],
   "source": [
    "preds_final = ensemble_generator(preds_final_ridges,preds_final_mlps)\n",
    "print('Test RMSLE of Ensemble = ',rmsle_score(df_test_model.price.values , preds_final))"
   ]
  },
  {
   "cell_type": "code",
   "execution_count": 12,
   "metadata": {},
   "outputs": [],
   "source": [
    "#file = open('preds_final', 'wb')\n",
    "#pickle.dump(preds_final, file)\n",
    "#file.close()"
   ]
  },
  {
   "cell_type": "markdown",
   "metadata": {
    "colab_type": "text",
    "id": "I7eG-P54KwvF"
   },
   "source": [
    "### <font color='red'> 14.6 Final Summary of Models </font>"
   ]
  },
  {
   "cell_type": "code",
   "execution_count": 58,
   "metadata": {
    "colab": {},
    "colab_type": "code",
    "id": "DkFGBRHSGmRS"
   },
   "outputs": [
    {
     "name": "stdout",
     "output_type": "stream",
     "text": [
      "+----------+-----------------------------------+------------+\n",
      "|  Model   |           Featurizations          | Test RMSLE |\n",
      "+----------+-----------------------------------+------------+\n",
      "| Ridge 1  |                BOW                |   0.471    |\n",
      "| Ridge 2  |               TFIDF               |   0.477    |\n",
      "|  LGBM 1  |                BOW                |   0.468    |\n",
      "|  LGBM 2  |               TFIDF               |   0.468    |\n",
      "|  LSTM 1  |                 --                |   0.474    |\n",
      "|  MLP 1   |                 --                |   0.415    |\n",
      "|  MLP 2   |                 --                |   0.411    |\n",
      "| Ensemble | MLP 1 + MLP 2 + Ridge 1 + Ridge 2 | **0.408**  |\n",
      "+----------+-----------------------------------+------------+\n"
     ]
    }
   ],
   "source": [
    "x = PrettyTable()\n",
    "x.field_names = [\"Model\",\"Featurizations\",\"Test RMSLE\"]\n",
    "\n",
    "x.add_row([\"Ridge 1\",\"BOW\", 0.471])\n",
    "x.add_row([\"Ridge 2\",\"TFIDF\", 0.477])\n",
    "x.add_row([\"LGBM 1\",\"BOW\", 0.468])\n",
    "x.add_row([\"LGBM 2\",\"TFIDF\", 0.468])\n",
    "x.add_row([\"LSTM 1\",\"--\", 0.474])\n",
    "x.add_row([\"MLP 1\",\"--\", 0.415])\n",
    "x.add_row([\"MLP 2\",\"--\", 0.411])\n",
    "x.add_row([\"Ensemble\",\"MLP 1 + MLP 2 + Ridge 1 + Ridge 2\", \"**0.408**\"])\n",
    "\n",
    "print(x)"
   ]
  },
  {
   "cell_type": "markdown",
   "metadata": {},
   "source": [
    "### <font color='red'> 14.7 Visualize Errors </font>"
   ]
  },
  {
   "cell_type": "code",
   "execution_count": 56,
   "metadata": {},
   "outputs": [],
   "source": [
    "df_errs = pd.DataFrame({'predicted' : preds_final,'actual' : df_test_model.price.values})\n",
    "df_errs['error'] = df_errs['predicted'] - df_errs['actual']"
   ]
  },
  {
   "cell_type": "code",
   "execution_count": 59,
   "metadata": {
    "scrolled": true
   },
   "outputs": [
    {
     "data": {
      "text/html": [
       "<div>\n",
       "<style scoped>\n",
       "    .dataframe tbody tr th:only-of-type {\n",
       "        vertical-align: middle;\n",
       "    }\n",
       "\n",
       "    .dataframe tbody tr th {\n",
       "        vertical-align: top;\n",
       "    }\n",
       "\n",
       "    .dataframe thead th {\n",
       "        text-align: right;\n",
       "    }\n",
       "</style>\n",
       "<table border=\"1\" class=\"dataframe\">\n",
       "  <thead>\n",
       "    <tr style=\"text-align: right;\">\n",
       "      <th></th>\n",
       "      <th>predicted</th>\n",
       "      <th>actual</th>\n",
       "      <th>error</th>\n",
       "      <th>error_slabs</th>\n",
       "      <th>abs_error</th>\n",
       "    </tr>\n",
       "  </thead>\n",
       "  <tbody>\n",
       "    <tr>\n",
       "      <th>0</th>\n",
       "      <td>20.000004</td>\n",
       "      <td>20.0</td>\n",
       "      <td>0.000004</td>\n",
       "      <td>(0.0, 5.0]</td>\n",
       "      <td>0.000004</td>\n",
       "    </tr>\n",
       "    <tr>\n",
       "      <th>1</th>\n",
       "      <td>5.999990</td>\n",
       "      <td>6.0</td>\n",
       "      <td>-0.000010</td>\n",
       "      <td>(-5.0, 0.0]</td>\n",
       "      <td>0.000010</td>\n",
       "    </tr>\n",
       "    <tr>\n",
       "      <th>2</th>\n",
       "      <td>16.000017</td>\n",
       "      <td>16.0</td>\n",
       "      <td>0.000017</td>\n",
       "      <td>(0.0, 5.0]</td>\n",
       "      <td>0.000017</td>\n",
       "    </tr>\n",
       "    <tr>\n",
       "      <th>3</th>\n",
       "      <td>12.000020</td>\n",
       "      <td>12.0</td>\n",
       "      <td>0.000020</td>\n",
       "      <td>(0.0, 5.0]</td>\n",
       "      <td>0.000020</td>\n",
       "    </tr>\n",
       "    <tr>\n",
       "      <th>4</th>\n",
       "      <td>8.999945</td>\n",
       "      <td>9.0</td>\n",
       "      <td>-0.000055</td>\n",
       "      <td>(-5.0, 0.0]</td>\n",
       "      <td>0.000055</td>\n",
       "    </tr>\n",
       "  </tbody>\n",
       "</table>\n",
       "</div>"
      ],
      "text/plain": [
       "   predicted  actual     error  error_slabs  abs_error\n",
       "0  20.000004    20.0  0.000004   (0.0, 5.0]   0.000004\n",
       "1   5.999990     6.0 -0.000010  (-5.0, 0.0]   0.000010\n",
       "2  16.000017    16.0  0.000017   (0.0, 5.0]   0.000017\n",
       "3  12.000020    12.0  0.000020   (0.0, 5.0]   0.000020\n",
       "4   8.999945     9.0 -0.000055  (-5.0, 0.0]   0.000055"
      ]
     },
     "execution_count": 59,
     "metadata": {},
     "output_type": "execute_result"
    }
   ],
   "source": [
    "df_errs['error_slabs'] = pd.cut(df_errs.error, [-20,-15,-10,-5,0,5,10,15,20], include_lowest=True)\n",
    "df_errs['error_slabs'] = df_errs['error_slabs'].astype(str)\n",
    "df_errs['error_slabs'][(df_errs['error'] < -20) & (df_errs.error_slabs == 'nan')] = '< -20'\n",
    "df_errs['error_slabs'][(df_errs['error'] > 20) & (df_errs.error_slabs == 'nan')] = '> 20'\n",
    "df_errs['abs_error'] = abs(df_errs['error'])\n",
    "df_errs = df_errs.sort_values(by = 'abs_error',ascending = True).reset_index(drop = True)\n",
    "df_errs.head(5)"
   ]
  },
  {
   "cell_type": "code",
   "execution_count": 66,
   "metadata": {},
   "outputs": [
    {
     "name": "stderr",
     "output_type": "stream",
     "text": [
      "C:\\Users\\demitra\\AppData\\Local\\Continuum\\anaconda3\\lib\\site-packages\\matplotlib\\axes\\_axes.py:6521: MatplotlibDeprecationWarning: \n",
      "The 'normed' kwarg was deprecated in Matplotlib 2.1 and will be removed in 3.1. Use 'density' instead.\n",
      "  alternative=\"'density'\", removal=\"3.1\")\n"
     ]
    },
    {
     "data": {
      "text/plain": [
       "Text(0.5, 1.0, 'Distribution of Log (Abs Errors)')"
      ]
     },
     "execution_count": 66,
     "metadata": {},
     "output_type": "execute_result"
    },
    {
     "data": {
      "image/png": "[encoded data removed]",
      "text/plain": [
       "<Figure size 648x432 with 2 Axes>"
      ]
     },
     "metadata": {},
     "output_type": "display_data"
    }
   ],
   "source": [
    "series = pd.Series(np.log1p(df_errs.abs_error))\n",
    "fig, ax = plt.subplots()\n",
    "ax2 = ax.twinx()\n",
    "n, bins, patches = ax.hist(series, bins=100, normed=False)\n",
    "n, bins, patches = ax2.hist(series, cumulative=1, histtype='step', bins=100, color='tab:orange')\n",
    "ax.set_xlabel('Log (Absolute error)')\n",
    "ax.set_ylabel('Number of Points', color='g')\n",
    "ax2.set_ylabel('Cumulative Points', color='b')\n",
    "plt.title('Distribution of Log (Abs Errors)')"
   ]
  },
  {
   "cell_type": "code",
   "execution_count": 16,
   "metadata": {},
   "outputs": [
    {
     "data": {
      "text/html": [
       "<div>\n",
       "<style scoped>\n",
       "    .dataframe tbody tr th:only-of-type {\n",
       "        vertical-align: middle;\n",
       "    }\n",
       "\n",
       "    .dataframe tbody tr th {\n",
       "        vertical-align: top;\n",
       "    }\n",
       "\n",
       "    .dataframe thead th {\n",
       "        text-align: right;\n",
       "    }\n",
       "</style>\n",
       "<table border=\"1\" class=\"dataframe\">\n",
       "  <thead>\n",
       "    <tr style=\"text-align: right;\">\n",
       "      <th></th>\n",
       "      <th>error_slabs</th>\n",
       "      <th>count</th>\n",
       "      <th>percent</th>\n",
       "    </tr>\n",
       "  </thead>\n",
       "  <tbody>\n",
       "    <tr>\n",
       "      <th>0</th>\n",
       "      <td>&lt; -20</td>\n",
       "      <td>24547</td>\n",
       "      <td>6.62</td>\n",
       "    </tr>\n",
       "    <tr>\n",
       "      <th>1</th>\n",
       "      <td>(-20.001, -15.0]</td>\n",
       "      <td>9631</td>\n",
       "      <td>2.60</td>\n",
       "    </tr>\n",
       "    <tr>\n",
       "      <th>2</th>\n",
       "      <td>(-15.0, -10.0]</td>\n",
       "      <td>17586</td>\n",
       "      <td>4.74</td>\n",
       "    </tr>\n",
       "    <tr>\n",
       "      <th>3</th>\n",
       "      <td>(-10.0, -5.0]</td>\n",
       "      <td>36318</td>\n",
       "      <td>9.80</td>\n",
       "    </tr>\n",
       "    <tr>\n",
       "      <th>4</th>\n",
       "      <td>(-5.0, 0.0]</td>\n",
       "      <td>88927</td>\n",
       "      <td>23.99</td>\n",
       "    </tr>\n",
       "    <tr>\n",
       "      <th>5</th>\n",
       "      <td>(0.0, 5.0]</td>\n",
       "      <td>122879</td>\n",
       "      <td>33.15</td>\n",
       "    </tr>\n",
       "    <tr>\n",
       "      <th>6</th>\n",
       "      <td>(5.0, 10.0]</td>\n",
       "      <td>42507</td>\n",
       "      <td>11.47</td>\n",
       "    </tr>\n",
       "    <tr>\n",
       "      <th>7</th>\n",
       "      <td>(10.0, 15.0]</td>\n",
       "      <td>14138</td>\n",
       "      <td>3.81</td>\n",
       "    </tr>\n",
       "    <tr>\n",
       "      <th>8</th>\n",
       "      <td>(15.0, 20.0]</td>\n",
       "      <td>5916</td>\n",
       "      <td>1.60</td>\n",
       "    </tr>\n",
       "    <tr>\n",
       "      <th>9</th>\n",
       "      <td>&gt; 20</td>\n",
       "      <td>8185</td>\n",
       "      <td>2.21</td>\n",
       "    </tr>\n",
       "  </tbody>\n",
       "</table>\n",
       "</div>"
      ],
      "text/plain": [
       "        error_slabs   count  percent\n",
       "0             < -20   24547     6.62\n",
       "1  (-20.001, -15.0]    9631     2.60\n",
       "2    (-15.0, -10.0]   17586     4.74\n",
       "3     (-10.0, -5.0]   36318     9.80\n",
       "4       (-5.0, 0.0]   88927    23.99\n",
       "5        (0.0, 5.0]  122879    33.15\n",
       "6       (5.0, 10.0]   42507    11.47\n",
       "7      (10.0, 15.0]   14138     3.81\n",
       "8      (15.0, 20.0]    5916     1.60\n",
       "9              > 20    8185     2.21"
      ]
     },
     "execution_count": 16,
     "metadata": {},
     "output_type": "execute_result"
    }
   ],
   "source": [
    "# ref - https://stackoverflow.com/questions/13838405/custom-sorting-in-pandas-dataframe\n",
    "# ref - https://stackoverflow.com/questions/43251277/sort-bins-from-pandas-cut\n",
    "\n",
    "tmp_df = pd.DataFrame(df_errs.groupby('error_slabs').agg('size').reset_index())\n",
    "tmp_df.columns = ['error_slabs','count']\n",
    "tmp_df['error_slabs'] = pd.Categorical(tmp_df['error_slabs'], \n",
    "                                       [\"< -20\", \"(-20.001, -15.0]\", \"(-15.0, -10.0]\",\"(-10.0, -5.0]\",\n",
    "                                        \"(-5.0, 0.0]\",\"(0.0, 5.0]\",\"(5.0, 10.0]\",\"(10.0, 15.0]\",\n",
    "                                        \"(15.0, 20.0]\",\"> 20\"])\n",
    "tmp_df = tmp_df.sort_values(by=['error_slabs'],ascending = True).reset_index(drop = True)\n",
    "tmp_df['percent'] = round(tmp_df['count']/sum(tmp_df['count']),4)*100\n",
    "tmp_df"
   ]
  },
  {
   "cell_type": "code",
   "execution_count": 48,
   "metadata": {},
   "outputs": [
    {
     "data": {
      "image/png": "[encoded data removed]",
      "text/plain": [
       "<Figure size 1008x504 with 1 Axes>"
      ]
     },
     "metadata": {},
     "output_type": "display_data"
    }
   ],
   "source": [
    "g = sns.set(rc={'figure.figsize':(14,7)})\n",
    "g = sns.barplot(x = 'error_slabs',y = 'percent',data = tmp_df,palette=\"Blues_d\")\n",
    "plt.title('Error Distribution - Count of Points')\n",
    "plt.ylabel('Percentage of Points (%)')\n",
    "\n",
    "for index,row in tmp_df.iterrows():\n",
    "    g.text(row.name,row.percent,str(round(row.percent,1)) + str(' %'), color='black', ha=\"center\")\n",
    "    \n",
    "plt.show()"
   ]
  }
 ],
 "metadata": {
  "accelerator": "GPU",
  "colab": {
   "collapsed_sections": [],
   "machine_shape": "hm",
   "name": "8_final_ensemble_model(colab).ipynb",
   "provenance": []
  },
  "kernelspec": {
   "display_name": "Python 3",
   "language": "python",
   "name": "python3"
  },
  "language_info": {
   "codemirror_mode": {
    "name": "ipython",
    "version": 3
   },
   "file_extension": ".py",
   "mimetype": "text/x-python",
   "name": "python",
   "nbconvert_exporter": "python",
   "pygments_lexer": "ipython3",
   "version": "3.7.3"
  },
  "widgets": {
   "application/vnd.jupyter.widget-state+json": {
    "07f15f452c7a43f3863da1f729ceace1": {
     "model_module": "@jupyter-widgets/base",
     "model_name": "LayoutModel",
     "state": {
      "_model_module": "@jupyter-widgets/base",
      "_model_module_version": "1.2.0",
      "_model_name": "LayoutModel",
      "_view_count": null,
      "_view_module": "@jupyter-widgets/base",
      "_view_module_version": "1.2.0",
      "_view_name": "LayoutView",
      "align_content": null,
      "align_items": null,
      "align_self": null,
      "border": null,
      "bottom": null,
      "display": null,
      "flex": null,
      "flex_flow": null,
      "grid_area": null,
      "grid_auto_columns": null,
      "grid_auto_flow": null,
      "grid_auto_rows": null,
      "grid_column": null,
      "grid_gap": null,
      "grid_row": null,
      "grid_template_areas": null,
      "grid_template_columns": null,
      "grid_template_rows": null,
      "height": null,
      "justify_content": null,
      "justify_items": null,
      "left": null,
      "margin": null,
      "max_height": null,
      "max_width": null,
      "min_height": null,
      "min_width": null,
      "object_fit": null,
      "object_position": null,
      "order": null,
      "overflow": null,
      "overflow_x": null,
      "overflow_y": null,
      "padding": null,
      "right": null,
      "top": null,
      "visibility": null,
      "width": null
     }
    },
    "0e5c8c1845144ceea3854bed2151fdc6": {
     "model_module": "@jupyter-widgets/base",
     "model_name": "LayoutModel",
     "state": {
      "_model_module": "@jupyter-widgets/base",
      "_model_module_version": "1.2.0",
      "_model_name": "LayoutModel",
      "_view_count": null,
      "_view_module": "@jupyter-widgets/base",
      "_view_module_version": "1.2.0",
      "_view_name": "LayoutView",
      "align_content": null,
      "align_items": null,
      "align_self": null,
      "border": null,
      "bottom": null,
      "display": null,
      "flex": null,
      "flex_flow": null,
      "grid_area": null,
      "grid_auto_columns": null,
      "grid_auto_flow": null,
      "grid_auto_rows": null,
      "grid_column": null,
      "grid_gap": null,
      "grid_row": null,
      "grid_template_areas": null,
      "grid_template_columns": null,
      "grid_template_rows": null,
      "height": null,
      "justify_content": null,
      "justify_items": null,
      "left": null,
      "margin": null,
      "max_height": null,
      "max_width": null,
      "min_height": null,
      "min_width": null,
      "object_fit": null,
      "object_position": null,
      "order": null,
      "overflow": null,
      "overflow_x": null,
      "overflow_y": null,
      "padding": null,
      "right": null,
      "top": null,
      "visibility": null,
      "width": null
     }
    },
    "129838d6f1ae434b8c03bce1ec7c021e": {
     "model_module": "@jupyter-widgets/base",
     "model_name": "LayoutModel",
     "state": {
      "_model_module": "@jupyter-widgets/base",
      "_model_module_version": "1.2.0",
      "_model_name": "LayoutModel",
      "_view_count": null,
      "_view_module": "@jupyter-widgets/base",
      "_view_module_version": "1.2.0",
      "_view_name": "LayoutView",
      "align_content": null,
      "align_items": null,
      "align_self": null,
      "border": null,
      "bottom": null,
      "display": null,
      "flex": null,
      "flex_flow": null,
      "grid_area": null,
      "grid_auto_columns": null,
      "grid_auto_flow": null,
      "grid_auto_rows": null,
      "grid_column": null,
      "grid_gap": null,
      "grid_row": null,
      "grid_template_areas": null,
      "grid_template_columns": null,
      "grid_template_rows": null,
      "height": null,
      "justify_content": null,
      "justify_items": null,
      "left": null,
      "margin": null,
      "max_height": null,
      "max_width": null,
      "min_height": null,
      "min_width": null,
      "object_fit": null,
      "object_position": null,
      "order": null,
      "overflow": null,
      "overflow_x": null,
      "overflow_y": null,
      "padding": null,
      "right": null,
      "top": null,
      "visibility": null,
      "width": null
     }
    },
    "19a8877012a6469b9a11cca216aadad6": {
     "model_module": "@jupyter-widgets/controls",
     "model_name": "DescriptionStyleModel",
     "state": {
      "_model_module": "@jupyter-widgets/controls",
      "_model_module_version": "1.5.0",
      "_model_name": "DescriptionStyleModel",
      "_view_count": null,
      "_view_module": "@jupyter-widgets/base",
      "_view_module_version": "1.2.0",
      "_view_name": "StyleView",
      "description_width": ""
     }
    },
    "1e36763ce0a04e6c833f6b059ca7a482": {
     "model_module": "@jupyter-widgets/controls",
     "model_name": "ProgressStyleModel",
     "state": {
      "_model_module": "@jupyter-widgets/controls",
      "_model_module_version": "1.5.0",
      "_model_name": "ProgressStyleModel",
      "_view_count": null,
      "_view_module": "@jupyter-widgets/base",
      "_view_module_version": "1.2.0",
      "_view_name": "StyleView",
      "bar_color": null,
      "description_width": "initial"
     }
    },
    "1ee062c1882242408d2a6de86acff862": {
     "model_module": "@jupyter-widgets/base",
     "model_name": "LayoutModel",
     "state": {
      "_model_module": "@jupyter-widgets/base",
      "_model_module_version": "1.2.0",
      "_model_name": "LayoutModel",
      "_view_count": null,
      "_view_module": "@jupyter-widgets/base",
      "_view_module_version": "1.2.0",
      "_view_name": "LayoutView",
      "align_content": null,
      "align_items": null,
      "align_self": null,
      "border": null,
      "bottom": null,
      "display": null,
      "flex": null,
      "flex_flow": null,
      "grid_area": null,
      "grid_auto_columns": null,
      "grid_auto_flow": null,
      "grid_auto_rows": null,
      "grid_column": null,
      "grid_gap": null,
      "grid_row": null,
      "grid_template_areas": null,
      "grid_template_columns": null,
      "grid_template_rows": null,
      "height": null,
      "justify_content": null,
      "justify_items": null,
      "left": null,
      "margin": null,
      "max_height": null,
      "max_width": null,
      "min_height": null,
      "min_width": null,
      "object_fit": null,
      "object_position": null,
      "order": null,
      "overflow": null,
      "overflow_x": null,
      "overflow_y": null,
      "padding": null,
      "right": null,
      "top": null,
      "visibility": null,
      "width": null
     }
    },
    "2395e2123efc4e61bbd48ea037522535": {
     "model_module": "@jupyter-widgets/base",
     "model_name": "LayoutModel",
     "state": {
      "_model_module": "@jupyter-widgets/base",
      "_model_module_version": "1.2.0",
      "_model_name": "LayoutModel",
      "_view_count": null,
      "_view_module": "@jupyter-widgets/base",
      "_view_module_version": "1.2.0",
      "_view_name": "LayoutView",
      "align_content": null,
      "align_items": null,
      "align_self": null,
      "border": null,
      "bottom": null,
      "display": null,
      "flex": null,
      "flex_flow": null,
      "grid_area": null,
      "grid_auto_columns": null,
      "grid_auto_flow": null,
      "grid_auto_rows": null,
      "grid_column": null,
      "grid_gap": null,
      "grid_row": null,
      "grid_template_areas": null,
      "grid_template_columns": null,
      "grid_template_rows": null,
      "height": null,
      "justify_content": null,
      "justify_items": null,
      "left": null,
      "margin": null,
      "max_height": null,
      "max_width": null,
      "min_height": null,
      "min_width": null,
      "object_fit": null,
      "object_position": null,
      "order": null,
      "overflow": null,
      "overflow_x": null,
      "overflow_y": null,
      "padding": null,
      "right": null,
      "top": null,
      "visibility": null,
      "width": null
     }
    },
    "245a89e024834f248a033d720f158f4b": {
     "model_module": "@jupyter-widgets/base",
     "model_name": "LayoutModel",
     "state": {
      "_model_module": "@jupyter-widgets/base",
      "_model_module_version": "1.2.0",
      "_model_name": "LayoutModel",
      "_view_count": null,
      "_view_module": "@jupyter-widgets/base",
      "_view_module_version": "1.2.0",
      "_view_name": "LayoutView",
      "align_content": null,
      "align_items": null,
      "align_self": null,
      "border": null,
      "bottom": null,
      "display": null,
      "flex": null,
      "flex_flow": null,
      "grid_area": null,
      "grid_auto_columns": null,
      "grid_auto_flow": null,
      "grid_auto_rows": null,
      "grid_column": null,
      "grid_gap": null,
      "grid_row": null,
      "grid_template_areas": null,
      "grid_template_columns": null,
      "grid_template_rows": null,
      "height": null,
      "justify_content": null,
      "justify_items": null,
      "left": null,
      "margin": null,
      "max_height": null,
      "max_width": null,
      "min_height": null,
      "min_width": null,
      "object_fit": null,
      "object_position": null,
      "order": null,
      "overflow": null,
      "overflow_x": null,
      "overflow_y": null,
      "padding": null,
      "right": null,
      "top": null,
      "visibility": null,
      "width": null
     }
    },
    "25461bb2c13c46349857aea83820e913": {
     "model_module": "@jupyter-widgets/controls",
     "model_name": "IntProgressModel",
     "state": {
      "_dom_classes": [],
      "_model_module": "@jupyter-widgets/controls",
      "_model_module_version": "1.5.0",
      "_model_name": "IntProgressModel",
      "_view_count": null,
      "_view_module": "@jupyter-widgets/controls",
      "_view_module_version": "1.5.0",
      "_view_name": "ProgressView",
      "bar_style": "success",
      "description": "100%",
      "description_tooltip": null,
      "layout": "IPY_MODEL_245a89e024834f248a033d720f158f4b",
      "max": 173025,
      "min": 0,
      "orientation": "horizontal",
      "style": "IPY_MODEL_fbcc5268c4914760980f8089a7529774",
      "value": 173025
     }
    },
    "27f5cb1f84e94b759391d39d4069f745": {
     "model_module": "@jupyter-widgets/base",
     "model_name": "LayoutModel",
     "state": {
      "_model_module": "@jupyter-widgets/base",
      "_model_module_version": "1.2.0",
      "_model_name": "LayoutModel",
      "_view_count": null,
      "_view_module": "@jupyter-widgets/base",
      "_view_module_version": "1.2.0",
      "_view_name": "LayoutView",
      "align_content": null,
      "align_items": null,
      "align_self": null,
      "border": null,
      "bottom": null,
      "display": null,
      "flex": null,
      "flex_flow": null,
      "grid_area": null,
      "grid_auto_columns": null,
      "grid_auto_flow": null,
      "grid_auto_rows": null,
      "grid_column": null,
      "grid_gap": null,
      "grid_row": null,
      "grid_template_areas": null,
      "grid_template_columns": null,
      "grid_template_rows": null,
      "height": null,
      "justify_content": null,
      "justify_items": null,
      "left": null,
      "margin": null,
      "max_height": null,
      "max_width": null,
      "min_height": null,
      "min_width": null,
      "object_fit": null,
      "object_position": null,
      "order": null,
      "overflow": null,
      "overflow_x": null,
      "overflow_y": null,
      "padding": null,
      "right": null,
      "top": null,
      "visibility": null,
      "width": null
     }
    },
    "295d9bf85b2c4afd987f77353dba1f66": {
     "model_module": "@jupyter-widgets/base",
     "model_name": "LayoutModel",
     "state": {
      "_model_module": "@jupyter-widgets/base",
      "_model_module_version": "1.2.0",
      "_model_name": "LayoutModel",
      "_view_count": null,
      "_view_module": "@jupyter-widgets/base",
      "_view_module_version": "1.2.0",
      "_view_name": "LayoutView",
      "align_content": null,
      "align_items": null,
      "align_self": null,
      "border": null,
      "bottom": null,
      "display": null,
      "flex": null,
      "flex_flow": null,
      "grid_area": null,
      "grid_auto_columns": null,
      "grid_auto_flow": null,
      "grid_auto_rows": null,
      "grid_column": null,
      "grid_gap": null,
      "grid_row": null,
      "grid_template_areas": null,
      "grid_template_columns": null,
      "grid_template_rows": null,
      "height": null,
      "justify_content": null,
      "justify_items": null,
      "left": null,
      "margin": null,
      "max_height": null,
      "max_width": null,
      "min_height": null,
      "min_width": null,
      "object_fit": null,
      "object_position": null,
      "order": null,
      "overflow": null,
      "overflow_x": null,
      "overflow_y": null,
      "padding": null,
      "right": null,
      "top": null,
      "visibility": null,
      "width": null
     }
    },
    "2a24d8425d064648b89ae957428eaf1a": {
     "model_module": "@jupyter-widgets/controls",
     "model_name": "HBoxModel",
     "state": {
      "_dom_classes": [],
      "_model_module": "@jupyter-widgets/controls",
      "_model_module_version": "1.5.0",
      "_model_name": "HBoxModel",
      "_view_count": null,
      "_view_module": "@jupyter-widgets/controls",
      "_view_module_version": "1.5.0",
      "_view_name": "HBoxView",
      "box_style": "",
      "children": [
       "IPY_MODEL_eb9b86b793ef4b0b9a06d4892cfc61d4",
       "IPY_MODEL_2b47be5148f14e529374557c2d016ffa"
      ],
      "layout": "IPY_MODEL_764842df866f424992fb00812630f17e"
     }
    },
    "2a6dd970ffff4ead8684fe0aeba9baa5": {
     "model_module": "@jupyter-widgets/controls",
     "model_name": "HTMLModel",
     "state": {
      "_dom_classes": [],
      "_model_module": "@jupyter-widgets/controls",
      "_model_module_version": "1.5.0",
      "_model_name": "HTMLModel",
      "_view_count": null,
      "_view_module": "@jupyter-widgets/controls",
      "_view_module_version": "1.5.0",
      "_view_name": "HTMLView",
      "description": "",
      "description_tooltip": null,
      "layout": "IPY_MODEL_c71578b2e3d34acdad85967722a07b4f",
      "placeholder": "​",
      "style": "IPY_MODEL_abf1bd70d9544add99ed5956749b7644",
      "value": " 1111222/1111222 [00:31&lt;00:00, 35762.15it/s]"
     }
    },
    "2b47be5148f14e529374557c2d016ffa": {
     "model_module": "@jupyter-widgets/controls",
     "model_name": "HTMLModel",
     "state": {
      "_dom_classes": [],
      "_model_module": "@jupyter-widgets/controls",
      "_model_module_version": "1.5.0",
      "_model_name": "HTMLModel",
      "_view_count": null,
      "_view_module": "@jupyter-widgets/controls",
      "_view_module_version": "1.5.0",
      "_view_name": "HTMLView",
      "description": "",
      "description_tooltip": null,
      "layout": "IPY_MODEL_ffbb695f1dda43059701fdb2b74bfcc1",
      "placeholder": "​",
      "style": "IPY_MODEL_a937e2b105a54b488e391138867546b5",
      "value": " 370634/370634 [01:33&lt;00:00, 3962.60it/s]"
     }
    },
    "2b52c573ca8649cd860a51f4a353b172": {
     "model_module": "@jupyter-widgets/controls",
     "model_name": "DescriptionStyleModel",
     "state": {
      "_model_module": "@jupyter-widgets/controls",
      "_model_module_version": "1.5.0",
      "_model_name": "DescriptionStyleModel",
      "_view_count": null,
      "_view_module": "@jupyter-widgets/base",
      "_view_module_version": "1.2.0",
      "_view_name": "StyleView",
      "description_width": ""
     }
    },
    "2d78a988bb734c82ae8eca2bee01884a": {
     "model_module": "@jupyter-widgets/controls",
     "model_name": "IntProgressModel",
     "state": {
      "_dom_classes": [],
      "_model_module": "@jupyter-widgets/controls",
      "_model_module_version": "1.5.0",
      "_model_name": "IntProgressModel",
      "_view_count": null,
      "_view_module": "@jupyter-widgets/controls",
      "_view_module_version": "1.5.0",
      "_view_name": "ProgressView",
      "bar_style": "success",
      "description": "100%",
      "description_tooltip": null,
      "layout": "IPY_MODEL_da8b3f6632b84f969f7d010e11000b4a",
      "max": 370634,
      "min": 0,
      "orientation": "horizontal",
      "style": "IPY_MODEL_a93a6810c3f24c138b0a10f5f77100c4",
      "value": 370634
     }
    },
    "2ee7f20cdf6042e0b5d393b0bdedf9aa": {
     "model_module": "@jupyter-widgets/base",
     "model_name": "LayoutModel",
     "state": {
      "_model_module": "@jupyter-widgets/base",
      "_model_module_version": "1.2.0",
      "_model_name": "LayoutModel",
      "_view_count": null,
      "_view_module": "@jupyter-widgets/base",
      "_view_module_version": "1.2.0",
      "_view_name": "LayoutView",
      "align_content": null,
      "align_items": null,
      "align_self": null,
      "border": null,
      "bottom": null,
      "display": null,
      "flex": null,
      "flex_flow": null,
      "grid_area": null,
      "grid_auto_columns": null,
      "grid_auto_flow": null,
      "grid_auto_rows": null,
      "grid_column": null,
      "grid_gap": null,
      "grid_row": null,
      "grid_template_areas": null,
      "grid_template_columns": null,
      "grid_template_rows": null,
      "height": null,
      "justify_content": null,
      "justify_items": null,
      "left": null,
      "margin": null,
      "max_height": null,
      "max_width": null,
      "min_height": null,
      "min_width": null,
      "object_fit": null,
      "object_position": null,
      "order": null,
      "overflow": null,
      "overflow_x": null,
      "overflow_y": null,
      "padding": null,
      "right": null,
      "top": null,
      "visibility": null,
      "width": null
     }
    },
    "31363dcaedd1462197df830f7405de54": {
     "model_module": "@jupyter-widgets/base",
     "model_name": "LayoutModel",
     "state": {
      "_model_module": "@jupyter-widgets/base",
      "_model_module_version": "1.2.0",
      "_model_name": "LayoutModel",
      "_view_count": null,
      "_view_module": "@jupyter-widgets/base",
      "_view_module_version": "1.2.0",
      "_view_name": "LayoutView",
      "align_content": null,
      "align_items": null,
      "align_self": null,
      "border": null,
      "bottom": null,
      "display": null,
      "flex": null,
      "flex_flow": null,
      "grid_area": null,
      "grid_auto_columns": null,
      "grid_auto_flow": null,
      "grid_auto_rows": null,
      "grid_column": null,
      "grid_gap": null,
      "grid_row": null,
      "grid_template_areas": null,
      "grid_template_columns": null,
      "grid_template_rows": null,
      "height": null,
      "justify_content": null,
      "justify_items": null,
      "left": null,
      "margin": null,
      "max_height": null,
      "max_width": null,
      "min_height": null,
      "min_width": null,
      "object_fit": null,
      "object_position": null,
      "order": null,
      "overflow": null,
      "overflow_x": null,
      "overflow_y": null,
      "padding": null,
      "right": null,
      "top": null,
      "visibility": null,
      "width": null
     }
    },
    "340aba14caac41f6a6d8dc5a0ab5cb67": {
     "model_module": "@jupyter-widgets/base",
     "model_name": "LayoutModel",
     "state": {
      "_model_module": "@jupyter-widgets/base",
      "_model_module_version": "1.2.0",
      "_model_name": "LayoutModel",
      "_view_count": null,
      "_view_module": "@jupyter-widgets/base",
      "_view_module_version": "1.2.0",
      "_view_name": "LayoutView",
      "align_content": null,
      "align_items": null,
      "align_self": null,
      "border": null,
      "bottom": null,
      "display": null,
      "flex": null,
      "flex_flow": null,
      "grid_area": null,
      "grid_auto_columns": null,
      "grid_auto_flow": null,
      "grid_auto_rows": null,
      "grid_column": null,
      "grid_gap": null,
      "grid_row": null,
      "grid_template_areas": null,
      "grid_template_columns": null,
      "grid_template_rows": null,
      "height": null,
      "justify_content": null,
      "justify_items": null,
      "left": null,
      "margin": null,
      "max_height": null,
      "max_width": null,
      "min_height": null,
      "min_width": null,
      "object_fit": null,
      "object_position": null,
      "order": null,
      "overflow": null,
      "overflow_x": null,
      "overflow_y": null,
      "padding": null,
      "right": null,
      "top": null,
      "visibility": null,
      "width": null
     }
    },
    "383010638f914463ae7c0b985821abe0": {
     "model_module": "@jupyter-widgets/base",
     "model_name": "LayoutModel",
     "state": {
      "_model_module": "@jupyter-widgets/base",
      "_model_module_version": "1.2.0",
      "_model_name": "LayoutModel",
      "_view_count": null,
      "_view_module": "@jupyter-widgets/base",
      "_view_module_version": "1.2.0",
      "_view_name": "LayoutView",
      "align_content": null,
      "align_items": null,
      "align_self": null,
      "border": null,
      "bottom": null,
      "display": null,
      "flex": null,
      "flex_flow": null,
      "grid_area": null,
      "grid_auto_columns": null,
      "grid_auto_flow": null,
      "grid_auto_rows": null,
      "grid_column": null,
      "grid_gap": null,
      "grid_row": null,
      "grid_template_areas": null,
      "grid_template_columns": null,
      "grid_template_rows": null,
      "height": null,
      "justify_content": null,
      "justify_items": null,
      "left": null,
      "margin": null,
      "max_height": null,
      "max_width": null,
      "min_height": null,
      "min_width": null,
      "object_fit": null,
      "object_position": null,
      "order": null,
      "overflow": null,
      "overflow_x": null,
      "overflow_y": null,
      "padding": null,
      "right": null,
      "top": null,
      "visibility": null,
      "width": null
     }
    },
    "3ad60d562f554170af24b05a8aeca610": {
     "model_module": "@jupyter-widgets/controls",
     "model_name": "DescriptionStyleModel",
     "state": {
      "_model_module": "@jupyter-widgets/controls",
      "_model_module_version": "1.5.0",
      "_model_name": "DescriptionStyleModel",
      "_view_count": null,
      "_view_module": "@jupyter-widgets/base",
      "_view_module_version": "1.2.0",
      "_view_name": "StyleView",
      "description_width": ""
     }
    },
    "3b3ded094b6d4d3c9b1c8b0f3a52f91c": {
     "model_module": "@jupyter-widgets/controls",
     "model_name": "IntProgressModel",
     "state": {
      "_dom_classes": [],
      "_model_module": "@jupyter-widgets/controls",
      "_model_module_version": "1.5.0",
      "_model_name": "IntProgressModel",
      "_view_count": null,
      "_view_module": "@jupyter-widgets/controls",
      "_view_module_version": "1.5.0",
      "_view_name": "ProgressView",
      "bar_style": "success",
      "description": "100%",
      "description_tooltip": null,
      "layout": "IPY_MODEL_27f5cb1f84e94b759391d39d4069f745",
      "max": 1111222,
      "min": 0,
      "orientation": "horizontal",
      "style": "IPY_MODEL_f5e1dfbe3f25479d947026e1d9dc3382",
      "value": 1111222
     }
    },
    "3d286953cb88488bbe996d6956f800f6": {
     "model_module": "@jupyter-widgets/controls",
     "model_name": "HTMLModel",
     "state": {
      "_dom_classes": [],
      "_model_module": "@jupyter-widgets/controls",
      "_model_module_version": "1.5.0",
      "_model_name": "HTMLModel",
      "_view_count": null,
      "_view_module": "@jupyter-widgets/controls",
      "_view_module_version": "1.5.0",
      "_view_name": "HTMLView",
      "description": "",
      "description_tooltip": null,
      "layout": "IPY_MODEL_e4db030ab8bc4e3db2cb08eeb11c4117",
      "placeholder": "​",
      "style": "IPY_MODEL_c14c2bf6fde344f8bc48a06fa3452845",
      "value": " 370634/370634 [00:24&lt;00:00, 15241.63it/s]"
     }
    },
    "4006477a4e02476882b3d7ff733dbe81": {
     "model_module": "@jupyter-widgets/controls",
     "model_name": "IntProgressModel",
     "state": {
      "_dom_classes": [],
      "_model_module": "@jupyter-widgets/controls",
      "_model_module_version": "1.5.0",
      "_model_name": "IntProgressModel",
      "_view_count": null,
      "_view_module": "@jupyter-widgets/controls",
      "_view_module_version": "1.5.0",
      "_view_name": "ProgressView",
      "bar_style": "success",
      "description": "100%",
      "description_tooltip": null,
      "layout": "IPY_MODEL_1ee062c1882242408d2a6de86acff862",
      "max": 370634,
      "min": 0,
      "orientation": "horizontal",
      "style": "IPY_MODEL_de8da20f4a9a4cc1a48be18d834d8c2a",
      "value": 370634
     }
    },
    "48e0c8501b3c43c2a4b1ca587ed5b6be": {
     "model_module": "@jupyter-widgets/base",
     "model_name": "LayoutModel",
     "state": {
      "_model_module": "@jupyter-widgets/base",
      "_model_module_version": "1.2.0",
      "_model_name": "LayoutModel",
      "_view_count": null,
      "_view_module": "@jupyter-widgets/base",
      "_view_module_version": "1.2.0",
      "_view_name": "LayoutView",
      "align_content": null,
      "align_items": null,
      "align_self": null,
      "border": null,
      "bottom": null,
      "display": null,
      "flex": null,
      "flex_flow": null,
      "grid_area": null,
      "grid_auto_columns": null,
      "grid_auto_flow": null,
      "grid_auto_rows": null,
      "grid_column": null,
      "grid_gap": null,
      "grid_row": null,
      "grid_template_areas": null,
      "grid_template_columns": null,
      "grid_template_rows": null,
      "height": null,
      "justify_content": null,
      "justify_items": null,
      "left": null,
      "margin": null,
      "max_height": null,
      "max_width": null,
      "min_height": null,
      "min_width": null,
      "object_fit": null,
      "object_position": null,
      "order": null,
      "overflow": null,
      "overflow_x": null,
      "overflow_y": null,
      "padding": null,
      "right": null,
      "top": null,
      "visibility": null,
      "width": null
     }
    },
    "4cf1867b75274ebe86c81ed74e25c0dd": {
     "model_module": "@jupyter-widgets/controls",
     "model_name": "HTMLModel",
     "state": {
      "_dom_classes": [],
      "_model_module": "@jupyter-widgets/controls",
      "_model_module_version": "1.5.0",
      "_model_name": "HTMLModel",
      "_view_count": null,
      "_view_module": "@jupyter-widgets/controls",
      "_view_module_version": "1.5.0",
      "_view_name": "HTMLView",
      "description": "",
      "description_tooltip": null,
      "layout": "IPY_MODEL_31363dcaedd1462197df830f7405de54",
      "placeholder": "​",
      "style": "IPY_MODEL_8ef655e5b7b442dbad8eb6dab698972b",
      "value": " 370634/370634 [01:08&lt;00:00, 5402.26it/s]"
     }
    },
    "4e90876ee5d74c26a4195347f54a795e": {
     "model_module": "@jupyter-widgets/controls",
     "model_name": "HTMLModel",
     "state": {
      "_dom_classes": [],
      "_model_module": "@jupyter-widgets/controls",
      "_model_module_version": "1.5.0",
      "_model_name": "HTMLModel",
      "_view_count": null,
      "_view_module": "@jupyter-widgets/controls",
      "_view_module_version": "1.5.0",
      "_view_name": "HTMLView",
      "description": "",
      "description_tooltip": null,
      "layout": "IPY_MODEL_b53a3ece692d411fa49e13b65176e42c",
      "placeholder": "​",
      "style": "IPY_MODEL_7c5ac13d10fe457b968645bcfe473adc",
      "value": " 370634/370634 [01:32&lt;00:00, 3989.50it/s]"
     }
    },
    "4ed12d3ea9594e26bbded0511ea4682e": {
     "model_module": "@jupyter-widgets/controls",
     "model_name": "ProgressStyleModel",
     "state": {
      "_model_module": "@jupyter-widgets/controls",
      "_model_module_version": "1.5.0",
      "_model_name": "ProgressStyleModel",
      "_view_count": null,
      "_view_module": "@jupyter-widgets/base",
      "_view_module_version": "1.2.0",
      "_view_name": "StyleView",
      "bar_color": null,
      "description_width": "initial"
     }
    },
    "547edf3417bb430c8c025eeeeb13b27c": {
     "model_module": "@jupyter-widgets/controls",
     "model_name": "HBoxModel",
     "state": {
      "_dom_classes": [],
      "_model_module": "@jupyter-widgets/controls",
      "_model_module_version": "1.5.0",
      "_model_name": "HBoxModel",
      "_view_count": null,
      "_view_module": "@jupyter-widgets/controls",
      "_view_module_version": "1.5.0",
      "_view_name": "HBoxView",
      "box_style": "",
      "children": [
       "IPY_MODEL_5f23990d596e4c80b17fa67cad4f7f43",
       "IPY_MODEL_e9d66c9785b74b589d1b480ce6827120"
      ],
      "layout": "IPY_MODEL_b863bd24d633425595219addc6896d08"
     }
    },
    "5ab2cdef13b243fd9da06a17dce16e1f": {
     "model_module": "@jupyter-widgets/base",
     "model_name": "LayoutModel",
     "state": {
      "_model_module": "@jupyter-widgets/base",
      "_model_module_version": "1.2.0",
      "_model_name": "LayoutModel",
      "_view_count": null,
      "_view_module": "@jupyter-widgets/base",
      "_view_module_version": "1.2.0",
      "_view_name": "LayoutView",
      "align_content": null,
      "align_items": null,
      "align_self": null,
      "border": null,
      "bottom": null,
      "display": null,
      "flex": null,
      "flex_flow": null,
      "grid_area": null,
      "grid_auto_columns": null,
      "grid_auto_flow": null,
      "grid_auto_rows": null,
      "grid_column": null,
      "grid_gap": null,
      "grid_row": null,
      "grid_template_areas": null,
      "grid_template_columns": null,
      "grid_template_rows": null,
      "height": null,
      "justify_content": null,
      "justify_items": null,
      "left": null,
      "margin": null,
      "max_height": null,
      "max_width": null,
      "min_height": null,
      "min_width": null,
      "object_fit": null,
      "object_position": null,
      "order": null,
      "overflow": null,
      "overflow_x": null,
      "overflow_y": null,
      "padding": null,
      "right": null,
      "top": null,
      "visibility": null,
      "width": null
     }
    },
    "5e2144cc751e4239be893dfd7b81986d": {
     "model_module": "@jupyter-widgets/base",
     "model_name": "LayoutModel",
     "state": {
      "_model_module": "@jupyter-widgets/base",
      "_model_module_version": "1.2.0",
      "_model_name": "LayoutModel",
      "_view_count": null,
      "_view_module": "@jupyter-widgets/base",
      "_view_module_version": "1.2.0",
      "_view_name": "LayoutView",
      "align_content": null,
      "align_items": null,
      "align_self": null,
      "border": null,
      "bottom": null,
      "display": null,
      "flex": null,
      "flex_flow": null,
      "grid_area": null,
      "grid_auto_columns": null,
      "grid_auto_flow": null,
      "grid_auto_rows": null,
      "grid_column": null,
      "grid_gap": null,
      "grid_row": null,
      "grid_template_areas": null,
      "grid_template_columns": null,
      "grid_template_rows": null,
      "height": null,
      "justify_content": null,
      "justify_items": null,
      "left": null,
      "margin": null,
      "max_height": null,
      "max_width": null,
      "min_height": null,
      "min_width": null,
      "object_fit": null,
      "object_position": null,
      "order": null,
      "overflow": null,
      "overflow_x": null,
      "overflow_y": null,
      "padding": null,
      "right": null,
      "top": null,
      "visibility": null,
      "width": null
     }
    },
    "5f23990d596e4c80b17fa67cad4f7f43": {
     "model_module": "@jupyter-widgets/controls",
     "model_name": "IntProgressModel",
     "state": {
      "_dom_classes": [],
      "_model_module": "@jupyter-widgets/controls",
      "_model_module_version": "1.5.0",
      "_model_name": "IntProgressModel",
      "_view_count": null,
      "_view_module": "@jupyter-widgets/controls",
      "_view_module_version": "1.5.0",
      "_view_name": "ProgressView",
      "bar_style": "success",
      "description": "100%",
      "description_tooltip": null,
      "layout": "IPY_MODEL_8538b735adcb45449ffe14edf7d6956a",
      "max": 1111222,
      "min": 0,
      "orientation": "horizontal",
      "style": "IPY_MODEL_970e55dc15be4198b1d149cf2dbaafc1",
      "value": 1111222
     }
    },
    "609c742e8f354838883f0a081c778455": {
     "model_module": "@jupyter-widgets/controls",
     "model_name": "HTMLModel",
     "state": {
      "_dom_classes": [],
      "_model_module": "@jupyter-widgets/controls",
      "_model_module_version": "1.5.0",
      "_model_name": "HTMLModel",
      "_view_count": null,
      "_view_module": "@jupyter-widgets/controls",
      "_view_module_version": "1.5.0",
      "_view_name": "HTMLView",
      "description": "",
      "description_tooltip": null,
      "layout": "IPY_MODEL_f09f32cc8a4a439f9f53142a17e73234",
      "placeholder": "​",
      "style": "IPY_MODEL_19a8877012a6469b9a11cca216aadad6",
      "value": " 1111222/1111222 [01:45&lt;00:00, 10499.17it/s]"
     }
    },
    "66eb9579b9274fca8c2894cd92d50061": {
     "model_module": "@jupyter-widgets/base",
     "model_name": "LayoutModel",
     "state": {
      "_model_module": "@jupyter-widgets/base",
      "_model_module_version": "1.2.0",
      "_model_name": "LayoutModel",
      "_view_count": null,
      "_view_module": "@jupyter-widgets/base",
      "_view_module_version": "1.2.0",
      "_view_name": "LayoutView",
      "align_content": null,
      "align_items": null,
      "align_self": null,
      "border": null,
      "bottom": null,
      "display": null,
      "flex": null,
      "flex_flow": null,
      "grid_area": null,
      "grid_auto_columns": null,
      "grid_auto_flow": null,
      "grid_auto_rows": null,
      "grid_column": null,
      "grid_gap": null,
      "grid_row": null,
      "grid_template_areas": null,
      "grid_template_columns": null,
      "grid_template_rows": null,
      "height": null,
      "justify_content": null,
      "justify_items": null,
      "left": null,
      "margin": null,
      "max_height": null,
      "max_width": null,
      "min_height": null,
      "min_width": null,
      "object_fit": null,
      "object_position": null,
      "order": null,
      "overflow": null,
      "overflow_x": null,
      "overflow_y": null,
      "padding": null,
      "right": null,
      "top": null,
      "visibility": null,
      "width": null
     }
    },
    "68feb3255337490b9bdee8f6efc18bee": {
     "model_module": "@jupyter-widgets/controls",
     "model_name": "IntProgressModel",
     "state": {
      "_dom_classes": [],
      "_model_module": "@jupyter-widgets/controls",
      "_model_module_version": "1.5.0",
      "_model_name": "IntProgressModel",
      "_view_count": null,
      "_view_module": "@jupyter-widgets/controls",
      "_view_module_version": "1.5.0",
      "_view_name": "ProgressView",
      "bar_style": "success",
      "description": "100%",
      "description_tooltip": null,
      "layout": "IPY_MODEL_7e44d71f2fa94edcbe83a3f11d1fff0a",
      "max": 1111222,
      "min": 0,
      "orientation": "horizontal",
      "style": "IPY_MODEL_1e36763ce0a04e6c833f6b059ca7a482",
      "value": 1111222
     }
    },
    "743f4ddb82b5413a9ffd89f98ecd184a": {
     "model_module": "@jupyter-widgets/controls",
     "model_name": "ProgressStyleModel",
     "state": {
      "_model_module": "@jupyter-widgets/controls",
      "_model_module_version": "1.5.0",
      "_model_name": "ProgressStyleModel",
      "_view_count": null,
      "_view_module": "@jupyter-widgets/base",
      "_view_module_version": "1.2.0",
      "_view_name": "StyleView",
      "bar_color": null,
      "description_width": "initial"
     }
    },
    "75a133cb5f90498ca7aec4957711e4e7": {
     "model_module": "@jupyter-widgets/controls",
     "model_name": "IntProgressModel",
     "state": {
      "_dom_classes": [],
      "_model_module": "@jupyter-widgets/controls",
      "_model_module_version": "1.5.0",
      "_model_name": "IntProgressModel",
      "_view_count": null,
      "_view_module": "@jupyter-widgets/controls",
      "_view_module_version": "1.5.0",
      "_view_name": "ProgressView",
      "bar_style": "success",
      "description": "100%",
      "description_tooltip": null,
      "layout": "IPY_MODEL_66eb9579b9274fca8c2894cd92d50061",
      "max": 370634,
      "min": 0,
      "orientation": "horizontal",
      "style": "IPY_MODEL_9ba2791dece5429fa6251fbeb8288a44",
      "value": 370634
     }
    },
    "764842df866f424992fb00812630f17e": {
     "model_module": "@jupyter-widgets/base",
     "model_name": "LayoutModel",
     "state": {
      "_model_module": "@jupyter-widgets/base",
      "_model_module_version": "1.2.0",
      "_model_name": "LayoutModel",
      "_view_count": null,
      "_view_module": "@jupyter-widgets/base",
      "_view_module_version": "1.2.0",
      "_view_name": "LayoutView",
      "align_content": null,
      "align_items": null,
      "align_self": null,
      "border": null,
      "bottom": null,
      "display": null,
      "flex": null,
      "flex_flow": null,
      "grid_area": null,
      "grid_auto_columns": null,
      "grid_auto_flow": null,
      "grid_auto_rows": null,
      "grid_column": null,
      "grid_gap": null,
      "grid_row": null,
      "grid_template_areas": null,
      "grid_template_columns": null,
      "grid_template_rows": null,
      "height": null,
      "justify_content": null,
      "justify_items": null,
      "left": null,
      "margin": null,
      "max_height": null,
      "max_width": null,
      "min_height": null,
      "min_width": null,
      "object_fit": null,
      "object_position": null,
      "order": null,
      "overflow": null,
      "overflow_x": null,
      "overflow_y": null,
      "padding": null,
      "right": null,
      "top": null,
      "visibility": null,
      "width": null
     }
    },
    "7c5ac13d10fe457b968645bcfe473adc": {
     "model_module": "@jupyter-widgets/controls",
     "model_name": "DescriptionStyleModel",
     "state": {
      "_model_module": "@jupyter-widgets/controls",
      "_model_module_version": "1.5.0",
      "_model_name": "DescriptionStyleModel",
      "_view_count": null,
      "_view_module": "@jupyter-widgets/base",
      "_view_module_version": "1.2.0",
      "_view_name": "StyleView",
      "description_width": ""
     }
    },
    "7e44d71f2fa94edcbe83a3f11d1fff0a": {
     "model_module": "@jupyter-widgets/base",
     "model_name": "LayoutModel",
     "state": {
      "_model_module": "@jupyter-widgets/base",
      "_model_module_version": "1.2.0",
      "_model_name": "LayoutModel",
      "_view_count": null,
      "_view_module": "@jupyter-widgets/base",
      "_view_module_version": "1.2.0",
      "_view_name": "LayoutView",
      "align_content": null,
      "align_items": null,
      "align_self": null,
      "border": null,
      "bottom": null,
      "display": null,
      "flex": null,
      "flex_flow": null,
      "grid_area": null,
      "grid_auto_columns": null,
      "grid_auto_flow": null,
      "grid_auto_rows": null,
      "grid_column": null,
      "grid_gap": null,
      "grid_row": null,
      "grid_template_areas": null,
      "grid_template_columns": null,
      "grid_template_rows": null,
      "height": null,
      "justify_content": null,
      "justify_items": null,
      "left": null,
      "margin": null,
      "max_height": null,
      "max_width": null,
      "min_height": null,
      "min_width": null,
      "object_fit": null,
      "object_position": null,
      "order": null,
      "overflow": null,
      "overflow_x": null,
      "overflow_y": null,
      "padding": null,
      "right": null,
      "top": null,
      "visibility": null,
      "width": null
     }
    },
    "7f55963f25574d4db64eb404bca5c890": {
     "model_module": "@jupyter-widgets/controls",
     "model_name": "HBoxModel",
     "state": {
      "_dom_classes": [],
      "_model_module": "@jupyter-widgets/controls",
      "_model_module_version": "1.5.0",
      "_model_name": "HBoxModel",
      "_view_count": null,
      "_view_module": "@jupyter-widgets/controls",
      "_view_module_version": "1.5.0",
      "_view_name": "HBoxView",
      "box_style": "",
      "children": [
       "IPY_MODEL_4006477a4e02476882b3d7ff733dbe81",
       "IPY_MODEL_4e90876ee5d74c26a4195347f54a795e"
      ],
      "layout": "IPY_MODEL_b573dae032d64abf9f755d71969d1d53"
     }
    },
    "828bd1ea123143b0866dc136158533da": {
     "model_module": "@jupyter-widgets/base",
     "model_name": "LayoutModel",
     "state": {
      "_model_module": "@jupyter-widgets/base",
      "_model_module_version": "1.2.0",
      "_model_name": "LayoutModel",
      "_view_count": null,
      "_view_module": "@jupyter-widgets/base",
      "_view_module_version": "1.2.0",
      "_view_name": "LayoutView",
      "align_content": null,
      "align_items": null,
      "align_self": null,
      "border": null,
      "bottom": null,
      "display": null,
      "flex": null,
      "flex_flow": null,
      "grid_area": null,
      "grid_auto_columns": null,
      "grid_auto_flow": null,
      "grid_auto_rows": null,
      "grid_column": null,
      "grid_gap": null,
      "grid_row": null,
      "grid_template_areas": null,
      "grid_template_columns": null,
      "grid_template_rows": null,
      "height": null,
      "justify_content": null,
      "justify_items": null,
      "left": null,
      "margin": null,
      "max_height": null,
      "max_width": null,
      "min_height": null,
      "min_width": null,
      "object_fit": null,
      "object_position": null,
      "order": null,
      "overflow": null,
      "overflow_x": null,
      "overflow_y": null,
      "padding": null,
      "right": null,
      "top": null,
      "visibility": null,
      "width": null
     }
    },
    "8538b735adcb45449ffe14edf7d6956a": {
     "model_module": "@jupyter-widgets/base",
     "model_name": "LayoutModel",
     "state": {
      "_model_module": "@jupyter-widgets/base",
      "_model_module_version": "1.2.0",
      "_model_name": "LayoutModel",
      "_view_count": null,
      "_view_module": "@jupyter-widgets/base",
      "_view_module_version": "1.2.0",
      "_view_name": "LayoutView",
      "align_content": null,
      "align_items": null,
      "align_self": null,
      "border": null,
      "bottom": null,
      "display": null,
      "flex": null,
      "flex_flow": null,
      "grid_area": null,
      "grid_auto_columns": null,
      "grid_auto_flow": null,
      "grid_auto_rows": null,
      "grid_column": null,
      "grid_gap": null,
      "grid_row": null,
      "grid_template_areas": null,
      "grid_template_columns": null,
      "grid_template_rows": null,
      "height": null,
      "justify_content": null,
      "justify_items": null,
      "left": null,
      "margin": null,
      "max_height": null,
      "max_width": null,
      "min_height": null,
      "min_width": null,
      "object_fit": null,
      "object_position": null,
      "order": null,
      "overflow": null,
      "overflow_x": null,
      "overflow_y": null,
      "padding": null,
      "right": null,
      "top": null,
      "visibility": null,
      "width": null
     }
    },
    "8ef655e5b7b442dbad8eb6dab698972b": {
     "model_module": "@jupyter-widgets/controls",
     "model_name": "DescriptionStyleModel",
     "state": {
      "_model_module": "@jupyter-widgets/controls",
      "_model_module_version": "1.5.0",
      "_model_name": "DescriptionStyleModel",
      "_view_count": null,
      "_view_module": "@jupyter-widgets/base",
      "_view_module_version": "1.2.0",
      "_view_name": "StyleView",
      "description_width": ""
     }
    },
    "970e55dc15be4198b1d149cf2dbaafc1": {
     "model_module": "@jupyter-widgets/controls",
     "model_name": "ProgressStyleModel",
     "state": {
      "_model_module": "@jupyter-widgets/controls",
      "_model_module_version": "1.5.0",
      "_model_name": "ProgressStyleModel",
      "_view_count": null,
      "_view_module": "@jupyter-widgets/base",
      "_view_module_version": "1.2.0",
      "_view_name": "StyleView",
      "bar_color": null,
      "description_width": "initial"
     }
    },
    "9ba2791dece5429fa6251fbeb8288a44": {
     "model_module": "@jupyter-widgets/controls",
     "model_name": "ProgressStyleModel",
     "state": {
      "_model_module": "@jupyter-widgets/controls",
      "_model_module_version": "1.5.0",
      "_model_name": "ProgressStyleModel",
      "_view_count": null,
      "_view_module": "@jupyter-widgets/base",
      "_view_module_version": "1.2.0",
      "_view_name": "StyleView",
      "bar_color": null,
      "description_width": "initial"
     }
    },
    "a25920b83f094be792b3e186c5c83ff2": {
     "model_module": "@jupyter-widgets/controls",
     "model_name": "HBoxModel",
     "state": {
      "_dom_classes": [],
      "_model_module": "@jupyter-widgets/controls",
      "_model_module_version": "1.5.0",
      "_model_name": "HBoxModel",
      "_view_count": null,
      "_view_module": "@jupyter-widgets/controls",
      "_view_module_version": "1.5.0",
      "_view_name": "HBoxView",
      "box_style": "",
      "children": [
       "IPY_MODEL_68feb3255337490b9bdee8f6efc18bee",
       "IPY_MODEL_609c742e8f354838883f0a081c778455"
      ],
      "layout": "IPY_MODEL_07f15f452c7a43f3863da1f729ceace1"
     }
    },
    "a30f83b4f5c0439381b32990bf966083": {
     "model_module": "@jupyter-widgets/controls",
     "model_name": "DescriptionStyleModel",
     "state": {
      "_model_module": "@jupyter-widgets/controls",
      "_model_module_version": "1.5.0",
      "_model_name": "DescriptionStyleModel",
      "_view_count": null,
      "_view_module": "@jupyter-widgets/base",
      "_view_module_version": "1.2.0",
      "_view_name": "StyleView",
      "description_width": ""
     }
    },
    "a32c2d6f077643caa15c13a9b632c26d": {
     "model_module": "@jupyter-widgets/controls",
     "model_name": "ProgressStyleModel",
     "state": {
      "_model_module": "@jupyter-widgets/controls",
      "_model_module_version": "1.5.0",
      "_model_name": "ProgressStyleModel",
      "_view_count": null,
      "_view_module": "@jupyter-widgets/base",
      "_view_module_version": "1.2.0",
      "_view_name": "StyleView",
      "bar_color": null,
      "description_width": "initial"
     }
    },
    "a5a1825b0ba441b2912d87f7d8651866": {
     "model_module": "@jupyter-widgets/controls",
     "model_name": "HBoxModel",
     "state": {
      "_dom_classes": [],
      "_model_module": "@jupyter-widgets/controls",
      "_model_module_version": "1.5.0",
      "_model_name": "HBoxModel",
      "_view_count": null,
      "_view_module": "@jupyter-widgets/controls",
      "_view_module_version": "1.5.0",
      "_view_name": "HBoxView",
      "box_style": "",
      "children": [
       "IPY_MODEL_d928d54580934f8a8ce26973a4528f7c",
       "IPY_MODEL_d6f5ba9f8e054b6c945bd940d0035778"
      ],
      "layout": "IPY_MODEL_2395e2123efc4e61bbd48ea037522535"
     }
    },
    "a744b835ac3b4a3197c6567a425f2c5c": {
     "model_module": "@jupyter-widgets/controls",
     "model_name": "HTMLModel",
     "state": {
      "_dom_classes": [],
      "_model_module": "@jupyter-widgets/controls",
      "_model_module_version": "1.5.0",
      "_model_name": "HTMLModel",
      "_view_count": null,
      "_view_module": "@jupyter-widgets/controls",
      "_view_module_version": "1.5.0",
      "_view_name": "HTMLView",
      "description": "",
      "description_tooltip": null,
      "layout": "IPY_MODEL_5ab2cdef13b243fd9da06a17dce16e1f",
      "placeholder": "​",
      "style": "IPY_MODEL_3ad60d562f554170af24b05a8aeca610",
      "value": " 173025/173025 [00:08&lt;00:00, 21303.90it/s]"
     }
    },
    "a937e2b105a54b488e391138867546b5": {
     "model_module": "@jupyter-widgets/controls",
     "model_name": "DescriptionStyleModel",
     "state": {
      "_model_module": "@jupyter-widgets/controls",
      "_model_module_version": "1.5.0",
      "_model_name": "DescriptionStyleModel",
      "_view_count": null,
      "_view_module": "@jupyter-widgets/base",
      "_view_module_version": "1.2.0",
      "_view_name": "StyleView",
      "description_width": ""
     }
    },
    "a93a6810c3f24c138b0a10f5f77100c4": {
     "model_module": "@jupyter-widgets/controls",
     "model_name": "ProgressStyleModel",
     "state": {
      "_model_module": "@jupyter-widgets/controls",
      "_model_module_version": "1.5.0",
      "_model_name": "ProgressStyleModel",
      "_view_count": null,
      "_view_module": "@jupyter-widgets/base",
      "_view_module_version": "1.2.0",
      "_view_name": "StyleView",
      "bar_color": null,
      "description_width": "initial"
     }
    },
    "abf1bd70d9544add99ed5956749b7644": {
     "model_module": "@jupyter-widgets/controls",
     "model_name": "DescriptionStyleModel",
     "state": {
      "_model_module": "@jupyter-widgets/controls",
      "_model_module_version": "1.5.0",
      "_model_name": "DescriptionStyleModel",
      "_view_count": null,
      "_view_module": "@jupyter-widgets/base",
      "_view_module_version": "1.2.0",
      "_view_name": "StyleView",
      "description_width": ""
     }
    },
    "ada31f58d52d4376aa8dbc8a168caf71": {
     "model_module": "@jupyter-widgets/controls",
     "model_name": "ProgressStyleModel",
     "state": {
      "_model_module": "@jupyter-widgets/controls",
      "_model_module_version": "1.5.0",
      "_model_name": "ProgressStyleModel",
      "_view_count": null,
      "_view_module": "@jupyter-widgets/base",
      "_view_module_version": "1.2.0",
      "_view_name": "StyleView",
      "bar_color": null,
      "description_width": "initial"
     }
    },
    "ae416a236b1a4fcc8235892e7274e8a8": {
     "model_module": "@jupyter-widgets/controls",
     "model_name": "HBoxModel",
     "state": {
      "_dom_classes": [],
      "_model_module": "@jupyter-widgets/controls",
      "_model_module_version": "1.5.0",
      "_model_name": "HBoxModel",
      "_view_count": null,
      "_view_module": "@jupyter-widgets/controls",
      "_view_module_version": "1.5.0",
      "_view_name": "HBoxView",
      "box_style": "",
      "children": [
       "IPY_MODEL_25461bb2c13c46349857aea83820e913",
       "IPY_MODEL_a744b835ac3b4a3197c6567a425f2c5c"
      ],
      "layout": "IPY_MODEL_828bd1ea123143b0866dc136158533da"
     }
    },
    "af453bae5bb04bfb987ab43a0f5fb5cc": {
     "model_module": "@jupyter-widgets/base",
     "model_name": "LayoutModel",
     "state": {
      "_model_module": "@jupyter-widgets/base",
      "_model_module_version": "1.2.0",
      "_model_name": "LayoutModel",
      "_view_count": null,
      "_view_module": "@jupyter-widgets/base",
      "_view_module_version": "1.2.0",
      "_view_name": "LayoutView",
      "align_content": null,
      "align_items": null,
      "align_self": null,
      "border": null,
      "bottom": null,
      "display": null,
      "flex": null,
      "flex_flow": null,
      "grid_area": null,
      "grid_auto_columns": null,
      "grid_auto_flow": null,
      "grid_auto_rows": null,
      "grid_column": null,
      "grid_gap": null,
      "grid_row": null,
      "grid_template_areas": null,
      "grid_template_columns": null,
      "grid_template_rows": null,
      "height": null,
      "justify_content": null,
      "justify_items": null,
      "left": null,
      "margin": null,
      "max_height": null,
      "max_width": null,
      "min_height": null,
      "min_width": null,
      "object_fit": null,
      "object_position": null,
      "order": null,
      "overflow": null,
      "overflow_x": null,
      "overflow_y": null,
      "padding": null,
      "right": null,
      "top": null,
      "visibility": null,
      "width": null
     }
    },
    "afcb206b9c2c4bbaa0e89e5d02608e1c": {
     "model_module": "@jupyter-widgets/controls",
     "model_name": "IntProgressModel",
     "state": {
      "_dom_classes": [],
      "_model_module": "@jupyter-widgets/controls",
      "_model_module_version": "1.5.0",
      "_model_name": "IntProgressModel",
      "_view_count": null,
      "_view_module": "@jupyter-widgets/controls",
      "_view_module_version": "1.5.0",
      "_view_name": "ProgressView",
      "bar_style": "success",
      "description": "100%",
      "description_tooltip": null,
      "layout": "IPY_MODEL_383010638f914463ae7c0b985821abe0",
      "max": 1111222,
      "min": 0,
      "orientation": "horizontal",
      "style": "IPY_MODEL_4ed12d3ea9594e26bbded0511ea4682e",
      "value": 1111222
     }
    },
    "b4fe257a14ec4efd9816f80bd849dd40": {
     "model_module": "@jupyter-widgets/controls",
     "model_name": "HBoxModel",
     "state": {
      "_dom_classes": [],
      "_model_module": "@jupyter-widgets/controls",
      "_model_module_version": "1.5.0",
      "_model_name": "HBoxModel",
      "_view_count": null,
      "_view_module": "@jupyter-widgets/controls",
      "_view_module_version": "1.5.0",
      "_view_name": "HBoxView",
      "box_style": "",
      "children": [
       "IPY_MODEL_2d78a988bb734c82ae8eca2bee01884a",
       "IPY_MODEL_4cf1867b75274ebe86c81ed74e25c0dd"
      ],
      "layout": "IPY_MODEL_af453bae5bb04bfb987ab43a0f5fb5cc"
     }
    },
    "b53a3ece692d411fa49e13b65176e42c": {
     "model_module": "@jupyter-widgets/base",
     "model_name": "LayoutModel",
     "state": {
      "_model_module": "@jupyter-widgets/base",
      "_model_module_version": "1.2.0",
      "_model_name": "LayoutModel",
      "_view_count": null,
      "_view_module": "@jupyter-widgets/base",
      "_view_module_version": "1.2.0",
      "_view_name": "LayoutView",
      "align_content": null,
      "align_items": null,
      "align_self": null,
      "border": null,
      "bottom": null,
      "display": null,
      "flex": null,
      "flex_flow": null,
      "grid_area": null,
      "grid_auto_columns": null,
      "grid_auto_flow": null,
      "grid_auto_rows": null,
      "grid_column": null,
      "grid_gap": null,
      "grid_row": null,
      "grid_template_areas": null,
      "grid_template_columns": null,
      "grid_template_rows": null,
      "height": null,
      "justify_content": null,
      "justify_items": null,
      "left": null,
      "margin": null,
      "max_height": null,
      "max_width": null,
      "min_height": null,
      "min_width": null,
      "object_fit": null,
      "object_position": null,
      "order": null,
      "overflow": null,
      "overflow_x": null,
      "overflow_y": null,
      "padding": null,
      "right": null,
      "top": null,
      "visibility": null,
      "width": null
     }
    },
    "b573dae032d64abf9f755d71969d1d53": {
     "model_module": "@jupyter-widgets/base",
     "model_name": "LayoutModel",
     "state": {
      "_model_module": "@jupyter-widgets/base",
      "_model_module_version": "1.2.0",
      "_model_name": "LayoutModel",
      "_view_count": null,
      "_view_module": "@jupyter-widgets/base",
      "_view_module_version": "1.2.0",
      "_view_name": "LayoutView",
      "align_content": null,
      "align_items": null,
      "align_self": null,
      "border": null,
      "bottom": null,
      "display": null,
      "flex": null,
      "flex_flow": null,
      "grid_area": null,
      "grid_auto_columns": null,
      "grid_auto_flow": null,
      "grid_auto_rows": null,
      "grid_column": null,
      "grid_gap": null,
      "grid_row": null,
      "grid_template_areas": null,
      "grid_template_columns": null,
      "grid_template_rows": null,
      "height": null,
      "justify_content": null,
      "justify_items": null,
      "left": null,
      "margin": null,
      "max_height": null,
      "max_width": null,
      "min_height": null,
      "min_width": null,
      "object_fit": null,
      "object_position": null,
      "order": null,
      "overflow": null,
      "overflow_x": null,
      "overflow_y": null,
      "padding": null,
      "right": null,
      "top": null,
      "visibility": null,
      "width": null
     }
    },
    "b79000544a0c4f249d749fe7ef7c33d0": {
     "model_module": "@jupyter-widgets/base",
     "model_name": "LayoutModel",
     "state": {
      "_model_module": "@jupyter-widgets/base",
      "_model_module_version": "1.2.0",
      "_model_name": "LayoutModel",
      "_view_count": null,
      "_view_module": "@jupyter-widgets/base",
      "_view_module_version": "1.2.0",
      "_view_name": "LayoutView",
      "align_content": null,
      "align_items": null,
      "align_self": null,
      "border": null,
      "bottom": null,
      "display": null,
      "flex": null,
      "flex_flow": null,
      "grid_area": null,
      "grid_auto_columns": null,
      "grid_auto_flow": null,
      "grid_auto_rows": null,
      "grid_column": null,
      "grid_gap": null,
      "grid_row": null,
      "grid_template_areas": null,
      "grid_template_columns": null,
      "grid_template_rows": null,
      "height": null,
      "justify_content": null,
      "justify_items": null,
      "left": null,
      "margin": null,
      "max_height": null,
      "max_width": null,
      "min_height": null,
      "min_width": null,
      "object_fit": null,
      "object_position": null,
      "order": null,
      "overflow": null,
      "overflow_x": null,
      "overflow_y": null,
      "padding": null,
      "right": null,
      "top": null,
      "visibility": null,
      "width": null
     }
    },
    "b7e4e4776c0a424fada2152a7b32d062": {
     "model_module": "@jupyter-widgets/controls",
     "model_name": "HBoxModel",
     "state": {
      "_dom_classes": [],
      "_model_module": "@jupyter-widgets/controls",
      "_model_module_version": "1.5.0",
      "_model_name": "HBoxModel",
      "_view_count": null,
      "_view_module": "@jupyter-widgets/controls",
      "_view_module_version": "1.5.0",
      "_view_name": "HBoxView",
      "box_style": "",
      "children": [
       "IPY_MODEL_afcb206b9c2c4bbaa0e89e5d02608e1c",
       "IPY_MODEL_cff56002e66547fe8f1a8142413c6969"
      ],
      "layout": "IPY_MODEL_295d9bf85b2c4afd987f77353dba1f66"
     }
    },
    "b82cfb5630ce45fabb618a5353b2a8ad": {
     "model_module": "@jupyter-widgets/controls",
     "model_name": "HTMLModel",
     "state": {
      "_dom_classes": [],
      "_model_module": "@jupyter-widgets/controls",
      "_model_module_version": "1.5.0",
      "_model_name": "HTMLModel",
      "_view_count": null,
      "_view_module": "@jupyter-widgets/controls",
      "_view_module_version": "1.5.0",
      "_view_name": "HTMLView",
      "description": "",
      "description_tooltip": null,
      "layout": "IPY_MODEL_e846b0c1d9c0454496da5f0b3d164152",
      "placeholder": "​",
      "style": "IPY_MODEL_a30f83b4f5c0439381b32990bf966083",
      "value": " 1111222/1111222 [02:43&lt;00:00, 6812.33it/s]"
     }
    },
    "b863bd24d633425595219addc6896d08": {
     "model_module": "@jupyter-widgets/base",
     "model_name": "LayoutModel",
     "state": {
      "_model_module": "@jupyter-widgets/base",
      "_model_module_version": "1.2.0",
      "_model_name": "LayoutModel",
      "_view_count": null,
      "_view_module": "@jupyter-widgets/base",
      "_view_module_version": "1.2.0",
      "_view_name": "LayoutView",
      "align_content": null,
      "align_items": null,
      "align_self": null,
      "border": null,
      "bottom": null,
      "display": null,
      "flex": null,
      "flex_flow": null,
      "grid_area": null,
      "grid_auto_columns": null,
      "grid_auto_flow": null,
      "grid_auto_rows": null,
      "grid_column": null,
      "grid_gap": null,
      "grid_row": null,
      "grid_template_areas": null,
      "grid_template_columns": null,
      "grid_template_rows": null,
      "height": null,
      "justify_content": null,
      "justify_items": null,
      "left": null,
      "margin": null,
      "max_height": null,
      "max_width": null,
      "min_height": null,
      "min_width": null,
      "object_fit": null,
      "object_position": null,
      "order": null,
      "overflow": null,
      "overflow_x": null,
      "overflow_y": null,
      "padding": null,
      "right": null,
      "top": null,
      "visibility": null,
      "width": null
     }
    },
    "b9c06b071f8f4a8c943325963a2ec536": {
     "model_module": "@jupyter-widgets/controls",
     "model_name": "HBoxModel",
     "state": {
      "_dom_classes": [],
      "_model_module": "@jupyter-widgets/controls",
      "_model_module_version": "1.5.0",
      "_model_name": "HBoxModel",
      "_view_count": null,
      "_view_module": "@jupyter-widgets/controls",
      "_view_module_version": "1.5.0",
      "_view_name": "HBoxView",
      "box_style": "",
      "children": [
       "IPY_MODEL_3b3ded094b6d4d3c9b1c8b0f3a52f91c",
       "IPY_MODEL_2a6dd970ffff4ead8684fe0aeba9baa5"
      ],
      "layout": "IPY_MODEL_340aba14caac41f6a6d8dc5a0ab5cb67"
     }
    },
    "c14c2bf6fde344f8bc48a06fa3452845": {
     "model_module": "@jupyter-widgets/controls",
     "model_name": "DescriptionStyleModel",
     "state": {
      "_model_module": "@jupyter-widgets/controls",
      "_model_module_version": "1.5.0",
      "_model_name": "DescriptionStyleModel",
      "_view_count": null,
      "_view_module": "@jupyter-widgets/base",
      "_view_module_version": "1.2.0",
      "_view_name": "StyleView",
      "description_width": ""
     }
    },
    "c4fe47f3dfd946b08aa5b9b9649bbb44": {
     "model_module": "@jupyter-widgets/base",
     "model_name": "LayoutModel",
     "state": {
      "_model_module": "@jupyter-widgets/base",
      "_model_module_version": "1.2.0",
      "_model_name": "LayoutModel",
      "_view_count": null,
      "_view_module": "@jupyter-widgets/base",
      "_view_module_version": "1.2.0",
      "_view_name": "LayoutView",
      "align_content": null,
      "align_items": null,
      "align_self": null,
      "border": null,
      "bottom": null,
      "display": null,
      "flex": null,
      "flex_flow": null,
      "grid_area": null,
      "grid_auto_columns": null,
      "grid_auto_flow": null,
      "grid_auto_rows": null,
      "grid_column": null,
      "grid_gap": null,
      "grid_row": null,
      "grid_template_areas": null,
      "grid_template_columns": null,
      "grid_template_rows": null,
      "height": null,
      "justify_content": null,
      "justify_items": null,
      "left": null,
      "margin": null,
      "max_height": null,
      "max_width": null,
      "min_height": null,
      "min_width": null,
      "object_fit": null,
      "object_position": null,
      "order": null,
      "overflow": null,
      "overflow_x": null,
      "overflow_y": null,
      "padding": null,
      "right": null,
      "top": null,
      "visibility": null,
      "width": null
     }
    },
    "c71578b2e3d34acdad85967722a07b4f": {
     "model_module": "@jupyter-widgets/base",
     "model_name": "LayoutModel",
     "state": {
      "_model_module": "@jupyter-widgets/base",
      "_model_module_version": "1.2.0",
      "_model_name": "LayoutModel",
      "_view_count": null,
      "_view_module": "@jupyter-widgets/base",
      "_view_module_version": "1.2.0",
      "_view_name": "LayoutView",
      "align_content": null,
      "align_items": null,
      "align_self": null,
      "border": null,
      "bottom": null,
      "display": null,
      "flex": null,
      "flex_flow": null,
      "grid_area": null,
      "grid_auto_columns": null,
      "grid_auto_flow": null,
      "grid_auto_rows": null,
      "grid_column": null,
      "grid_gap": null,
      "grid_row": null,
      "grid_template_areas": null,
      "grid_template_columns": null,
      "grid_template_rows": null,
      "height": null,
      "justify_content": null,
      "justify_items": null,
      "left": null,
      "margin": null,
      "max_height": null,
      "max_width": null,
      "min_height": null,
      "min_width": null,
      "object_fit": null,
      "object_position": null,
      "order": null,
      "overflow": null,
      "overflow_x": null,
      "overflow_y": null,
      "padding": null,
      "right": null,
      "top": null,
      "visibility": null,
      "width": null
     }
    },
    "cff12855a0ff4534b6b5dd58adc3baca": {
     "model_module": "@jupyter-widgets/controls",
     "model_name": "IntProgressModel",
     "state": {
      "_dom_classes": [],
      "_model_module": "@jupyter-widgets/controls",
      "_model_module_version": "1.5.0",
      "_model_name": "IntProgressModel",
      "_view_count": null,
      "_view_module": "@jupyter-widgets/controls",
      "_view_module_version": "1.5.0",
      "_view_name": "ProgressView",
      "bar_style": "success",
      "description": "100%",
      "description_tooltip": null,
      "layout": "IPY_MODEL_b79000544a0c4f249d749fe7ef7c33d0",
      "max": 1111222,
      "min": 0,
      "orientation": "horizontal",
      "style": "IPY_MODEL_743f4ddb82b5413a9ffd89f98ecd184a",
      "value": 1111222
     }
    },
    "cff56002e66547fe8f1a8142413c6969": {
     "model_module": "@jupyter-widgets/controls",
     "model_name": "HTMLModel",
     "state": {
      "_dom_classes": [],
      "_model_module": "@jupyter-widgets/controls",
      "_model_module_version": "1.5.0",
      "_model_name": "HTMLModel",
      "_view_count": null,
      "_view_module": "@jupyter-widgets/controls",
      "_view_module_version": "1.5.0",
      "_view_name": "HTMLView",
      "description": "",
      "description_tooltip": null,
      "layout": "IPY_MODEL_48e0c8501b3c43c2a4b1ca587ed5b6be",
      "placeholder": "​",
      "style": "IPY_MODEL_2b52c573ca8649cd860a51f4a353b172",
      "value": " 1111222/1111222 [02:46&lt;00:00, 6686.19it/s]"
     }
    },
    "d40a49e648974bb5af7ff70108348e85": {
     "model_module": "@jupyter-widgets/base",
     "model_name": "LayoutModel",
     "state": {
      "_model_module": "@jupyter-widgets/base",
      "_model_module_version": "1.2.0",
      "_model_name": "LayoutModel",
      "_view_count": null,
      "_view_module": "@jupyter-widgets/base",
      "_view_module_version": "1.2.0",
      "_view_name": "LayoutView",
      "align_content": null,
      "align_items": null,
      "align_self": null,
      "border": null,
      "bottom": null,
      "display": null,
      "flex": null,
      "flex_flow": null,
      "grid_area": null,
      "grid_auto_columns": null,
      "grid_auto_flow": null,
      "grid_auto_rows": null,
      "grid_column": null,
      "grid_gap": null,
      "grid_row": null,
      "grid_template_areas": null,
      "grid_template_columns": null,
      "grid_template_rows": null,
      "height": null,
      "justify_content": null,
      "justify_items": null,
      "left": null,
      "margin": null,
      "max_height": null,
      "max_width": null,
      "min_height": null,
      "min_width": null,
      "object_fit": null,
      "object_position": null,
      "order": null,
      "overflow": null,
      "overflow_x": null,
      "overflow_y": null,
      "padding": null,
      "right": null,
      "top": null,
      "visibility": null,
      "width": null
     }
    },
    "d6f5ba9f8e054b6c945bd940d0035778": {
     "model_module": "@jupyter-widgets/controls",
     "model_name": "HTMLModel",
     "state": {
      "_dom_classes": [],
      "_model_module": "@jupyter-widgets/controls",
      "_model_module_version": "1.5.0",
      "_model_name": "HTMLModel",
      "_view_count": null,
      "_view_module": "@jupyter-widgets/controls",
      "_view_module_version": "1.5.0",
      "_view_name": "HTMLView",
      "description": "",
      "description_tooltip": null,
      "layout": "IPY_MODEL_d40a49e648974bb5af7ff70108348e85",
      "placeholder": "​",
      "style": "IPY_MODEL_f4adffb5162b4359a870cd1e57994be7",
      "value": " 370634/370634 [00:08&lt;00:00, 46317.44it/s]"
     }
    },
    "d928d54580934f8a8ce26973a4528f7c": {
     "model_module": "@jupyter-widgets/controls",
     "model_name": "IntProgressModel",
     "state": {
      "_dom_classes": [],
      "_model_module": "@jupyter-widgets/controls",
      "_model_module_version": "1.5.0",
      "_model_name": "IntProgressModel",
      "_view_count": null,
      "_view_module": "@jupyter-widgets/controls",
      "_view_module_version": "1.5.0",
      "_view_name": "ProgressView",
      "bar_style": "success",
      "description": "100%",
      "description_tooltip": null,
      "layout": "IPY_MODEL_5e2144cc751e4239be893dfd7b81986d",
      "max": 370634,
      "min": 0,
      "orientation": "horizontal",
      "style": "IPY_MODEL_ada31f58d52d4376aa8dbc8a168caf71",
      "value": 370634
     }
    },
    "da8b3f6632b84f969f7d010e11000b4a": {
     "model_module": "@jupyter-widgets/base",
     "model_name": "LayoutModel",
     "state": {
      "_model_module": "@jupyter-widgets/base",
      "_model_module_version": "1.2.0",
      "_model_name": "LayoutModel",
      "_view_count": null,
      "_view_module": "@jupyter-widgets/base",
      "_view_module_version": "1.2.0",
      "_view_name": "LayoutView",
      "align_content": null,
      "align_items": null,
      "align_self": null,
      "border": null,
      "bottom": null,
      "display": null,
      "flex": null,
      "flex_flow": null,
      "grid_area": null,
      "grid_auto_columns": null,
      "grid_auto_flow": null,
      "grid_auto_rows": null,
      "grid_column": null,
      "grid_gap": null,
      "grid_row": null,
      "grid_template_areas": null,
      "grid_template_columns": null,
      "grid_template_rows": null,
      "height": null,
      "justify_content": null,
      "justify_items": null,
      "left": null,
      "margin": null,
      "max_height": null,
      "max_width": null,
      "min_height": null,
      "min_width": null,
      "object_fit": null,
      "object_position": null,
      "order": null,
      "overflow": null,
      "overflow_x": null,
      "overflow_y": null,
      "padding": null,
      "right": null,
      "top": null,
      "visibility": null,
      "width": null
     }
    },
    "dc0233a0d44f4a3bbfb4dbf62cedf0db": {
     "model_module": "@jupyter-widgets/controls",
     "model_name": "HBoxModel",
     "state": {
      "_dom_classes": [],
      "_model_module": "@jupyter-widgets/controls",
      "_model_module_version": "1.5.0",
      "_model_name": "HBoxModel",
      "_view_count": null,
      "_view_module": "@jupyter-widgets/controls",
      "_view_module_version": "1.5.0",
      "_view_name": "HBoxView",
      "box_style": "",
      "children": [
       "IPY_MODEL_75a133cb5f90498ca7aec4957711e4e7",
       "IPY_MODEL_3d286953cb88488bbe996d6956f800f6"
      ],
      "layout": "IPY_MODEL_0e5c8c1845144ceea3854bed2151fdc6"
     }
    },
    "de8da20f4a9a4cc1a48be18d834d8c2a": {
     "model_module": "@jupyter-widgets/controls",
     "model_name": "ProgressStyleModel",
     "state": {
      "_model_module": "@jupyter-widgets/controls",
      "_model_module_version": "1.5.0",
      "_model_name": "ProgressStyleModel",
      "_view_count": null,
      "_view_module": "@jupyter-widgets/base",
      "_view_module_version": "1.2.0",
      "_view_name": "StyleView",
      "bar_color": null,
      "description_width": "initial"
     }
    },
    "e4db030ab8bc4e3db2cb08eeb11c4117": {
     "model_module": "@jupyter-widgets/base",
     "model_name": "LayoutModel",
     "state": {
      "_model_module": "@jupyter-widgets/base",
      "_model_module_version": "1.2.0",
      "_model_name": "LayoutModel",
      "_view_count": null,
      "_view_module": "@jupyter-widgets/base",
      "_view_module_version": "1.2.0",
      "_view_name": "LayoutView",
      "align_content": null,
      "align_items": null,
      "align_self": null,
      "border": null,
      "bottom": null,
      "display": null,
      "flex": null,
      "flex_flow": null,
      "grid_area": null,
      "grid_auto_columns": null,
      "grid_auto_flow": null,
      "grid_auto_rows": null,
      "grid_column": null,
      "grid_gap": null,
      "grid_row": null,
      "grid_template_areas": null,
      "grid_template_columns": null,
      "grid_template_rows": null,
      "height": null,
      "justify_content": null,
      "justify_items": null,
      "left": null,
      "margin": null,
      "max_height": null,
      "max_width": null,
      "min_height": null,
      "min_width": null,
      "object_fit": null,
      "object_position": null,
      "order": null,
      "overflow": null,
      "overflow_x": null,
      "overflow_y": null,
      "padding": null,
      "right": null,
      "top": null,
      "visibility": null,
      "width": null
     }
    },
    "e846b0c1d9c0454496da5f0b3d164152": {
     "model_module": "@jupyter-widgets/base",
     "model_name": "LayoutModel",
     "state": {
      "_model_module": "@jupyter-widgets/base",
      "_model_module_version": "1.2.0",
      "_model_name": "LayoutModel",
      "_view_count": null,
      "_view_module": "@jupyter-widgets/base",
      "_view_module_version": "1.2.0",
      "_view_name": "LayoutView",
      "align_content": null,
      "align_items": null,
      "align_self": null,
      "border": null,
      "bottom": null,
      "display": null,
      "flex": null,
      "flex_flow": null,
      "grid_area": null,
      "grid_auto_columns": null,
      "grid_auto_flow": null,
      "grid_auto_rows": null,
      "grid_column": null,
      "grid_gap": null,
      "grid_row": null,
      "grid_template_areas": null,
      "grid_template_columns": null,
      "grid_template_rows": null,
      "height": null,
      "justify_content": null,
      "justify_items": null,
      "left": null,
      "margin": null,
      "max_height": null,
      "max_width": null,
      "min_height": null,
      "min_width": null,
      "object_fit": null,
      "object_position": null,
      "order": null,
      "overflow": null,
      "overflow_x": null,
      "overflow_y": null,
      "padding": null,
      "right": null,
      "top": null,
      "visibility": null,
      "width": null
     }
    },
    "e9d66c9785b74b589d1b480ce6827120": {
     "model_module": "@jupyter-widgets/controls",
     "model_name": "HTMLModel",
     "state": {
      "_dom_classes": [],
      "_model_module": "@jupyter-widgets/controls",
      "_model_module_version": "1.5.0",
      "_model_name": "HTMLModel",
      "_view_count": null,
      "_view_module": "@jupyter-widgets/controls",
      "_view_module_version": "1.5.0",
      "_view_name": "HTMLView",
      "description": "",
      "description_tooltip": null,
      "layout": "IPY_MODEL_2ee7f20cdf6042e0b5d393b0bdedf9aa",
      "placeholder": "​",
      "style": "IPY_MODEL_f720630bdb144dd1acef951e43effd11",
      "value": " 1111222/1111222 [00:23&lt;00:00, 46338.40it/s]"
     }
    },
    "eb9b86b793ef4b0b9a06d4892cfc61d4": {
     "model_module": "@jupyter-widgets/controls",
     "model_name": "IntProgressModel",
     "state": {
      "_dom_classes": [],
      "_model_module": "@jupyter-widgets/controls",
      "_model_module_version": "1.5.0",
      "_model_name": "IntProgressModel",
      "_view_count": null,
      "_view_module": "@jupyter-widgets/controls",
      "_view_module_version": "1.5.0",
      "_view_name": "ProgressView",
      "bar_style": "success",
      "description": "100%",
      "description_tooltip": null,
      "layout": "IPY_MODEL_c4fe47f3dfd946b08aa5b9b9649bbb44",
      "max": 370634,
      "min": 0,
      "orientation": "horizontal",
      "style": "IPY_MODEL_a32c2d6f077643caa15c13a9b632c26d",
      "value": 370634
     }
    },
    "f09f32cc8a4a439f9f53142a17e73234": {
     "model_module": "@jupyter-widgets/base",
     "model_name": "LayoutModel",
     "state": {
      "_model_module": "@jupyter-widgets/base",
      "_model_module_version": "1.2.0",
      "_model_name": "LayoutModel",
      "_view_count": null,
      "_view_module": "@jupyter-widgets/base",
      "_view_module_version": "1.2.0",
      "_view_name": "LayoutView",
      "align_content": null,
      "align_items": null,
      "align_self": null,
      "border": null,
      "bottom": null,
      "display": null,
      "flex": null,
      "flex_flow": null,
      "grid_area": null,
      "grid_auto_columns": null,
      "grid_auto_flow": null,
      "grid_auto_rows": null,
      "grid_column": null,
      "grid_gap": null,
      "grid_row": null,
      "grid_template_areas": null,
      "grid_template_columns": null,
      "grid_template_rows": null,
      "height": null,
      "justify_content": null,
      "justify_items": null,
      "left": null,
      "margin": null,
      "max_height": null,
      "max_width": null,
      "min_height": null,
      "min_width": null,
      "object_fit": null,
      "object_position": null,
      "order": null,
      "overflow": null,
      "overflow_x": null,
      "overflow_y": null,
      "padding": null,
      "right": null,
      "top": null,
      "visibility": null,
      "width": null
     }
    },
    "f4adffb5162b4359a870cd1e57994be7": {
     "model_module": "@jupyter-widgets/controls",
     "model_name": "DescriptionStyleModel",
     "state": {
      "_model_module": "@jupyter-widgets/controls",
      "_model_module_version": "1.5.0",
      "_model_name": "DescriptionStyleModel",
      "_view_count": null,
      "_view_module": "@jupyter-widgets/base",
      "_view_module_version": "1.2.0",
      "_view_name": "StyleView",
      "description_width": ""
     }
    },
    "f5e1dfbe3f25479d947026e1d9dc3382": {
     "model_module": "@jupyter-widgets/controls",
     "model_name": "ProgressStyleModel",
     "state": {
      "_model_module": "@jupyter-widgets/controls",
      "_model_module_version": "1.5.0",
      "_model_name": "ProgressStyleModel",
      "_view_count": null,
      "_view_module": "@jupyter-widgets/base",
      "_view_module_version": "1.2.0",
      "_view_name": "StyleView",
      "bar_color": null,
      "description_width": "initial"
     }
    },
    "f720630bdb144dd1acef951e43effd11": {
     "model_module": "@jupyter-widgets/controls",
     "model_name": "DescriptionStyleModel",
     "state": {
      "_model_module": "@jupyter-widgets/controls",
      "_model_module_version": "1.5.0",
      "_model_name": "DescriptionStyleModel",
      "_view_count": null,
      "_view_module": "@jupyter-widgets/base",
      "_view_module_version": "1.2.0",
      "_view_name": "StyleView",
      "description_width": ""
     }
    },
    "f73e5f8a321c4500bfbc96f8bef86b53": {
     "model_module": "@jupyter-widgets/controls",
     "model_name": "HBoxModel",
     "state": {
      "_dom_classes": [],
      "_model_module": "@jupyter-widgets/controls",
      "_model_module_version": "1.5.0",
      "_model_name": "HBoxModel",
      "_view_count": null,
      "_view_module": "@jupyter-widgets/controls",
      "_view_module_version": "1.5.0",
      "_view_name": "HBoxView",
      "box_style": "",
      "children": [
       "IPY_MODEL_cff12855a0ff4534b6b5dd58adc3baca",
       "IPY_MODEL_b82cfb5630ce45fabb618a5353b2a8ad"
      ],
      "layout": "IPY_MODEL_129838d6f1ae434b8c03bce1ec7c021e"
     }
    },
    "fbcc5268c4914760980f8089a7529774": {
     "model_module": "@jupyter-widgets/controls",
     "model_name": "ProgressStyleModel",
     "state": {
      "_model_module": "@jupyter-widgets/controls",
      "_model_module_version": "1.5.0",
      "_model_name": "ProgressStyleModel",
      "_view_count": null,
      "_view_module": "@jupyter-widgets/base",
      "_view_module_version": "1.2.0",
      "_view_name": "StyleView",
      "bar_color": null,
      "description_width": "initial"
     }
    },
    "ffbb695f1dda43059701fdb2b74bfcc1": {
     "model_module": "@jupyter-widgets/base",
     "model_name": "LayoutModel",
     "state": {
      "_model_module": "@jupyter-widgets/base",
      "_model_module_version": "1.2.0",
      "_model_name": "LayoutModel",
      "_view_count": null,
      "_view_module": "@jupyter-widgets/base",
      "_view_module_version": "1.2.0",
      "_view_name": "LayoutView",
      "align_content": null,
      "align_items": null,
      "align_self": null,
      "border": null,
      "bottom": null,
      "display": null,
      "flex": null,
      "flex_flow": null,
      "grid_area": null,
      "grid_auto_columns": null,
      "grid_auto_flow": null,
      "grid_auto_rows": null,
      "grid_column": null,
      "grid_gap": null,
      "grid_row": null,
      "grid_template_areas": null,
      "grid_template_columns": null,
      "grid_template_rows": null,
      "height": null,
      "justify_content": null,
      "justify_items": null,
      "left": null,
      "margin": null,
      "max_height": null,
      "max_width": null,
      "min_height": null,
      "min_width": null,
      "object_fit": null,
      "object_position": null,
      "order": null,
      "overflow": null,
      "overflow_x": null,
      "overflow_y": null,
      "padding": null,
      "right": null,
      "top": null,
      "visibility": null,
      "width": null
     }
    }
   }
  }
 },
 "nbformat": 4,
 "nbformat_minor": 1
}
