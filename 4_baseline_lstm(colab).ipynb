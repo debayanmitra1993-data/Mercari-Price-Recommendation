{
 "cells": [
  {
   "cell_type": "markdown",
   "metadata": {
    "colab_type": "text",
    "id": "xbJ16Cf7kp7m"
   },
   "source": [
    "#  <font color='red'>Table of Contents</font>\n"
   ]
  },
  {
   "cell_type": "markdown",
   "metadata": {
    "colab_type": "text",
    "id": "T91FjiFxk7V4"
   },
   "source": [
    "[11. Baseline LSTM (Colab)](#section11)<br>"
   ]
  },
  {
   "cell_type": "code",
   "execution_count": 0,
   "metadata": {
    "colab": {
     "base_uri": "https://localhost:8080/",
     "height": 50
    },
    "colab_type": "code",
    "id": "MrSg9uHztS4T",
    "outputId": "45df3035-b699-4a3c-e96a-1773571c1fbe"
   },
   "outputs": [
    {
     "name": "stdout",
     "output_type": "stream",
     "text": [
      "TensorFlow 1.x selected.\n",
      "1.15.2\n"
     ]
    }
   ],
   "source": [
    "%tensorflow_version 1.x\n",
    "import tensorflow as tf\n",
    "print(tf.__version__)"
   ]
  },
  {
   "cell_type": "code",
   "execution_count": 0,
   "metadata": {
    "colab": {
     "base_uri": "https://localhost:8080/",
     "height": 34
    },
    "colab_type": "code",
    "id": "g5VH1cfUliA5",
    "outputId": "2e0772df-a391-4d8e-a493-f859937ee43e"
   },
   "outputs": [
    {
     "name": "stdout",
     "output_type": "stream",
     "text": [
      "CWD is  /content\n"
     ]
    }
   ],
   "source": [
    "#ref - https://stackoverflow.com/questions/14463277/how-to-disable-python-warnings\n",
    "\n",
    "# Basic Libs..\n",
    "import warnings\n",
    "warnings.filterwarnings(\"ignore\")\n",
    "import math\n",
    "import pandas as pd\n",
    "import numpy as np\n",
    "import scipy\n",
    "import scipy.sparse\n",
    "from tqdm import tqdm,tqdm_notebook\n",
    "from prettytable import PrettyTable\n",
    "import pickle\n",
    "from IPython.display import Image\n",
    "import os\n",
    "print('CWD is ',os.getcwd())\n",
    "\n",
    "# Vis Libs..\n",
    "import seaborn as sns\n",
    "import matplotlib.pyplot as plt\n",
    "from wordcloud import WordCloud\n",
    "\n",
    "# Text Libs..\n",
    "import re\n",
    "from gensim import corpora, models\n",
    "import gensim\n",
    "from gensim.utils import simple_preprocess\n",
    "from gensim.parsing.preprocessing import STOPWORDS\n",
    "from nltk.stem import WordNetLemmatizer, SnowballStemmer,PorterStemmer\n",
    "from nltk.stem.porter import *\n",
    "import nltk\n",
    "from nltk.sentiment.vader import SentimentIntensityAnalyzer\n",
    "from sklearn.feature_extraction.text import CountVectorizer,TfidfVectorizer\n",
    "from sklearn.preprocessing import LabelBinarizer\n",
    "\n",
    "# ML Libs...\n",
    "from sklearn.model_selection import train_test_split\n",
    "from sklearn.preprocessing import StandardScaler, MinMaxScaler\n",
    "from sklearn.linear_model import Ridge\n",
    "from sklearn.metrics import mean_squared_error\n",
    "import lightgbm as lgb\n",
    "from sklearn.feature_selection import SelectKBest,f_regression\n",
    "from sklearn.model_selection import GridSearchCV\n",
    "\n",
    "# DL Libs..\n",
    "from tensorflow.keras.preprocessing.text import Tokenizer\n",
    "from tensorflow.keras.preprocessing.sequence import pad_sequences\n",
    "from tensorflow.keras.layers import Dense, Input , Dropout, Flatten,concatenate,LSTM\n",
    "from tensorflow.keras.layers import Embedding\n",
    "import tensorflow.keras\n",
    "from tensorflow.keras.models import Model,load_model\n",
    "from tensorflow.keras.layers import BatchNormalization\n",
    "from tensorflow.keras.utils import plot_model\n",
    "from tensorflow.keras.callbacks import ModelCheckpoint,TensorBoard,ReduceLROnPlateau, EarlyStopping\n",
    "from tensorflow.keras import backend as K\n",
    "\n",
    "# Colab Libs...\n",
    "from pydrive.auth import GoogleAuth\n",
    "from pydrive.drive import GoogleDrive\n",
    "from google.colab import auth\n",
    "from oauth2client.client import GoogleCredentials"
   ]
  },
  {
   "cell_type": "markdown",
   "metadata": {
    "colab_type": "text",
    "id": "CJlZWjEtlG94"
   },
   "source": [
    "#  <a id = 'section11'> <font color='red'>  11. Baseline LSTM (colab)  </font> </a>"
   ]
  },
  {
   "cell_type": "markdown",
   "metadata": {
    "colab_type": "text",
    "id": "MHIw9E4_lOdZ"
   },
   "source": [
    "### <font color='red'> 11.1 Setup Colab Environment </font>"
   ]
  },
  {
   "cell_type": "code",
   "execution_count": null,
   "metadata": {},
   "outputs": [],
   "source": [
    "'''\n",
    "Code below sets up Google Colab to load the input files from\n",
    "Google Drive and can output files as well\n",
    "'''"
   ]
  },
  {
   "cell_type": "code",
   "execution_count": 0,
   "metadata": {
    "colab": {},
    "colab_type": "code",
    "id": "hc7Cpkhrkit-"
   },
   "outputs": [],
   "source": [
    "# Importing Libraries\n",
    "#ref - https://buomsoo-kim.github.io/colab/2018/04/16/Importing-files-from-Google-Drive-in-Google-Colab.md/\n",
    "\n",
    "auth.authenticate_user()\n",
    "gauth = GoogleAuth()\n",
    "gauth.credentials = GoogleCredentials.get_application_default()\n",
    "drive = GoogleDrive(gauth)"
   ]
  },
  {
   "cell_type": "code",
   "execution_count": 0,
   "metadata": {
    "colab": {
     "base_uri": "https://localhost:8080/",
     "height": 121
    },
    "colab_type": "code",
    "id": "2eufWtwjki1j",
    "outputId": "e5f6ddf9-71f9-496f-86c7-d7511971d1d6"
   },
   "outputs": [
    {
     "name": "stdout",
     "output_type": "stream",
     "text": [
      "Go to this URL in a browser: https://accounts.google.com/o/oauth2/auth?client_id=947318989803-6bn6qk8qdgf4n4g3pfee6491hc0brc4i.apps.googleusercontent.com&redirect_uri=urn%3aietf%3awg%3aoauth%3a2.0%3aoob&response_type=code&scope=email%20https%3a%2f%2fwww.googleapis.com%2fauth%2fdocs.test%20https%3a%2f%2fwww.googleapis.com%2fauth%2fdrive%20https%3a%2f%2fwww.googleapis.com%2fauth%2fdrive.photos.readonly%20https%3a%2f%2fwww.googleapis.com%2fauth%2fpeopleapi.readonly\n",
      "\n",
      "Enter your authorization code:\n",
      "··········\n",
      "Mounted at /content/gdrive\n"
     ]
    }
   ],
   "source": [
    "from google.colab import drive\n",
    "drive.mount('/content/gdrive')"
   ]
  },
  {
   "cell_type": "code",
   "execution_count": 0,
   "metadata": {
    "colab": {
     "base_uri": "https://localhost:8080/",
     "height": 34
    },
    "colab_type": "code",
    "id": "LLrtexD4ki38",
    "outputId": "cc63cdd8-77f3-4115-8294-3d71186536e7"
   },
   "outputs": [
    {
     "name": "stdout",
     "output_type": "stream",
     "text": [
      "We are currently in the folder of  /content/gdrive/My Drive/Mercari2\n"
     ]
    }
   ],
   "source": [
    "import os\n",
    "os.chdir('/content/gdrive/My Drive/Mercari2')\n",
    "print(\"We are currently in the folder of \",os.getcwd())"
   ]
  },
  {
   "cell_type": "markdown",
   "metadata": {
    "colab_type": "text",
    "id": "1H-wYzoglWha"
   },
   "source": [
    "### <font color='red'> 11.2 Load Data From GDrive </font>"
   ]
  },
  {
   "cell_type": "code",
   "execution_count": 0,
   "metadata": {
    "colab": {
     "base_uri": "https://localhost:8080/",
     "height": 34
    },
    "colab_type": "code",
    "id": "dp6siUwVla46",
    "outputId": "2c7c3a6e-33aa-417a-b61a-6606abc9731a"
   },
   "outputs": [
    {
     "name": "stdout",
     "output_type": "stream",
     "text": [
      "(1111901, 8) (370634, 8)\n"
     ]
    }
   ],
   "source": [
    "file = open('df_train_model', 'rb')\n",
    "df_train_model = pickle.load(file)\n",
    "file.close()\n",
    "\n",
    "file = open('df_test_model', 'rb')\n",
    "df_test_model = pickle.load(file)\n",
    "file.close()\n",
    "\n",
    "print(df_train_model.shape,df_test_model.shape)"
   ]
  },
  {
   "cell_type": "code",
   "execution_count": 0,
   "metadata": {
    "colab": {
     "base_uri": "https://localhost:8080/",
     "height": 34
    },
    "colab_type": "code",
    "id": "m4Zw054id2lI",
    "outputId": "9d6ca93c-af4a-4eed-e5e2-4eb91be1f396"
   },
   "outputs": [
    {
     "name": "stdout",
     "output_type": "stream",
     "text": [
      "(1111222, 8)\n"
     ]
    }
   ],
   "source": [
    "# ref - https://www.kaggle.com/valkling/mercari-rnn-2ridge-models-with-notes-0-42755\n",
    "\n",
    "df_train_model = df_train_model[(df_train_model.price >= 3) & (df_train_model.price <= 2000)]\n",
    "print(df_train_model.shape)"
   ]
  },
  {
   "cell_type": "markdown",
   "metadata": {
    "colab_type": "text",
    "id": "B-dIeW49d2lL"
   },
   "source": [
    "### <font color='red'> 11.3 Encoding Text Data - 'Item Name, Item Description' </font>"
   ]
  },
  {
   "cell_type": "code",
   "execution_count": 0,
   "metadata": {
    "colab": {},
    "colab_type": "code",
    "id": "zfjj4uV3d2lL"
   },
   "outputs": [],
   "source": [
    "'''\n",
    "Code for Text Cleaning & Preprocessing \n",
    "'''\n",
    "\n",
    "def decontracted(phrase):\n",
    "    # specific\n",
    "    phrase = re.sub(r\"won't\", \"will not\", phrase)\n",
    "    phrase = re.sub(r\"can\\'t\", \"can not\", phrase)\n",
    "\n",
    "    # general\n",
    "    phrase = re.sub(r\"n\\'t\", \" not\", phrase)\n",
    "    phrase = re.sub(r\"\\'re\", \" are\", phrase)\n",
    "    phrase = re.sub(r\"\\'s\", \" is\", phrase)\n",
    "    phrase = re.sub(r\"\\'d\", \" would\", phrase)\n",
    "    phrase = re.sub(r\"\\'ll\", \" will\", phrase)\n",
    "    phrase = re.sub(r\"\\'t\", \" not\", phrase)\n",
    "    phrase = re.sub(r\"\\'ve\", \" have\", phrase)\n",
    "    phrase = re.sub(r\"\\'m\", \" am\", phrase)\n",
    "    return phrase\n",
    "\n",
    "# https://gist.github.com/sebleier/554280\n",
    "# we are removing the words from the stop words list: 'no', 'nor', 'not'\n",
    "stopwords= ['i', 'me', 'my', 'myself', 'we', 'our', 'ours', 'ourselves', 'you', \"you're\", \"you've\",\\\n",
    "            \"you'll\", \"you'd\", 'your', 'yours', 'yourself', 'yourselves', 'he', 'him', 'his', 'himself', \\\n",
    "            'she', \"she's\", 'her', 'hers', 'herself', 'it', \"it's\", 'its', 'itself', 'they', 'them', 'their',\\\n",
    "            'theirs', 'themselves', 'what', 'which', 'who', 'whom', 'this', 'that', \"that'll\", 'these', 'those', \\\n",
    "            'am', 'is', 'are', 'was', 'were', 'be', 'been', 'being', 'have', 'has', 'had', 'having', 'do', 'does', \\\n",
    "            'did', 'doing', 'a', 'an', 'the', 'and', 'but', 'if', 'or', 'because', 'as', 'until', 'while', 'of', \\\n",
    "            'at', 'by', 'for', 'with', 'about', 'against', 'between', 'into', 'through', 'during', 'before', 'after',\\\n",
    "            'above', 'below', 'to', 'from', 'up', 'down', 'in', 'out', 'on', 'off', 'over', 'under', 'again', 'further',\\\n",
    "            'then', 'once', 'here', 'there', 'when', 'where', 'why', 'how', 'all', 'any', 'both', 'each', 'few', 'more',\\\n",
    "            'most', 'other', 'some', 'such', 'only', 'own', 'same', 'so', 'than', 'too', 'very', \\\n",
    "            's', 't', 'can', 'will', 'just', 'don', \"don't\", 'should', \"should've\", 'now', 'd', 'll', 'm', 'o', 're', \\\n",
    "            've', 'y', 'ain', 'aren', \"aren't\", 'couldn', \"couldn't\", 'didn', \"didn't\", 'doesn', \"doesn't\", 'hadn',\\\n",
    "            \"hadn't\", 'hasn', \"hasn't\", 'haven', \"haven't\", 'isn', \"isn't\", 'ma', 'mightn', \"mightn't\", 'mustn',\\\n",
    "            \"mustn't\", 'needn', \"needn't\", 'shan', \"shan't\", 'shouldn', \"shouldn't\", 'wasn', \"wasn't\", 'weren', \"weren't\", \\\n",
    "            'won', \"won't\", 'wouldn', \"wouldn't\"]\n",
    "\n",
    "def text_preprocess(data):\n",
    "    preprocessed = []\n",
    "    # tqdm is for printing the status bar\n",
    "    for sentance in tqdm_notebook(data):\n",
    "        sent = decontracted(sentance)\n",
    "        sent = sent.replace('\\\\r', ' ')\n",
    "        sent = sent.replace('\\\\\"', ' ')\n",
    "        sent = sent.replace('\\\\n', ' ')\n",
    "        sent = re.sub('[^A-Za-z0-9]+', ' ', sent)\n",
    "        # https://gist.github.com/sebleier/554280\n",
    "        sent = ' '.join(e for e in sent.split() if e not in stopwords)\n",
    "        preprocessed.append(sent.lower().strip())\n",
    "    return preprocessed"
   ]
  },
  {
   "cell_type": "code",
   "execution_count": 0,
   "metadata": {
    "colab": {},
    "colab_type": "code",
    "id": "G79rife0d2lP"
   },
   "outputs": [],
   "source": [
    "''' This Code uses Keras tokeizer to create Word Tokens from the Text Vocabulary, \n",
    "it takes in train,test text data as input, \n",
    "returns keras tokenizer and tokeized train,test datasets '''\n",
    "\n",
    "def text_tokenize(train,test):\n",
    "    t = Tokenizer()\n",
    "    t.fit_on_texts(train)\n",
    "    #print('Total number of words in the document are ',len(t.word_index) + 1)\n",
    "    train_tokenized = t.texts_to_sequences(train)\n",
    "    test_tokenized = t.texts_to_sequences(test)\n",
    "    return train_tokenized,test_tokenized,t"
   ]
  },
  {
   "cell_type": "code",
   "execution_count": 0,
   "metadata": {
    "colab": {},
    "colab_type": "code",
    "id": "Ruuj_oaHd2lQ"
   },
   "outputs": [],
   "source": [
    "''' This Code takes train,test data and performs Pre-padding with (max_length= sl)\n",
    "which can be input as required'''\n",
    "\n",
    "def text_padding(train,test,sl):\n",
    "    padded_train_text = pad_sequences(train, maxlen = sl, padding='pre')\n",
    "    padded_test_text = pad_sequences(test, maxlen = sl, padding='pre')\n",
    "    return padded_train_text,padded_test_text"
   ]
  },
  {
   "cell_type": "markdown",
   "metadata": {
    "colab_type": "text",
    "id": "QUUOGPM4d2lT"
   },
   "source": [
    "##### Performing Text Processing Pipeline - Clean > Preprocess > Encoder > Padding"
   ]
  },
  {
   "cell_type": "code",
   "execution_count": 0,
   "metadata": {
    "colab": {},
    "colab_type": "code",
    "id": "6H38wsPgd2lT"
   },
   "outputs": [],
   "source": [
    "df_train_model['name'] = df_train_model['name'].replace([np.nan], '')\n",
    "df_test_model['name'] = df_test_model['name'].replace([np.nan], '')\n",
    "\n",
    "df_train_model['item_description'] = df_train_model['item_description'].replace([np.nan,'No description yet'], '')\n",
    "df_test_model['item_description'] = df_test_model['item_description'].replace([np.nan,'No description yet'], '')"
   ]
  },
  {
   "cell_type": "code",
   "execution_count": 0,
   "metadata": {
    "colab": {
     "base_uri": "https://localhost:8080/",
     "height": 212,
     "referenced_widgets": [
      "71a6840fe97d45e4815606cb740656b0",
      "c3b9bf86e39446a99f81e226381fe4d1",
      "40cf3692157843df81bf208d0a77dbb6",
      "14b58f0e71d149dd8bfb85a13f661fd3",
      "fcf69d04e84542a2a9374b1140712ec5",
      "3941a62844534c249fafde7ffa35e13c",
      "b06fceaecfdc426fbc89ab92b6f389ee",
      "403c41385f1f4647a208873908dd9067",
      "da016627e7cb40fe8df2ec6e8f3186cd",
      "6f01ae26e0c44def85ccd304f4432fa0",
      "a172949fc2744ec18b292793b77865f9",
      "8734e3e774134d91820876c3feaabb41",
      "25011cb48ddc40e9820dd6b272980180",
      "43cde56ea5944624bfea75b6aa3385da",
      "5a7403337a2b47c08dfcf4dfed16cbd8",
      "db998e7cb01c4d058a134c705a9a97f5",
      "769d9a2dc67b4521abce769e29f202b4",
      "282b21d9efa745158454add5e549d22b",
      "1a60b6199c3d47499512d26e1e66ae1a",
      "bc59863f43cb442e8c126afba1001818",
      "403c3c98baeb4dd28ca49ec46c2bf3e7",
      "caa17833b61744a9817761c420b9ecb5",
      "6c69700d519e4a3791829bd2c197c73c",
      "2e6e41f1cea04903bcc81db7a26d74dd",
      "7a7027874e9d47cf9a43b4ed47761227",
      "fe1557caa6954e8da054b08eb2278cb8",
      "c0dea5d935eb46828985843a22dcbfb5",
      "390c302e9e714a29a2cf5feb17447308",
      "4c96d9ed4efe4ce8a78cd0626975c842",
      "dfe6d8a3da8945c4b2bd0c5d8e3e7a75",
      "9a83bb027a564f08bedb477cb2715330",
      "6dae4c2d473b46b3ae9004a4a969a5b0"
     ]
    },
    "colab_type": "code",
    "id": "kfsJ-Axvd2lc",
    "outputId": "9c56d53a-3ecc-4dd1-c519-fa5520d0703c"
   },
   "outputs": [
    {
     "data": {
      "application/vnd.jupyter.widget-view+json": {
       "model_id": "71a6840fe97d45e4815606cb740656b0",
       "version_major": 2,
       "version_minor": 0
      },
      "text/plain": [
       "HBox(children=(IntProgress(value=0, max=1111222), HTML(value='')))"
      ]
     },
     "metadata": {
      "tags": []
     },
     "output_type": "display_data"
    },
    {
     "name": "stdout",
     "output_type": "stream",
     "text": [
      "\n"
     ]
    },
    {
     "data": {
      "application/vnd.jupyter.widget-view+json": {
       "model_id": "da016627e7cb40fe8df2ec6e8f3186cd",
       "version_major": 2,
       "version_minor": 0
      },
      "text/plain": [
       "HBox(children=(IntProgress(value=0, max=370634), HTML(value='')))"
      ]
     },
     "metadata": {
      "tags": []
     },
     "output_type": "display_data"
    },
    {
     "name": "stdout",
     "output_type": "stream",
     "text": [
      "\n"
     ]
    },
    {
     "data": {
      "application/vnd.jupyter.widget-view+json": {
       "model_id": "769d9a2dc67b4521abce769e29f202b4",
       "version_major": 2,
       "version_minor": 0
      },
      "text/plain": [
       "HBox(children=(IntProgress(value=0, max=1111222), HTML(value='')))"
      ]
     },
     "metadata": {
      "tags": []
     },
     "output_type": "display_data"
    },
    {
     "name": "stdout",
     "output_type": "stream",
     "text": [
      "\n"
     ]
    },
    {
     "data": {
      "application/vnd.jupyter.widget-view+json": {
       "model_id": "7a7027874e9d47cf9a43b4ed47761227",
       "version_major": 2,
       "version_minor": 0
      },
      "text/plain": [
       "HBox(children=(IntProgress(value=0, max=370634), HTML(value='')))"
      ]
     },
     "metadata": {
      "tags": []
     },
     "output_type": "display_data"
    },
    {
     "name": "stdout",
     "output_type": "stream",
     "text": [
      "\n"
     ]
    }
   ],
   "source": [
    "train_name = text_preprocess(df_train_model['name'])\n",
    "test_name = text_preprocess(df_test_model['name'])\n",
    "\n",
    "train_desc = text_preprocess(df_train_model['item_description'])\n",
    "test_desc = text_preprocess(df_test_model['item_description'])"
   ]
  },
  {
   "cell_type": "code",
   "execution_count": 0,
   "metadata": {
    "colab": {},
    "colab_type": "code",
    "id": "AECOSCRud2lj"
   },
   "outputs": [],
   "source": [
    "train_name,test_name,tokenizer_name = text_tokenize(train_name,test_name)\n",
    "train_desc,test_desc,tokenizer_desc = text_tokenize(train_desc,test_desc)"
   ]
  },
  {
   "cell_type": "code",
   "execution_count": 0,
   "metadata": {
    "colab": {},
    "colab_type": "code",
    "id": "RVt0AcPqd2lt"
   },
   "outputs": [],
   "source": [
    "'''\n",
    "This code selects the optimum padding length based on\n",
    "most commonly occuring sentence length by analyzing sentence lengths \n",
    "distribution across sentences\n",
    "'''\n",
    "\n",
    "def select_padding(train,t,col,sen_len):\n",
    "    len_texts = [len(x) for x in train]\n",
    "    print('Total number of words in the document are ',len(t.word_index) + 1)\n",
    "    print((len(list(filter(lambda x : x > sen_len,len_texts)))/len(len_texts))*100, \n",
    "          \" % of rows have sentence length > \",sen_len,'\\n')\n",
    "    sns.distplot(len_texts, kde=False).set_title(\"Padding Length Selection of \"+ str(col))\n",
    "    plt.show()"
   ]
  },
  {
   "cell_type": "code",
   "execution_count": 0,
   "metadata": {
    "colab": {
     "base_uri": "https://localhost:8080/",
     "height": 331
    },
    "colab_type": "code",
    "id": "OhqPhOGLd2lz",
    "outputId": "dbc74a9d-0750-4bde-9399-487fad87a2c5"
   },
   "outputs": [
    {
     "name": "stdout",
     "output_type": "stream",
     "text": [
      "Total number of words in the document are  89577\n",
      "0.009989003097490871  % of rows have sentence length >  10 \n",
      "\n"
     ]
    },
    {
     "data": {
      "image/png": "[encoded data removed]",
      "text/plain": [
       "<Figure size 432x288 with 1 Axes>"
      ]
     },
     "metadata": {
      "tags": []
     },
     "output_type": "display_data"
    }
   ],
   "source": [
    "select_padding(train_name,tokenizer_name,\"Item Names\",10)"
   ]
  },
  {
   "cell_type": "code",
   "execution_count": 0,
   "metadata": {
    "colab": {
     "base_uri": "https://localhost:8080/",
     "height": 331
    },
    "colab_type": "code",
    "id": "fN-dAgobd2l4",
    "outputId": "25e8d921-4ad9-40ef-b5e1-7ef3736dd64f"
   },
   "outputs": [
    {
     "name": "stdout",
     "output_type": "stream",
     "text": [
      "Total number of words in the document are  138419\n",
      "0.5927708414700212  % of rows have sentence length >  125 \n",
      "\n"
     ]
    },
    {
     "data": {
      "image/png": "[encoded data removed]",
      "text/plain": [
       "<Figure size 432x288 with 1 Axes>"
      ]
     },
     "metadata": {
      "tags": []
     },
     "output_type": "display_data"
    }
   ],
   "source": [
    "select_padding(train_desc,tokenizer_desc,\"Item Descriptions\",125)"
   ]
  },
  {
   "cell_type": "code",
   "execution_count": 0,
   "metadata": {
    "colab": {},
    "colab_type": "code",
    "id": "Yopk0Pv7d2mK"
   },
   "outputs": [],
   "source": [
    "# Selecting these values from the graph above\n",
    "NAME_LENGTH = 10\n",
    "DESC_LENGTH = 125"
   ]
  },
  {
   "cell_type": "code",
   "execution_count": 0,
   "metadata": {
    "colab": {},
    "colab_type": "code",
    "id": "FNJwA2YPd2mS"
   },
   "outputs": [],
   "source": [
    "train_name_pad,test_name_pad = text_padding(train_name,test_name,NAME_LENGTH)\n",
    "train_desc_pad,test_desc_pad = text_padding(train_desc,test_desc,DESC_LENGTH)"
   ]
  },
  {
   "cell_type": "markdown",
   "metadata": {
    "colab_type": "text",
    "id": "5LqVSdtQd2mX"
   },
   "source": [
    "### <font color='red'> 11.4 Encoding Categorical Features - 'Cat,Brand,Ship,Item-Cond' </font>"
   ]
  },
  {
   "cell_type": "code",
   "execution_count": 0,
   "metadata": {
    "colab": {},
    "colab_type": "code",
    "id": "vWu5rD3pd2mY"
   },
   "outputs": [],
   "source": [
    "'''\n",
    "This Code performs Categorical Feature to Numeric \n",
    "Encodings based on Ranks by Word Frequency in the Vocabulary,\n",
    "takes train,test as input and returns encoded train,test data\n",
    "and the vocab size as output\n",
    "'''\n",
    "\n",
    "def self_token(column):\n",
    "    unique = list(set(column))\n",
    "    total = list(column)\n",
    "    size = len(unique)\n",
    "    count = []\n",
    "    for category in unique:\n",
    "        count.append([total.count(category),category])\n",
    "    count.sort()\n",
    "    rank = {}\n",
    "    for i in range(1,len(count)+1):\n",
    "        rank.update({count[i-1][1] : i})\n",
    "    return (rank , unique,size)\n",
    "\n",
    "def category_encoder(train,test):\n",
    "    cat_rank, unique,size = self_token(train)\n",
    "    encoded_train = []\n",
    "    encoded_test = []\n",
    "    for category in train:\n",
    "        encoded_train.append(cat_rank[category])\n",
    "\n",
    "    for category in test:\n",
    "        if category in unique:\n",
    "            encoded_test.append(cat_rank[category]) \n",
    "        else:\n",
    "            encoded_test.append(0) \n",
    "    encoded_train = np.asarray(encoded_train)\n",
    "    encoded_test = np.asarray(encoded_test)\n",
    "    return encoded_train,encoded_test,size"
   ]
  },
  {
   "cell_type": "code",
   "execution_count": 0,
   "metadata": {
    "colab": {},
    "colab_type": "code",
    "id": "ot7vL--Od2me"
   },
   "outputs": [],
   "source": [
    "train_ship,test_ship,ship_size = category_encoder(df_train_model['shipping'].astype('category'),\n",
    "                                                  df_test_model['shipping'].astype('category'))\n",
    "train_ici,test_ici,ici_size = category_encoder(df_train_model['item_condition_id'].astype('category'),\n",
    "                                                  df_test_model['item_condition_id'].astype('category'))\n",
    "train_brand,test_brand,brand_size = category_encoder(df_train_model['brand_name'].fillna('missing').astype('category'),\n",
    "                                                  df_test_model['brand_name'].fillna('missing').astype('category'))\n",
    "train_cat,test_cat,cat_size = category_encoder(df_train_model['category_name'].fillna('missing').astype('category'),\n",
    "                                                  df_test_model['category_name'].fillna('missing').astype('category'))"
   ]
  },
  {
   "cell_type": "markdown",
   "metadata": {
    "colab_type": "text",
    "id": "NjxKIRpbd2mj"
   },
   "source": [
    "### <font color='red'> 11.5 Create Embedding Layers </font>"
   ]
  },
  {
   "cell_type": "code",
   "execution_count": 0,
   "metadata": {
    "colab": {},
    "colab_type": "code",
    "id": "vhVNgI64d2mm"
   },
   "outputs": [],
   "source": [
    "'''\n",
    "This Code creates an embedding matrix using Glove 300-D\n",
    "vector representation of words. \n",
    "It Creates an Embedding Matrix of \n",
    "shape (vocab_size,300)\n",
    "'''\n",
    "\n",
    "def generate_embedding_matrix(token):\n",
    "    with open('glove_vectors', 'rb') as f:\n",
    "        model = pickle.load(f)\n",
    "        glove_words =  set(model.keys())\n",
    "        \n",
    "    embedding_matrix_text = np.zeros((len(token.word_index) + 1, 300))\n",
    "    for word, i in tqdm_notebook(token.word_index.items()):\n",
    "        if word in glove_words:\n",
    "            embedding_vector = model[word]\n",
    "            embedding_matrix_text[i] = embedding_vector\n",
    "    \n",
    "    return embedding_matrix_text"
   ]
  },
  {
   "cell_type": "code",
   "execution_count": 0,
   "metadata": {
    "colab": {
     "base_uri": "https://localhost:8080/",
     "height": 131,
     "referenced_widgets": [
      "d5276def9c2642979c92ff29b48b6ce2",
      "3b0985d6513949b48e7159d0e7dfa157",
      "17f23f0e153e40379ed91415aef9f426",
      "607a475ca3674a31b2b1043e21b46af6",
      "598cf0a79d0645af9ca0fdc909932912",
      "05abf0eb023b43728bfcc11406f2a647",
      "546c67e98778492abbdaa711b5fe2f2e",
      "ae6f2e427a334971ba841ad1dd52020d",
      "f32ff8ebf84f4b6bb604921a7977920c",
      "f957b0d475a64d39a82db01e3b5f1a43",
      "7f721b5324354dcf814171a6a4f6a060",
      "0c23b466f50845c898ee5c6050ea6f3a",
      "4eb6c6594a79479eb116a557a13f5771",
      "a8724ff67d554ed6a50f76dc2612ac77",
      "949eb480d0d044b3b91ddbd56b999b60",
      "487bf54c766b4124849fe8e8b970d956"
     ]
    },
    "colab_type": "code",
    "id": "2PP_KqhVd2mr",
    "outputId": "183a95aa-a3f0-4b8d-d070-acc3f4a9c072"
   },
   "outputs": [
    {
     "data": {
      "application/vnd.jupyter.widget-view+json": {
       "model_id": "d5276def9c2642979c92ff29b48b6ce2",
       "version_major": 2,
       "version_minor": 0
      },
      "text/plain": [
       "HBox(children=(IntProgress(value=0, max=89576), HTML(value='')))"
      ]
     },
     "metadata": {
      "tags": []
     },
     "output_type": "display_data"
    },
    {
     "name": "stdout",
     "output_type": "stream",
     "text": [
      "\n"
     ]
    },
    {
     "data": {
      "application/vnd.jupyter.widget-view+json": {
       "model_id": "f32ff8ebf84f4b6bb604921a7977920c",
       "version_major": 2,
       "version_minor": 0
      },
      "text/plain": [
       "HBox(children=(IntProgress(value=0, max=138418), HTML(value='')))"
      ]
     },
     "metadata": {
      "tags": []
     },
     "output_type": "display_data"
    },
    {
     "name": "stdout",
     "output_type": "stream",
     "text": [
      "\n",
      "(89577, 300) (138419, 300)\n"
     ]
    }
   ],
   "source": [
    "embedding_name = generate_embedding_matrix(tokenizer_name)\n",
    "embedding_desc = generate_embedding_matrix(tokenizer_desc)\n",
    "print(embedding_name.shape,embedding_desc.shape)"
   ]
  },
  {
   "cell_type": "markdown",
   "metadata": {
    "colab_type": "text",
    "id": "p5PRYlnid2m2"
   },
   "source": [
    "### <font color='red'> 11.6 Numeric Features - 17 new Features generated </font>"
   ]
  },
  {
   "cell_type": "code",
   "execution_count": 0,
   "metadata": {
    "colab": {},
    "colab_type": "code",
    "id": "H9y4d7iud2m3"
   },
   "outputs": [],
   "source": [
    "'''\n",
    "Loading the 17 features generated in the Feature engineering section\n",
    "'''\n",
    "\n",
    "file = open('train_desc_feats', 'rb')\n",
    "train_desc_feats = pickle.load(file)\n",
    "file.close()\n",
    "file = open('test_desc_feats', 'rb')\n",
    "test_desc_feats = pickle.load(file)\n",
    "file.close()\n",
    "#####################################################################\n",
    "file = open('train_senti_names', 'rb')\n",
    "train_senti_names = pickle.load(file)\n",
    "file.close()\n",
    "file = open('test_senti_names', 'rb')\n",
    "test_senti_names = pickle.load(file)\n",
    "file.close()\n",
    "\n",
    "file = open('train_senti_desc', 'rb')\n",
    "train_senti_desc = pickle.load(file)\n",
    "file.close()\n",
    "file = open('test_senti_desc', 'rb')\n",
    "test_senti_desc = pickle.load(file)\n",
    "file.close()\n",
    "#####################################################################\n",
    "file = open('train_cbs_feats', 'rb')\n",
    "train_cbs_feats = pickle.load(file)\n",
    "file.close()\n",
    "file = open('test_cbs_feats', 'rb')\n",
    "test_cbs_feats = pickle.load(file)\n",
    "file.close()"
   ]
  },
  {
   "cell_type": "code",
   "execution_count": 0,
   "metadata": {
    "colab": {
     "base_uri": "https://localhost:8080/",
     "height": 34
    },
    "colab_type": "code",
    "id": "m8OsLm9Rd2nC",
    "outputId": "f2ac5dde-81b8-4a30-b290-dcfc5c6826d7"
   },
   "outputs": [
    {
     "name": "stdout",
     "output_type": "stream",
     "text": [
      "(1111222, 17) (370634, 17)\n"
     ]
    }
   ],
   "source": [
    "'''Creating Feature stack using np.hstack to pass into LSTM model'''\n",
    "\n",
    "X_train_numerics = np.hstack((train_desc_feats,\n",
    "                              np.array(train_senti_names).reshape(-1,1),\n",
    "                              np.array(train_senti_desc).reshape(-1,1),\n",
    "                              train_cbs_feats))\n",
    "X_test_numerics = np.hstack((test_desc_feats,\n",
    "                              np.array(test_senti_names).reshape(-1,1),\n",
    "                              np.array(test_senti_desc).reshape(-1,1),\n",
    "                              test_cbs_feats))\n",
    "\n",
    "print(X_train_numerics.shape,X_test_numerics.shape)"
   ]
  },
  {
   "cell_type": "code",
   "execution_count": 0,
   "metadata": {
    "colab": {},
    "colab_type": "code",
    "id": "uQVy5Tc6Z_en"
   },
   "outputs": [],
   "source": [
    "'''Creating the Train,Test Input to pass into LSTM Input Layers as list'''\n",
    "\n",
    "X_train = [train_name_pad,train_desc_pad,\n",
    "         np.array(train_ship),np.array(train_ici),np.array(train_brand),np.array(train_cat),\n",
    "         X_train_numerics]\n",
    "X_test =  [test_name_pad,test_desc_pad,\n",
    "         np.array(test_ship),np.array(test_ici),np.array(test_brand),np.array(test_cat),\n",
    "         X_test_numerics]\n",
    "y_train = np.log1p(df_train_model['price'])\n",
    "y_test = np.log1p(df_test_model['price'])"
   ]
  },
  {
   "cell_type": "code",
   "execution_count": 0,
   "metadata": {
    "colab": {},
    "colab_type": "code",
    "id": "IV4H0YkLaAIX"
   },
   "outputs": [],
   "source": [
    "'''\n",
    "file = open('X_train', 'wb')\n",
    "pickle.dump(X_train, file)\n",
    "file.close()\n",
    "file = open('X_test', 'wb')\n",
    "pickle.dump(X_test, file)\n",
    "file.close()\n",
    "\n",
    "file = open('y_train', 'wb')\n",
    "pickle.dump(y_train, file)\n",
    "file.close()\n",
    "file = open('y_test', 'wb')\n",
    "pickle.dump(y_test, file)\n",
    "file.close()\n",
    "\n",
    "file = open('tokenizer_name', 'wb')\n",
    "pickle.dump(tokenizer_name, file)\n",
    "file.close()\n",
    "file = open('tokenizer_desc', 'wb')\n",
    "pickle.dump(y_test, file)\n",
    "file.close()\n",
    "\n",
    "file = open('embedding_name', 'wb')\n",
    "pickle.dump(embedding_name, file)\n",
    "file.close()\n",
    "file = open('embedding_desc', 'wb')\n",
    "pickle.dump(embedding_desc, file)\n",
    "file.close()\n",
    "'''"
   ]
  },
  {
   "cell_type": "markdown",
   "metadata": {
    "colab_type": "text",
    "id": "sqOn6xrhd2nI"
   },
   "source": [
    "### <font color='red'> 11.7 Create LSTM Model </font>"
   ]
  },
  {
   "cell_type": "code",
   "execution_count": 0,
   "metadata": {
    "colab": {},
    "colab_type": "code",
    "id": "lWzv73lgd2nJ"
   },
   "outputs": [],
   "source": [
    "'''\n",
    "This Code builds the LSTM Model Architecture based on Input Data size, parameters passed\n",
    "'''\n",
    "\n",
    "def build_lstm_model(NAME_LENGTH,tokenizer_name,embedding_name,DESC_LENGTH,tokenizer_desc,embedding_desc,ship_size,ici_size,brand_size,cat_size,NUMERIC_LENGTH):\n",
    "    \n",
    "    text_input_name = Input(shape=(NAME_LENGTH,), name='TEXT_ITEM_NAME')\n",
    "    x = Embedding(len(tokenizer_name.word_index) + 1, 300, weights=[embedding_name], input_length=NAME_LENGTH)(text_input_name)\n",
    "    lstm_out = LSTM(100,recurrent_dropout=0.25,return_sequences=True)(x)\n",
    "    flatten_1 = Flatten()(lstm_out)\n",
    "    \n",
    "    text_input_desc = Input(shape=(DESC_LENGTH,), name='TEXT_DESC_NAME')\n",
    "    x = Embedding(len(tokenizer_desc.word_index) + 1, 300, weights=[embedding_desc], input_length=DESC_LENGTH)(text_input_desc)\n",
    "    lstm_out = LSTM(100,recurrent_dropout=0.25,return_sequences=True)(x)\n",
    "    flatten_2 = Flatten()(lstm_out)\n",
    "\n",
    "    shipping_feat = Input(shape=(1,), name='SHIPPING')\n",
    "    x = Embedding(ship_size + 1, 10, input_length=1)(shipping_feat)\n",
    "    flatten_3 = Flatten()(x)\n",
    "\n",
    "    item_cond_feat = Input(shape=(1,), name='ITEM_CONDITION')\n",
    "    x = Embedding(ici_size + 1, 10, input_length=1)(item_cond_feat)\n",
    "    flatten_4 = Flatten()(x)\n",
    "    \n",
    "    brand_feat = Input(shape=(1,), name='BRAND')\n",
    "    x = Embedding(brand_size + 1, 10, input_length=1)(brand_feat)\n",
    "    flatten_5 = Flatten()(x)\n",
    "    \n",
    "    cat_feat = Input(shape=(1,), name='CATEGORY')\n",
    "    x = Embedding(cat_size + 1, 10, input_length=1)(cat_feat)\n",
    "    flatten_6 = Flatten()(x)\n",
    "\n",
    "    numeric_feat = Input(shape=(NUMERIC_LENGTH,), name='NUMERIC_FEATURES')\n",
    "    dense_1 = Dense(1, activation='relu',kernel_initializer=\"he_normal\",kernel_regularizer=tensorflow.keras.regularizers.l2(0.001))(numeric_feat)\n",
    "\n",
    "    x = concatenate([flatten_1,flatten_2,flatten_3,flatten_4,flatten_5,flatten_6,dense_1])\n",
    "\n",
    "    x = Dense(100, activation='relu',kernel_initializer=\"he_normal\",kernel_regularizer=tensorflow.keras.regularizers.l2(0.001))(x)\n",
    "    x = Dropout(0.2)(x)\n",
    "    x = BatchNormalization()(x)\n",
    "    x = Dense(50, activation='relu',kernel_initializer=\"he_normal\",kernel_regularizer=tensorflow.keras.regularizers.l2(0.001))(x)\n",
    "    x = Dropout(0.3)(x)\n",
    "    x = BatchNormalization()(x)\n",
    "\n",
    "    x = Dense(10, activation='relu',kernel_initializer=\"he_normal\",kernel_regularizer=tensorflow.keras.regularizers.l2(0.001))(x)\n",
    "    final_output = Dense(1, activation='linear')(x)\n",
    "\n",
    "    model = Model(inputs=[text_input_name,text_input_desc,\n",
    "                          shipping_feat,item_cond_feat,brand_feat,cat_feat,\n",
    "                          numeric_feat], \n",
    "                  outputs=[final_output])\n",
    "    return model"
   ]
  },
  {
   "cell_type": "code",
   "execution_count": 0,
   "metadata": {
    "colab": {
     "base_uri": "https://localhost:8080/",
     "height": 1000
    },
    "colab_type": "code",
    "id": "G2EUpE-Ed2nO",
    "outputId": "418ba8e4-8ab3-48db-b335-5bbbb0ed261d",
    "scrolled": false
   },
   "outputs": [
    {
     "name": "stdout",
     "output_type": "stream",
     "text": [
      "WARNING:tensorflow:From /tensorflow-1.15.2/python3.6/tensorflow_core/python/keras/initializers.py:119: calling RandomUniform.__init__ (from tensorflow.python.ops.init_ops) with dtype is deprecated and will be removed in a future version.\n",
      "Instructions for updating:\n",
      "Call initializer instance with the dtype argument instead of passing it to the constructor\n",
      "WARNING:tensorflow:From /tensorflow-1.15.2/python3.6/tensorflow_core/python/ops/resource_variable_ops.py:1630: calling BaseResourceVariable.__init__ (from tensorflow.python.ops.resource_variable_ops) with constraint is deprecated and will be removed in a future version.\n",
      "Instructions for updating:\n",
      "If using Keras pass *_constraint arguments to layers.\n",
      "Model: \"model\"\n",
      "__________________________________________________________________________________________________\n",
      "Layer (type)                    Output Shape         Param #     Connected to                     \n",
      "==================================================================================================\n",
      "TEXT_ITEM_NAME (InputLayer)     [(None, 10)]         0                                            \n",
      "__________________________________________________________________________________________________\n",
      "TEXT_DESC_NAME (InputLayer)     [(None, 125)]        0                                            \n",
      "__________________________________________________________________________________________________\n",
      "embedding (Embedding)           (None, 10, 300)      26873100    TEXT_ITEM_NAME[0][0]             \n",
      "__________________________________________________________________________________________________\n",
      "embedding_1 (Embedding)         (None, 125, 300)     41525700    TEXT_DESC_NAME[0][0]             \n",
      "__________________________________________________________________________________________________\n",
      "SHIPPING (InputLayer)           [(None, 1)]          0                                            \n",
      "__________________________________________________________________________________________________\n",
      "ITEM_CONDITION (InputLayer)     [(None, 1)]          0                                            \n",
      "__________________________________________________________________________________________________\n",
      "BRAND (InputLayer)              [(None, 1)]          0                                            \n",
      "__________________________________________________________________________________________________\n",
      "CATEGORY (InputLayer)           [(None, 1)]          0                                            \n",
      "__________________________________________________________________________________________________\n",
      "lstm (LSTM)                     (None, 10, 100)      160400      embedding[0][0]                  \n",
      "__________________________________________________________________________________________________\n",
      "lstm_1 (LSTM)                   (None, 125, 100)     160400      embedding_1[0][0]                \n",
      "__________________________________________________________________________________________________\n",
      "embedding_2 (Embedding)         (None, 1, 10)        30          SHIPPING[0][0]                   \n",
      "__________________________________________________________________________________________________\n",
      "embedding_3 (Embedding)         (None, 1, 10)        60          ITEM_CONDITION[0][0]             \n",
      "__________________________________________________________________________________________________\n",
      "embedding_4 (Embedding)         (None, 1, 10)        44460       BRAND[0][0]                      \n",
      "__________________________________________________________________________________________________\n",
      "embedding_5 (Embedding)         (None, 1, 10)        12560       CATEGORY[0][0]                   \n",
      "__________________________________________________________________________________________________\n",
      "NUMERIC_FEATURES (InputLayer)   [(None, 17)]         0                                            \n",
      "__________________________________________________________________________________________________\n",
      "flatten (Flatten)               (None, 1000)         0           lstm[0][0]                       \n",
      "__________________________________________________________________________________________________\n",
      "flatten_1 (Flatten)             (None, 12500)        0           lstm_1[0][0]                     \n",
      "__________________________________________________________________________________________________\n",
      "flatten_2 (Flatten)             (None, 10)           0           embedding_2[0][0]                \n",
      "__________________________________________________________________________________________________\n",
      "flatten_3 (Flatten)             (None, 10)           0           embedding_3[0][0]                \n",
      "__________________________________________________________________________________________________\n",
      "flatten_4 (Flatten)             (None, 10)           0           embedding_4[0][0]                \n",
      "__________________________________________________________________________________________________\n",
      "flatten_5 (Flatten)             (None, 10)           0           embedding_5[0][0]                \n",
      "__________________________________________________________________________________________________\n",
      "dense (Dense)                   (None, 1)            18          NUMERIC_FEATURES[0][0]           \n",
      "__________________________________________________________________________________________________\n",
      "concatenate (Concatenate)       (None, 13541)        0           flatten[0][0]                    \n",
      "                                                                 flatten_1[0][0]                  \n",
      "                                                                 flatten_2[0][0]                  \n",
      "                                                                 flatten_3[0][0]                  \n",
      "                                                                 flatten_4[0][0]                  \n",
      "                                                                 flatten_5[0][0]                  \n",
      "                                                                 dense[0][0]                      \n",
      "__________________________________________________________________________________________________\n",
      "dense_1 (Dense)                 (None, 100)          1354200     concatenate[0][0]                \n",
      "__________________________________________________________________________________________________\n",
      "dropout (Dropout)               (None, 100)          0           dense_1[0][0]                    \n",
      "__________________________________________________________________________________________________\n",
      "batch_normalization (BatchNorma (None, 100)          400         dropout[0][0]                    \n",
      "__________________________________________________________________________________________________\n",
      "dense_2 (Dense)                 (None, 50)           5050        batch_normalization[0][0]        \n",
      "__________________________________________________________________________________________________\n",
      "dropout_1 (Dropout)             (None, 50)           0           dense_2[0][0]                    \n",
      "__________________________________________________________________________________________________\n",
      "batch_normalization_1 (BatchNor (None, 50)           200         dropout_1[0][0]                  \n",
      "__________________________________________________________________________________________________\n",
      "dense_3 (Dense)                 (None, 10)           510         batch_normalization_1[0][0]      \n",
      "__________________________________________________________________________________________________\n",
      "dense_4 (Dense)                 (None, 1)            11          dense_3[0][0]                    \n",
      "==================================================================================================\n",
      "Total params: 70,137,099\n",
      "Trainable params: 70,136,799\n",
      "Non-trainable params: 300\n",
      "__________________________________________________________________________________________________\n"
     ]
    }
   ],
   "source": [
    "'''Summarizing the Model Built'''\n",
    "\n",
    "baseline_lstm_model = build_lstm_model(NAME_LENGTH,tokenizer_name,embedding_name,\n",
    "                                       DESC_LENGTH,tokenizer_desc,embedding_desc,\n",
    "                                       ship_size,ici_size,brand_size,cat_size,X_train_numerics.shape[1])\n",
    "baseline_lstm_model.summary()"
   ]
  },
  {
   "cell_type": "code",
   "execution_count": 0,
   "metadata": {
    "colab": {
     "base_uri": "https://localhost:8080/",
     "height": 661
    },
    "colab_type": "code",
    "id": "whDcmlr1d2nS",
    "outputId": "2b9e06a9-cb5a-437f-ff26-5f94712058d3"
   },
   "outputs": [
    {
     "data": {
      "image/png": "[encoded data removed]",
      "text/plain": [
       "<IPython.core.display.Image object>"
      ]
     },
     "execution_count": 28,
     "metadata": {
      "tags": []
     },
     "output_type": "execute_result"
    }
   ],
   "source": [
    "'''Graphical Visualization of LSTM Model'''\n",
    "\n",
    "plot_model(baseline_lstm_model, to_file='baseline_lstm_model.png', show_shapes=True, show_layer_names=True)\n",
    "Image(filename='baseline_lstm_model.png')"
   ]
  },
  {
   "cell_type": "markdown",
   "metadata": {
    "colab_type": "text",
    "id": "hiV2NPQId2nZ"
   },
   "source": [
    "### <font color='red'> 11.8 Train Model </font>"
   ]
  },
  {
   "cell_type": "code",
   "execution_count": 0,
   "metadata": {
    "colab": {},
    "colab_type": "code",
    "id": "c7v7dXuOxIHr"
   },
   "outputs": [],
   "source": [
    "'''\n",
    "try:\n",
    "  # %tensorflow_version only exists in Colab.\n",
    "  %tensorflow_version 2.x\n",
    "except Exception:\n",
    "  pass\n",
    "'''\n",
    "# Load the TensorBoard notebook extension\n",
    "%load_ext tensorboard"
   ]
  },
  {
   "cell_type": "code",
   "execution_count": 0,
   "metadata": {
    "colab": {
     "base_uri": "https://localhost:8080/",
     "height": 1000
    },
    "colab_type": "code",
    "id": "bj3SrHiTd2ne",
    "outputId": "d415a9d0-8ef0-4032-e723-c2e91c236eee",
    "scrolled": true
   },
   "outputs": [
    {
     "name": "stdout",
     "output_type": "stream",
     "text": [
      "Train on 1111222 samples, validate on 370634 samples\n",
      "Epoch 1/100\n",
      "1110016/1111222 [============================>.] - ETA: 0s - loss: 1.6741\n",
      "Epoch 00001: val_loss improved from inf to 0.72822, saving model to baseline_lstm_model_epochs:001-val_loss:0.728.hdf5\n",
      "1111222/1111222 [==============================] - 171s 154us/sample - loss: 1.6729 - val_loss: 0.7282\n",
      "Epoch 2/100\n",
      "1110016/1111222 [============================>.] - ETA: 0s - loss: 0.4438\n",
      "Epoch 00002: val_loss improved from 0.72822 to 0.44445, saving model to baseline_lstm_model_epochs:002-val_loss:0.444.hdf5\n",
      "1111222/1111222 [==============================] - 170s 153us/sample - loss: 0.4437 - val_loss: 0.4445\n",
      "Epoch 3/100\n",
      "1110016/1111222 [============================>.] - ETA: 0s - loss: 0.3302\n",
      "Epoch 00003: val_loss improved from 0.44445 to 0.33200, saving model to baseline_lstm_model_epochs:003-val_loss:0.332.hdf5\n",
      "1111222/1111222 [==============================] - 172s 154us/sample - loss: 0.3301 - val_loss: 0.3320\n",
      "Epoch 4/100\n",
      "1110016/1111222 [============================>.] - ETA: 0s - loss: 0.2743\n",
      "Epoch 00004: val_loss improved from 0.33200 to 0.30436, saving model to baseline_lstm_model_epochs:004-val_loss:0.304.hdf5\n",
      "1111222/1111222 [==============================] - 172s 155us/sample - loss: 0.2742 - val_loss: 0.3044\n",
      "Epoch 5/100\n",
      "1110016/1111222 [============================>.] - ETA: 0s - loss: 0.2398\n",
      "Epoch 00005: val_loss improved from 0.30436 to 0.28620, saving model to baseline_lstm_model_epochs:005-val_loss:0.286.hdf5\n",
      "1111222/1111222 [==============================] - 172s 155us/sample - loss: 0.2397 - val_loss: 0.2862\n",
      "Epoch 6/100\n",
      "1110016/1111222 [============================>.] - ETA: 0s - loss: 0.2153\n",
      "Epoch 00006: val_loss improved from 0.28620 to 0.28045, saving model to baseline_lstm_model_epochs:006-val_loss:0.280.hdf5\n",
      "1111222/1111222 [==============================] - 172s 155us/sample - loss: 0.2153 - val_loss: 0.2805\n",
      "Epoch 7/100\n",
      "1110016/1111222 [============================>.] - ETA: 0s - loss: 0.1961\n",
      "Epoch 00007: val_loss improved from 0.28045 to 0.28045, saving model to baseline_lstm_model_epochs:007-val_loss:0.280.hdf5\n",
      "1111222/1111222 [==============================] - 172s 155us/sample - loss: 0.1961 - val_loss: 0.2804\n",
      "Epoch 8/100\n",
      "1110016/1111222 [============================>.] - ETA: 0s - loss: 0.1817\n",
      "Epoch 00008: val_loss improved from 0.28045 to 0.27712, saving model to baseline_lstm_model_epochs:008-val_loss:0.277.hdf5\n",
      "1111222/1111222 [==============================] - 173s 156us/sample - loss: 0.1817 - val_loss: 0.2771\n",
      "Epoch 9/100\n",
      "1110016/1111222 [============================>.] - ETA: 0s - loss: 0.1694\n",
      "Epoch 00009: val_loss improved from 0.27712 to 0.27222, saving model to baseline_lstm_model_epochs:009-val_loss:0.272.hdf5\n",
      "1111222/1111222 [==============================] - 172s 155us/sample - loss: 0.1694 - val_loss: 0.2722\n",
      "Epoch 10/100\n",
      "1110016/1111222 [============================>.] - ETA: 0s - loss: 0.1584\n",
      "Epoch 00010: val_loss improved from 0.27222 to 0.26978, saving model to baseline_lstm_model_epochs:010-val_loss:0.270.hdf5\n",
      "1111222/1111222 [==============================] - 172s 155us/sample - loss: 0.1584 - val_loss: 0.2698\n",
      "Epoch 11/100\n",
      "1110016/1111222 [============================>.] - ETA: 0s - loss: 0.1501\n",
      "Epoch 00011: val_loss improved from 0.26978 to 0.26449, saving model to baseline_lstm_model_epochs:011-val_loss:0.264.hdf5\n",
      "1111222/1111222 [==============================] - 173s 155us/sample - loss: 0.1501 - val_loss: 0.2645\n",
      "Epoch 12/100\n",
      "1110016/1111222 [============================>.] - ETA: 0s - loss: 0.1427\n",
      "Epoch 00012: val_loss improved from 0.26449 to 0.26060, saving model to baseline_lstm_model_epochs:012-val_loss:0.261.hdf5\n",
      "1111222/1111222 [==============================] - 172s 155us/sample - loss: 0.1427 - val_loss: 0.2606\n",
      "Epoch 13/100\n",
      "1110016/1111222 [============================>.] - ETA: 0s - loss: 0.1367\n",
      "Epoch 00013: val_loss did not improve from 0.26060\n",
      "1111222/1111222 [==============================] - 169s 152us/sample - loss: 0.1367 - val_loss: 0.2741\n",
      "Epoch 14/100\n",
      "1110016/1111222 [============================>.] - ETA: 0s - loss: 0.1314\n",
      "Epoch 00014: val_loss did not improve from 0.26060\n",
      "1111222/1111222 [==============================] - 170s 153us/sample - loss: 0.1314 - val_loss: 0.2677\n",
      "Epoch 15/100\n",
      "1110016/1111222 [============================>.] - ETA: 0s - loss: 0.1260\n",
      "Epoch 00015: val_loss did not improve from 0.26060\n",
      "1111222/1111222 [==============================] - 169s 152us/sample - loss: 0.1260 - val_loss: 0.2624\n",
      "Epoch 16/100\n",
      "1110016/1111222 [============================>.] - ETA: 0s - loss: 0.1212\n",
      "Epoch 00016: val_loss did not improve from 0.26060\n",
      "1111222/1111222 [==============================] - 169s 152us/sample - loss: 0.1212 - val_loss: 0.2650\n",
      "Epoch 17/100\n",
      "1110016/1111222 [============================>.] - ETA: 0s - loss: 0.1169\n",
      "Epoch 00017: val_loss did not improve from 0.26060\n",
      "1111222/1111222 [==============================] - 169s 152us/sample - loss: 0.1169 - val_loss: 0.2674\n",
      "Epoch 18/100\n",
      "1110016/1111222 [============================>.] - ETA: 0s - loss: 0.1129\n",
      "Epoch 00018: val_loss did not improve from 0.26060\n",
      "1111222/1111222 [==============================] - 169s 152us/sample - loss: 0.1129 - val_loss: 0.2693\n",
      "Epoch 19/100\n",
      "1110016/1111222 [============================>.] - ETA: 0s - loss: 0.1093\n",
      "Epoch 00019: val_loss did not improve from 0.26060\n",
      "1111222/1111222 [==============================] - 169s 152us/sample - loss: 0.1093 - val_loss: 0.2691\n",
      "Epoch 20/100\n",
      "1110016/1111222 [============================>.] - ETA: 0s - loss: 0.1060\n",
      "Epoch 00020: val_loss did not improve from 0.26060\n",
      "1111222/1111222 [==============================] - 169s 152us/sample - loss: 0.1060 - val_loss: 0.2683\n",
      "Epoch 21/100\n",
      "1110016/1111222 [============================>.] - ETA: 0s - loss: 0.1030\n",
      "Epoch 00021: val_loss did not improve from 0.26060\n",
      "1111222/1111222 [==============================] - 169s 152us/sample - loss: 0.1030 - val_loss: 0.2792\n",
      "Epoch 22/100\n",
      "1110016/1111222 [============================>.] - ETA: 0s - loss: 0.0999\n",
      "Epoch 00022: val_loss did not improve from 0.26060\n",
      "1111222/1111222 [==============================] - 170s 153us/sample - loss: 0.0999 - val_loss: 0.2833\n",
      "Epoch 23/100\n",
      "1110016/1111222 [============================>.] - ETA: 0s - loss: 0.0973\n",
      "Epoch 00023: val_loss did not improve from 0.26060\n",
      "1111222/1111222 [==============================] - 169s 152us/sample - loss: 0.0973 - val_loss: 0.2776\n",
      "Epoch 24/100\n",
      "1110016/1111222 [============================>.] - ETA: 0s - loss: 0.0948\n",
      "Epoch 00024: val_loss did not improve from 0.26060\n",
      "1111222/1111222 [==============================] - 169s 152us/sample - loss: 0.0948 - val_loss: 0.2878\n",
      "Epoch 25/100\n",
      "1110016/1111222 [============================>.] - ETA: 0s - loss: 0.0927\n",
      "Epoch 00025: val_loss did not improve from 0.26060\n",
      "1111222/1111222 [==============================] - 170s 153us/sample - loss: 0.0927 - val_loss: 0.2767\n",
      "Epoch 26/100\n",
      "1110016/1111222 [============================>.] - ETA: 0s - loss: 0.0903\n",
      "Epoch 00026: val_loss did not improve from 0.26060\n",
      "1111222/1111222 [==============================] - 170s 153us/sample - loss: 0.0903 - val_loss: 0.2798\n",
      "Epoch 27/100\n",
      "1110016/1111222 [============================>.] - ETA: 0s - loss: 0.0886\n",
      "Epoch 00027: val_loss did not improve from 0.26060\n",
      "1111222/1111222 [==============================] - 170s 153us/sample - loss: 0.0886 - val_loss: 0.2733\n",
      "Epoch 28/100\n",
      "1110016/1111222 [============================>.] - ETA: 0s - loss: 0.0864\n",
      "Epoch 00028: val_loss did not improve from 0.26060\n",
      "1111222/1111222 [==============================] - 170s 153us/sample - loss: 0.0864 - val_loss: 0.2792\n",
      "Epoch 29/100\n",
      "1110016/1111222 [============================>.] - ETA: 0s - loss: 0.0847\n",
      "Epoch 00029: val_loss did not improve from 0.26060\n",
      "1111222/1111222 [==============================] - 170s 153us/sample - loss: 0.0847 - val_loss: 0.2846\n",
      "Epoch 30/100\n",
      "1110016/1111222 [============================>.] - ETA: 0s - loss: 0.0834\n",
      "Epoch 00030: val_loss did not improve from 0.26060\n",
      "1111222/1111222 [==============================] - 170s 153us/sample - loss: 0.0834 - val_loss: 0.2833\n",
      "Epoch 31/100\n",
      "1110016/1111222 [============================>.] - ETA: 0s - loss: 0.0811\n",
      "Epoch 00031: val_loss did not improve from 0.26060\n",
      "1111222/1111222 [==============================] - 170s 153us/sample - loss: 0.0811 - val_loss: 0.2770\n",
      "Epoch 32/100\n",
      "1110016/1111222 [============================>.] - ETA: 0s - loss: 0.0798\n",
      "Epoch 00032: val_loss did not improve from 0.26060\n",
      "1111222/1111222 [==============================] - 170s 153us/sample - loss: 0.0798 - val_loss: 0.2772\n",
      "Epoch 33/100\n",
      "1110016/1111222 [============================>.] - ETA: 0s - loss: 0.0780\n",
      "Epoch 00033: val_loss did not improve from 0.26060\n",
      "1111222/1111222 [==============================] - 170s 153us/sample - loss: 0.0780 - val_loss: 0.2833\n",
      "Epoch 34/100\n",
      "1110016/1111222 [============================>.] - ETA: 0s - loss: 0.0766\n",
      "Epoch 00034: val_loss did not improve from 0.26060\n",
      "1111222/1111222 [==============================] - 170s 153us/sample - loss: 0.0766 - val_loss: 0.2838\n",
      "Epoch 35/100\n",
      "1110016/1111222 [============================>.] - ETA: 0s - loss: 0.0748\n",
      "Epoch 00035: val_loss did not improve from 0.26060\n",
      "1111222/1111222 [==============================] - 170s 153us/sample - loss: 0.0748 - val_loss: 0.2844\n",
      "Epoch 36/100\n",
      "1110016/1111222 [============================>.] - ETA: 0s - loss: 0.0737\n",
      "Epoch 00036: val_loss did not improve from 0.26060\n",
      "1111222/1111222 [==============================] - 170s 153us/sample - loss: 0.0737 - val_loss: 0.2803\n",
      "Epoch 37/100\n",
      "1110016/1111222 [============================>.] - ETA: 0s - loss: 0.0722\n",
      "Epoch 00037: val_loss did not improve from 0.26060\n",
      "1111222/1111222 [==============================] - 170s 153us/sample - loss: 0.0722 - val_loss: 0.2872\n",
      "Epoch 38/100\n",
      "1110016/1111222 [============================>.] - ETA: 0s - loss: 0.0714\n",
      "Epoch 00038: val_loss did not improve from 0.26060\n",
      "1111222/1111222 [==============================] - 170s 153us/sample - loss: 0.0714 - val_loss: 0.2872\n",
      "Epoch 39/100\n",
      "1110016/1111222 [============================>.] - ETA: 0s - loss: 0.0700\n",
      "Epoch 00039: val_loss did not improve from 0.26060\n",
      "1111222/1111222 [==============================] - 170s 153us/sample - loss: 0.0700 - val_loss: 0.2878\n",
      "Epoch 40/100\n",
      "1110016/1111222 [============================>.] - ETA: 0s - loss: 0.0687\n",
      "Epoch 00040: val_loss did not improve from 0.26060\n",
      "1111222/1111222 [==============================] - 170s 153us/sample - loss: 0.0687 - val_loss: 0.2918\n",
      "Epoch 41/100\n",
      "1110016/1111222 [============================>.] - ETA: 0s - loss: 0.0679\n",
      "Epoch 00041: val_loss did not improve from 0.26060\n",
      "1111222/1111222 [==============================] - 170s 153us/sample - loss: 0.0679 - val_loss: 0.2856\n",
      "Epoch 42/100\n",
      "1110016/1111222 [============================>.] - ETA: 0s - loss: 0.0667\n",
      "Epoch 00042: val_loss did not improve from 0.26060\n",
      "1111222/1111222 [==============================] - 169s 153us/sample - loss: 0.0667 - val_loss: 0.2918\n",
      "Epoch 43/100\n",
      "1110016/1111222 [============================>.] - ETA: 0s - loss: 0.0655\n",
      "Epoch 00043: val_loss did not improve from 0.26060\n",
      "1111222/1111222 [==============================] - 169s 153us/sample - loss: 0.0655 - val_loss: 0.2826\n",
      "Epoch 44/100\n",
      "1110016/1111222 [============================>.] - ETA: 0s - loss: 0.0647\n",
      "Epoch 00044: val_loss did not improve from 0.26060\n",
      "1111222/1111222 [==============================] - 170s 153us/sample - loss: 0.0647 - val_loss: 0.2896\n",
      "Epoch 45/100\n",
      "1110016/1111222 [============================>.] - ETA: 0s - loss: 0.0639\n",
      "Epoch 00045: val_loss did not improve from 0.26060\n",
      "1111222/1111222 [==============================] - 169s 152us/sample - loss: 0.0639 - val_loss: 0.2869\n",
      "Epoch 46/100\n",
      "1110016/1111222 [============================>.] - ETA: 0s - loss: 0.0631\n",
      "Epoch 00046: val_loss did not improve from 0.26060\n",
      "1111222/1111222 [==============================] - 169s 152us/sample - loss: 0.0631 - val_loss: 0.2918\n",
      "Epoch 47/100\n",
      "1110016/1111222 [============================>.] - ETA: 0s - loss: 0.0622\n",
      "Epoch 00047: val_loss did not improve from 0.26060\n",
      "1111222/1111222 [==============================] - 170s 153us/sample - loss: 0.0622 - val_loss: 0.2869\n",
      "Epoch 48/100\n",
      "1110016/1111222 [============================>.] - ETA: 0s - loss: 0.0614\n",
      "Epoch 00048: val_loss did not improve from 0.26060\n",
      "1111222/1111222 [==============================] - 170s 153us/sample - loss: 0.0614 - val_loss: 0.2965\n",
      "Epoch 49/100\n",
      "1110016/1111222 [============================>.] - ETA: 0s - loss: 0.0605\n",
      "Epoch 00049: val_loss did not improve from 0.26060\n",
      "1111222/1111222 [==============================] - 170s 153us/sample - loss: 0.0605 - val_loss: 0.2879\n",
      "Epoch 50/100\n",
      "1110016/1111222 [============================>.] - ETA: 0s - loss: 0.0599\n",
      "Epoch 00050: val_loss did not improve from 0.26060\n",
      "1111222/1111222 [==============================] - 169s 153us/sample - loss: 0.0599 - val_loss: 0.2829\n",
      "Epoch 51/100\n",
      "1110016/1111222 [============================>.] - ETA: 0s - loss: 0.0591\n",
      "Epoch 00051: val_loss did not improve from 0.26060\n",
      "1111222/1111222 [==============================] - 169s 152us/sample - loss: 0.0591 - val_loss: 0.2812\n",
      "Epoch 52/100\n",
      "1110016/1111222 [============================>.] - ETA: 0s - loss: 0.0586\n",
      "Epoch 00052: val_loss did not improve from 0.26060\n",
      "1111222/1111222 [==============================] - 169s 152us/sample - loss: 0.0586 - val_loss: 0.2846\n",
      "Epoch 53/100\n",
      "1110016/1111222 [============================>.] - ETA: 0s - loss: 0.0581\n",
      "Epoch 00053: val_loss did not improve from 0.26060\n",
      "1111222/1111222 [==============================] - 169s 152us/sample - loss: 0.0581 - val_loss: 0.2951\n",
      "Epoch 54/100\n",
      "1110016/1111222 [============================>.] - ETA: 0s - loss: 0.0572\n",
      "Epoch 00054: val_loss did not improve from 0.26060\n",
      "1111222/1111222 [==============================] - 170s 153us/sample - loss: 0.0572 - val_loss: 0.2901\n",
      "Epoch 55/100\n",
      "1110016/1111222 [============================>.] - ETA: 0s - loss: 0.0564\n",
      "Epoch 00055: val_loss did not improve from 0.26060\n",
      "1111222/1111222 [==============================] - 170s 153us/sample - loss: 0.0564 - val_loss: 0.2885\n",
      "Epoch 56/100\n",
      "1110016/1111222 [============================>.] - ETA: 0s - loss: 0.0563\n",
      "Epoch 00056: val_loss did not improve from 0.26060\n",
      "1111222/1111222 [==============================] - 169s 152us/sample - loss: 0.0563 - val_loss: 0.2869\n",
      "Epoch 57/100\n",
      "1110016/1111222 [============================>.] - ETA: 0s - loss: 0.0552\n",
      "Epoch 00057: val_loss did not improve from 0.26060\n",
      "1111222/1111222 [==============================] - 169s 152us/sample - loss: 0.0552 - val_loss: 0.2889\n",
      "Epoch 58/100\n",
      "1110016/1111222 [============================>.] - ETA: 0s - loss: 0.0548\n",
      "Epoch 00058: val_loss did not improve from 0.26060\n",
      "1111222/1111222 [==============================] - 169s 152us/sample - loss: 0.0548 - val_loss: 0.2971\n",
      "Epoch 59/100\n",
      "1110016/1111222 [============================>.] - ETA: 0s - loss: 0.0543\n",
      "Epoch 00059: val_loss did not improve from 0.26060\n",
      "1111222/1111222 [==============================] - 170s 153us/sample - loss: 0.0543 - val_loss: 0.2927\n",
      "Epoch 60/100\n",
      "1110016/1111222 [============================>.] - ETA: 0s - loss: 0.0539\n",
      "Epoch 00060: val_loss did not improve from 0.26060\n",
      "1111222/1111222 [==============================] - 170s 153us/sample - loss: 0.0539 - val_loss: 0.2882\n",
      "Epoch 61/100\n",
      "1110016/1111222 [============================>.] - ETA: 0s - loss: 0.0533\n",
      "Epoch 00061: val_loss did not improve from 0.26060\n",
      "1111222/1111222 [==============================] - 170s 153us/sample - loss: 0.0533 - val_loss: 0.2905\n",
      "Epoch 62/100\n",
      "1110016/1111222 [============================>.] - ETA: 0s - loss: 0.0526\n",
      "Epoch 00062: val_loss did not improve from 0.26060\n",
      "1111222/1111222 [==============================] - 170s 153us/sample - loss: 0.0526 - val_loss: 0.2764\n",
      "Epoch 63/100\n",
      "1110016/1111222 [============================>.] - ETA: 0s - loss: 0.0522\n",
      "Epoch 00063: val_loss did not improve from 0.26060\n",
      "1111222/1111222 [==============================] - 170s 153us/sample - loss: 0.0522 - val_loss: 0.2724\n",
      "Epoch 64/100\n",
      "1110016/1111222 [============================>.] - ETA: 0s - loss: 0.0522\n",
      "Epoch 00064: val_loss did not improve from 0.26060\n",
      "1111222/1111222 [==============================] - 170s 153us/sample - loss: 0.0522 - val_loss: 0.2766\n",
      "Epoch 65/100\n",
      "1110016/1111222 [============================>.] - ETA: 0s - loss: 0.0513\n",
      "Epoch 00065: val_loss did not improve from 0.26060\n",
      "1111222/1111222 [==============================] - 170s 153us/sample - loss: 0.0513 - val_loss: 0.2810\n",
      "Epoch 66/100\n",
      "1110016/1111222 [============================>.] - ETA: 0s - loss: 0.0507\n",
      "Epoch 00066: val_loss did not improve from 0.26060\n",
      "1111222/1111222 [==============================] - 170s 153us/sample - loss: 0.0507 - val_loss: 0.2785\n",
      "Epoch 67/100\n",
      "1110016/1111222 [============================>.] - ETA: 0s - loss: 0.0506\n",
      "Epoch 00067: val_loss did not improve from 0.26060\n",
      "1111222/1111222 [==============================] - 170s 153us/sample - loss: 0.0506 - val_loss: 0.2822\n",
      "Epoch 68/100\n",
      " 389120/1111222 [=========>....................] - ETA: 1:39 - loss: 0.0493"
     ]
    }
   ],
   "source": [
    "'''Training LSTM Model for 100 epochs using Adam Optimizer with Batch Size = 4096'''\n",
    "\n",
    "baseline_lstm_model.compile(optimizer='adam', loss='mean_squared_error')\n",
    "filepath = \"baseline_lstm_model_epochs:{epoch:03d}-val_loss:{val_loss:.3f}.hdf5\"\n",
    "\n",
    "checkpoint = ModelCheckpoint(filepath,monitor=\"val_loss\",mode=\"min\",save_best_only = True,verbose = 1)\n",
    "tensorboard = tf.keras.callbacks.TensorBoard(log_dir='/content/gdrive/My Drive/Mercari2/log_baseline_lstm_model')\n",
    "callbacks_list = [checkpoint,tensorboard]\n",
    "\n",
    "history_baseline_lstm_model = baseline_lstm_model.fit(X_train,y_train, \n",
    "                                                      batch_size=4096, \n",
    "                                                      epochs=100, \n",
    "                                                      verbose=1, \n",
    "                                                      validation_data=(X_test, y_test),\n",
    "                                                      callbacks = callbacks_list)"
   ]
  },
  {
   "cell_type": "code",
   "execution_count": 0,
   "metadata": {
    "colab": {},
    "colab_type": "code",
    "id": "7sOn_yFw47Gk"
   },
   "outputs": [],
   "source": [
    "#%tensorboard --logdir log_baseline_lstm_model"
   ]
  },
  {
   "cell_type": "markdown",
   "metadata": {},
   "source": [
    "##### Summary - Stopping the model after 68 epochs since no improvement in Validation Loss observed since last 30 epochs"
   ]
  },
  {
   "cell_type": "markdown",
   "metadata": {
    "colab_type": "text",
    "id": "iXO1UAvTd2nh"
   },
   "source": [
    "### <font color='red'> 11.9 Test Model </font>"
   ]
  },
  {
   "cell_type": "code",
   "execution_count": 0,
   "metadata": {
    "colab": {},
    "colab_type": "code",
    "id": "GP8x0NoD0GnQ"
   },
   "outputs": [],
   "source": [
    "def rmsle_score(y, y_pred):\n",
    "    assert len(y) == len(y_pred)\n",
    "    to_sum = [(math.log(y_pred[i] + 1) - math.log(y[i] + 1)) ** 2.0 for i,pred in enumerate(y_pred)]\n",
    "    return (sum(to_sum) * (1.0/len(y))) ** 0.5\n",
    "\n",
    "def rmsle_K(y, y0):\n",
    "    return K.sqrt(K.mean(K.square(tf.log1p(y) - tf.log1p(y0))))"
   ]
  },
  {
   "cell_type": "code",
   "execution_count": 0,
   "metadata": {
    "colab": {
     "base_uri": "https://localhost:8080/",
     "height": 373
    },
    "colab_type": "code",
    "id": "TYRmzYnyd2nh",
    "outputId": "a0c46038-0d02-4de9-d37d-bc663e394711"
   },
   "outputs": [
    {
     "name": "stdout",
     "output_type": "stream",
     "text": [
      "WARNING:tensorflow:From /tensorflow-1.15.2/python3.6/tensorflow_core/python/ops/init_ops.py:97: calling GlorotUniform.__init__ (from tensorflow.python.ops.init_ops) with dtype is deprecated and will be removed in a future version.\n",
      "Instructions for updating:\n",
      "Call initializer instance with the dtype argument instead of passing it to the constructor\n",
      "WARNING:tensorflow:From /tensorflow-1.15.2/python3.6/tensorflow_core/python/ops/init_ops.py:97: calling Orthogonal.__init__ (from tensorflow.python.ops.init_ops) with dtype is deprecated and will be removed in a future version.\n",
      "Instructions for updating:\n",
      "Call initializer instance with the dtype argument instead of passing it to the constructor\n",
      "WARNING:tensorflow:From /tensorflow-1.15.2/python3.6/tensorflow_core/python/ops/init_ops.py:97: calling Zeros.__init__ (from tensorflow.python.ops.init_ops) with dtype is deprecated and will be removed in a future version.\n",
      "Instructions for updating:\n",
      "Call initializer instance with the dtype argument instead of passing it to the constructor\n",
      "WARNING:tensorflow:From /tensorflow-1.15.2/python3.6/tensorflow_core/python/ops/init_ops.py:97: calling VarianceScaling.__init__ (from tensorflow.python.ops.init_ops) with dtype is deprecated and will be removed in a future version.\n",
      "Instructions for updating:\n",
      "Call initializer instance with the dtype argument instead of passing it to the constructor\n",
      "WARNING:tensorflow:From /tensorflow-1.15.2/python3.6/tensorflow_core/python/ops/init_ops.py:97: calling Ones.__init__ (from tensorflow.python.ops.init_ops) with dtype is deprecated and will be removed in a future version.\n",
      "Instructions for updating:\n",
      "Call initializer instance with the dtype argument instead of passing it to the constructor\n",
      "WARNING:tensorflow:From /tensorflow-1.15.2/python3.6/tensorflow_core/python/ops/math_grad.py:1424: where (from tensorflow.python.ops.array_ops) is deprecated and will be removed in a future version.\n",
      "Instructions for updating:\n",
      "Use tf.where in 2.0, which has the same broadcast rule as np.where\n",
      "370634/370634 [==============================] - 17s 47us/sample\n",
      "RMSLE of Test set is  0.48773672489000885\n"
     ]
    }
   ],
   "source": [
    "best_model = load_model('/content/gdrive/My Drive/Mercari2/baseline_lstm_model_epochs:012-val_loss:0.261.hdf5',custom_objects={\"rmsle_K\":rmsle_K})\n",
    "\n",
    "preds = np.expm1(best_model.predict(X_test,batch_size = 4096,verbose = 1))\n",
    "print('RMSLE of Test set is ',rmsle_score(np.expm1(y_test).values , preds))"
   ]
  },
  {
   "cell_type": "code",
   "execution_count": 0,
   "metadata": {
    "colab": {
     "base_uri": "https://localhost:8080/",
     "height": 295
    },
    "colab_type": "code",
    "id": "NSrUqz8BzZJC",
    "outputId": "75c863f4-5104-481b-d3bd-7d59b4c464dc"
   },
   "outputs": [
    {
     "data": {
      "image/png": "[encoded data removed]",
      "text/plain": [
       "<Figure size 432x288 with 1 Axes>"
      ]
     },
     "metadata": {
      "tags": []
     },
     "output_type": "display_data"
    }
   ],
   "source": [
    "plt.plot(history_baseline_lstm_model.history['loss'])\n",
    "plt.plot(history_baseline_lstm_model.history['val_loss'])\n",
    "plt.title('Model Loss')\n",
    "plt.ylabel('Loss')\n",
    "plt.xlabel('Epoch')\n",
    "plt.legend(['Train', 'Test'], loc='upper left')\n",
    "plt.show()"
   ]
  },
  {
   "cell_type": "markdown",
   "metadata": {},
   "source": [
    "##### Summary - We obtain a Test RMSLE of 0.48, Model does not learn much after 12 epochs, best model at 12th epoch can be used to predict, all models trained after 12th epoch are overfitting."
   ]
  }
 ],
 "metadata": {
  "accelerator": "GPU",
  "colab": {
   "collapsed_sections": [],
   "name": "4_lstm(colab).ipynb",
   "provenance": []
  },
  "kernelspec": {
   "display_name": "Python 3",
   "language": "python",
   "name": "python3"
  },
  "language_info": {
   "codemirror_mode": {
    "name": "ipython",
    "version": 3
   },
   "file_extension": ".py",
   "mimetype": "text/x-python",
   "name": "python",
   "nbconvert_exporter": "python",
   "pygments_lexer": "ipython3",
   "version": "3.7.3"
  },
  "widgets": {
   "application/vnd.jupyter.widget-state+json": {
    "05abf0eb023b43728bfcc11406f2a647": {
     "model_module": "@jupyter-widgets/base",
     "model_name": "LayoutModel",
     "state": {
      "_model_module": "@jupyter-widgets/base",
      "_model_module_version": "1.2.0",
      "_model_name": "LayoutModel",
      "_view_count": null,
      "_view_module": "@jupyter-widgets/base",
      "_view_module_version": "1.2.0",
      "_view_name": "LayoutView",
      "align_content": null,
      "align_items": null,
      "align_self": null,
      "border": null,
      "bottom": null,
      "display": null,
      "flex": null,
      "flex_flow": null,
      "grid_area": null,
      "grid_auto_columns": null,
      "grid_auto_flow": null,
      "grid_auto_rows": null,
      "grid_column": null,
      "grid_gap": null,
      "grid_row": null,
      "grid_template_areas": null,
      "grid_template_columns": null,
      "grid_template_rows": null,
      "height": null,
      "justify_content": null,
      "justify_items": null,
      "left": null,
      "margin": null,
      "max_height": null,
      "max_width": null,
      "min_height": null,
      "min_width": null,
      "object_fit": null,
      "object_position": null,
      "order": null,
      "overflow": null,
      "overflow_x": null,
      "overflow_y": null,
      "padding": null,
      "right": null,
      "top": null,
      "visibility": null,
      "width": null
     }
    },
    "0c23b466f50845c898ee5c6050ea6f3a": {
     "model_module": "@jupyter-widgets/controls",
     "model_name": "HTMLModel",
     "state": {
      "_dom_classes": [],
      "_model_module": "@jupyter-widgets/controls",
      "_model_module_version": "1.5.0",
      "_model_name": "HTMLModel",
      "_view_count": null,
      "_view_module": "@jupyter-widgets/controls",
      "_view_module_version": "1.5.0",
      "_view_name": "HTMLView",
      "description": "",
      "description_tooltip": null,
      "layout": "IPY_MODEL_487bf54c766b4124849fe8e8b970d956",
      "placeholder": "​",
      "style": "IPY_MODEL_949eb480d0d044b3b91ddbd56b999b60",
      "value": " 138418/138418 [00:37&lt;00:00, 3645.44it/s]"
     }
    },
    "14b58f0e71d149dd8bfb85a13f661fd3": {
     "model_module": "@jupyter-widgets/controls",
     "model_name": "HTMLModel",
     "state": {
      "_dom_classes": [],
      "_model_module": "@jupyter-widgets/controls",
      "_model_module_version": "1.5.0",
      "_model_name": "HTMLModel",
      "_view_count": null,
      "_view_module": "@jupyter-widgets/controls",
      "_view_module_version": "1.5.0",
      "_view_name": "HTMLView",
      "description": "",
      "description_tooltip": null,
      "layout": "IPY_MODEL_403c41385f1f4647a208873908dd9067",
      "placeholder": "​",
      "style": "IPY_MODEL_b06fceaecfdc426fbc89ab92b6f389ee",
      "value": " 1111222/1111222 [02:43&lt;00:00, 6785.46it/s]"
     }
    },
    "17f23f0e153e40379ed91415aef9f426": {
     "model_module": "@jupyter-widgets/controls",
     "model_name": "IntProgressModel",
     "state": {
      "_dom_classes": [],
      "_model_module": "@jupyter-widgets/controls",
      "_model_module_version": "1.5.0",
      "_model_name": "IntProgressModel",
      "_view_count": null,
      "_view_module": "@jupyter-widgets/controls",
      "_view_module_version": "1.5.0",
      "_view_name": "ProgressView",
      "bar_style": "success",
      "description": "100%",
      "description_tooltip": null,
      "layout": "IPY_MODEL_05abf0eb023b43728bfcc11406f2a647",
      "max": 89576,
      "min": 0,
      "orientation": "horizontal",
      "style": "IPY_MODEL_598cf0a79d0645af9ca0fdc909932912",
      "value": 89576
     }
    },
    "1a60b6199c3d47499512d26e1e66ae1a": {
     "model_module": "@jupyter-widgets/controls",
     "model_name": "IntProgressModel",
     "state": {
      "_dom_classes": [],
      "_model_module": "@jupyter-widgets/controls",
      "_model_module_version": "1.5.0",
      "_model_name": "IntProgressModel",
      "_view_count": null,
      "_view_module": "@jupyter-widgets/controls",
      "_view_module_version": "1.5.0",
      "_view_name": "ProgressView",
      "bar_style": "success",
      "description": "100%",
      "description_tooltip": null,
      "layout": "IPY_MODEL_caa17833b61744a9817761c420b9ecb5",
      "max": 1111222,
      "min": 0,
      "orientation": "horizontal",
      "style": "IPY_MODEL_403c3c98baeb4dd28ca49ec46c2bf3e7",
      "value": 1111222
     }
    },
    "25011cb48ddc40e9820dd6b272980180": {
     "model_module": "@jupyter-widgets/controls",
     "model_name": "ProgressStyleModel",
     "state": {
      "_model_module": "@jupyter-widgets/controls",
      "_model_module_version": "1.5.0",
      "_model_name": "ProgressStyleModel",
      "_view_count": null,
      "_view_module": "@jupyter-widgets/base",
      "_view_module_version": "1.2.0",
      "_view_name": "StyleView",
      "bar_color": null,
      "description_width": "initial"
     }
    },
    "282b21d9efa745158454add5e549d22b": {
     "model_module": "@jupyter-widgets/base",
     "model_name": "LayoutModel",
     "state": {
      "_model_module": "@jupyter-widgets/base",
      "_model_module_version": "1.2.0",
      "_model_name": "LayoutModel",
      "_view_count": null,
      "_view_module": "@jupyter-widgets/base",
      "_view_module_version": "1.2.0",
      "_view_name": "LayoutView",
      "align_content": null,
      "align_items": null,
      "align_self": null,
      "border": null,
      "bottom": null,
      "display": null,
      "flex": null,
      "flex_flow": null,
      "grid_area": null,
      "grid_auto_columns": null,
      "grid_auto_flow": null,
      "grid_auto_rows": null,
      "grid_column": null,
      "grid_gap": null,
      "grid_row": null,
      "grid_template_areas": null,
      "grid_template_columns": null,
      "grid_template_rows": null,
      "height": null,
      "justify_content": null,
      "justify_items": null,
      "left": null,
      "margin": null,
      "max_height": null,
      "max_width": null,
      "min_height": null,
      "min_width": null,
      "object_fit": null,
      "object_position": null,
      "order": null,
      "overflow": null,
      "overflow_x": null,
      "overflow_y": null,
      "padding": null,
      "right": null,
      "top": null,
      "visibility": null,
      "width": null
     }
    },
    "2e6e41f1cea04903bcc81db7a26d74dd": {
     "model_module": "@jupyter-widgets/base",
     "model_name": "LayoutModel",
     "state": {
      "_model_module": "@jupyter-widgets/base",
      "_model_module_version": "1.2.0",
      "_model_name": "LayoutModel",
      "_view_count": null,
      "_view_module": "@jupyter-widgets/base",
      "_view_module_version": "1.2.0",
      "_view_name": "LayoutView",
      "align_content": null,
      "align_items": null,
      "align_self": null,
      "border": null,
      "bottom": null,
      "display": null,
      "flex": null,
      "flex_flow": null,
      "grid_area": null,
      "grid_auto_columns": null,
      "grid_auto_flow": null,
      "grid_auto_rows": null,
      "grid_column": null,
      "grid_gap": null,
      "grid_row": null,
      "grid_template_areas": null,
      "grid_template_columns": null,
      "grid_template_rows": null,
      "height": null,
      "justify_content": null,
      "justify_items": null,
      "left": null,
      "margin": null,
      "max_height": null,
      "max_width": null,
      "min_height": null,
      "min_width": null,
      "object_fit": null,
      "object_position": null,
      "order": null,
      "overflow": null,
      "overflow_x": null,
      "overflow_y": null,
      "padding": null,
      "right": null,
      "top": null,
      "visibility": null,
      "width": null
     }
    },
    "390c302e9e714a29a2cf5feb17447308": {
     "model_module": "@jupyter-widgets/controls",
     "model_name": "HTMLModel",
     "state": {
      "_dom_classes": [],
      "_model_module": "@jupyter-widgets/controls",
      "_model_module_version": "1.5.0",
      "_model_name": "HTMLModel",
      "_view_count": null,
      "_view_module": "@jupyter-widgets/controls",
      "_view_module_version": "1.5.0",
      "_view_name": "HTMLView",
      "description": "",
      "description_tooltip": null,
      "layout": "IPY_MODEL_6dae4c2d473b46b3ae9004a4a969a5b0",
      "placeholder": "​",
      "style": "IPY_MODEL_9a83bb027a564f08bedb477cb2715330",
      "value": " 370634/370634 [00:56&lt;00:00, 6548.16it/s]"
     }
    },
    "3941a62844534c249fafde7ffa35e13c": {
     "model_module": "@jupyter-widgets/base",
     "model_name": "LayoutModel",
     "state": {
      "_model_module": "@jupyter-widgets/base",
      "_model_module_version": "1.2.0",
      "_model_name": "LayoutModel",
      "_view_count": null,
      "_view_module": "@jupyter-widgets/base",
      "_view_module_version": "1.2.0",
      "_view_name": "LayoutView",
      "align_content": null,
      "align_items": null,
      "align_self": null,
      "border": null,
      "bottom": null,
      "display": null,
      "flex": null,
      "flex_flow": null,
      "grid_area": null,
      "grid_auto_columns": null,
      "grid_auto_flow": null,
      "grid_auto_rows": null,
      "grid_column": null,
      "grid_gap": null,
      "grid_row": null,
      "grid_template_areas": null,
      "grid_template_columns": null,
      "grid_template_rows": null,
      "height": null,
      "justify_content": null,
      "justify_items": null,
      "left": null,
      "margin": null,
      "max_height": null,
      "max_width": null,
      "min_height": null,
      "min_width": null,
      "object_fit": null,
      "object_position": null,
      "order": null,
      "overflow": null,
      "overflow_x": null,
      "overflow_y": null,
      "padding": null,
      "right": null,
      "top": null,
      "visibility": null,
      "width": null
     }
    },
    "3b0985d6513949b48e7159d0e7dfa157": {
     "model_module": "@jupyter-widgets/base",
     "model_name": "LayoutModel",
     "state": {
      "_model_module": "@jupyter-widgets/base",
      "_model_module_version": "1.2.0",
      "_model_name": "LayoutModel",
      "_view_count": null,
      "_view_module": "@jupyter-widgets/base",
      "_view_module_version": "1.2.0",
      "_view_name": "LayoutView",
      "align_content": null,
      "align_items": null,
      "align_self": null,
      "border": null,
      "bottom": null,
      "display": null,
      "flex": null,
      "flex_flow": null,
      "grid_area": null,
      "grid_auto_columns": null,
      "grid_auto_flow": null,
      "grid_auto_rows": null,
      "grid_column": null,
      "grid_gap": null,
      "grid_row": null,
      "grid_template_areas": null,
      "grid_template_columns": null,
      "grid_template_rows": null,
      "height": null,
      "justify_content": null,
      "justify_items": null,
      "left": null,
      "margin": null,
      "max_height": null,
      "max_width": null,
      "min_height": null,
      "min_width": null,
      "object_fit": null,
      "object_position": null,
      "order": null,
      "overflow": null,
      "overflow_x": null,
      "overflow_y": null,
      "padding": null,
      "right": null,
      "top": null,
      "visibility": null,
      "width": null
     }
    },
    "403c3c98baeb4dd28ca49ec46c2bf3e7": {
     "model_module": "@jupyter-widgets/controls",
     "model_name": "ProgressStyleModel",
     "state": {
      "_model_module": "@jupyter-widgets/controls",
      "_model_module_version": "1.5.0",
      "_model_name": "ProgressStyleModel",
      "_view_count": null,
      "_view_module": "@jupyter-widgets/base",
      "_view_module_version": "1.2.0",
      "_view_name": "StyleView",
      "bar_color": null,
      "description_width": "initial"
     }
    },
    "403c41385f1f4647a208873908dd9067": {
     "model_module": "@jupyter-widgets/base",
     "model_name": "LayoutModel",
     "state": {
      "_model_module": "@jupyter-widgets/base",
      "_model_module_version": "1.2.0",
      "_model_name": "LayoutModel",
      "_view_count": null,
      "_view_module": "@jupyter-widgets/base",
      "_view_module_version": "1.2.0",
      "_view_name": "LayoutView",
      "align_content": null,
      "align_items": null,
      "align_self": null,
      "border": null,
      "bottom": null,
      "display": null,
      "flex": null,
      "flex_flow": null,
      "grid_area": null,
      "grid_auto_columns": null,
      "grid_auto_flow": null,
      "grid_auto_rows": null,
      "grid_column": null,
      "grid_gap": null,
      "grid_row": null,
      "grid_template_areas": null,
      "grid_template_columns": null,
      "grid_template_rows": null,
      "height": null,
      "justify_content": null,
      "justify_items": null,
      "left": null,
      "margin": null,
      "max_height": null,
      "max_width": null,
      "min_height": null,
      "min_width": null,
      "object_fit": null,
      "object_position": null,
      "order": null,
      "overflow": null,
      "overflow_x": null,
      "overflow_y": null,
      "padding": null,
      "right": null,
      "top": null,
      "visibility": null,
      "width": null
     }
    },
    "40cf3692157843df81bf208d0a77dbb6": {
     "model_module": "@jupyter-widgets/controls",
     "model_name": "IntProgressModel",
     "state": {
      "_dom_classes": [],
      "_model_module": "@jupyter-widgets/controls",
      "_model_module_version": "1.5.0",
      "_model_name": "IntProgressModel",
      "_view_count": null,
      "_view_module": "@jupyter-widgets/controls",
      "_view_module_version": "1.5.0",
      "_view_name": "ProgressView",
      "bar_style": "success",
      "description": "100%",
      "description_tooltip": null,
      "layout": "IPY_MODEL_3941a62844534c249fafde7ffa35e13c",
      "max": 1111222,
      "min": 0,
      "orientation": "horizontal",
      "style": "IPY_MODEL_fcf69d04e84542a2a9374b1140712ec5",
      "value": 1111222
     }
    },
    "43cde56ea5944624bfea75b6aa3385da": {
     "model_module": "@jupyter-widgets/base",
     "model_name": "LayoutModel",
     "state": {
      "_model_module": "@jupyter-widgets/base",
      "_model_module_version": "1.2.0",
      "_model_name": "LayoutModel",
      "_view_count": null,
      "_view_module": "@jupyter-widgets/base",
      "_view_module_version": "1.2.0",
      "_view_name": "LayoutView",
      "align_content": null,
      "align_items": null,
      "align_self": null,
      "border": null,
      "bottom": null,
      "display": null,
      "flex": null,
      "flex_flow": null,
      "grid_area": null,
      "grid_auto_columns": null,
      "grid_auto_flow": null,
      "grid_auto_rows": null,
      "grid_column": null,
      "grid_gap": null,
      "grid_row": null,
      "grid_template_areas": null,
      "grid_template_columns": null,
      "grid_template_rows": null,
      "height": null,
      "justify_content": null,
      "justify_items": null,
      "left": null,
      "margin": null,
      "max_height": null,
      "max_width": null,
      "min_height": null,
      "min_width": null,
      "object_fit": null,
      "object_position": null,
      "order": null,
      "overflow": null,
      "overflow_x": null,
      "overflow_y": null,
      "padding": null,
      "right": null,
      "top": null,
      "visibility": null,
      "width": null
     }
    },
    "487bf54c766b4124849fe8e8b970d956": {
     "model_module": "@jupyter-widgets/base",
     "model_name": "LayoutModel",
     "state": {
      "_model_module": "@jupyter-widgets/base",
      "_model_module_version": "1.2.0",
      "_model_name": "LayoutModel",
      "_view_count": null,
      "_view_module": "@jupyter-widgets/base",
      "_view_module_version": "1.2.0",
      "_view_name": "LayoutView",
      "align_content": null,
      "align_items": null,
      "align_self": null,
      "border": null,
      "bottom": null,
      "display": null,
      "flex": null,
      "flex_flow": null,
      "grid_area": null,
      "grid_auto_columns": null,
      "grid_auto_flow": null,
      "grid_auto_rows": null,
      "grid_column": null,
      "grid_gap": null,
      "grid_row": null,
      "grid_template_areas": null,
      "grid_template_columns": null,
      "grid_template_rows": null,
      "height": null,
      "justify_content": null,
      "justify_items": null,
      "left": null,
      "margin": null,
      "max_height": null,
      "max_width": null,
      "min_height": null,
      "min_width": null,
      "object_fit": null,
      "object_position": null,
      "order": null,
      "overflow": null,
      "overflow_x": null,
      "overflow_y": null,
      "padding": null,
      "right": null,
      "top": null,
      "visibility": null,
      "width": null
     }
    },
    "4c96d9ed4efe4ce8a78cd0626975c842": {
     "model_module": "@jupyter-widgets/controls",
     "model_name": "ProgressStyleModel",
     "state": {
      "_model_module": "@jupyter-widgets/controls",
      "_model_module_version": "1.5.0",
      "_model_name": "ProgressStyleModel",
      "_view_count": null,
      "_view_module": "@jupyter-widgets/base",
      "_view_module_version": "1.2.0",
      "_view_name": "StyleView",
      "bar_color": null,
      "description_width": "initial"
     }
    },
    "4eb6c6594a79479eb116a557a13f5771": {
     "model_module": "@jupyter-widgets/controls",
     "model_name": "ProgressStyleModel",
     "state": {
      "_model_module": "@jupyter-widgets/controls",
      "_model_module_version": "1.5.0",
      "_model_name": "ProgressStyleModel",
      "_view_count": null,
      "_view_module": "@jupyter-widgets/base",
      "_view_module_version": "1.2.0",
      "_view_name": "StyleView",
      "bar_color": null,
      "description_width": "initial"
     }
    },
    "546c67e98778492abbdaa711b5fe2f2e": {
     "model_module": "@jupyter-widgets/controls",
     "model_name": "DescriptionStyleModel",
     "state": {
      "_model_module": "@jupyter-widgets/controls",
      "_model_module_version": "1.5.0",
      "_model_name": "DescriptionStyleModel",
      "_view_count": null,
      "_view_module": "@jupyter-widgets/base",
      "_view_module_version": "1.2.0",
      "_view_name": "StyleView",
      "description_width": ""
     }
    },
    "598cf0a79d0645af9ca0fdc909932912": {
     "model_module": "@jupyter-widgets/controls",
     "model_name": "ProgressStyleModel",
     "state": {
      "_model_module": "@jupyter-widgets/controls",
      "_model_module_version": "1.5.0",
      "_model_name": "ProgressStyleModel",
      "_view_count": null,
      "_view_module": "@jupyter-widgets/base",
      "_view_module_version": "1.2.0",
      "_view_name": "StyleView",
      "bar_color": null,
      "description_width": "initial"
     }
    },
    "5a7403337a2b47c08dfcf4dfed16cbd8": {
     "model_module": "@jupyter-widgets/controls",
     "model_name": "DescriptionStyleModel",
     "state": {
      "_model_module": "@jupyter-widgets/controls",
      "_model_module_version": "1.5.0",
      "_model_name": "DescriptionStyleModel",
      "_view_count": null,
      "_view_module": "@jupyter-widgets/base",
      "_view_module_version": "1.2.0",
      "_view_name": "StyleView",
      "description_width": ""
     }
    },
    "607a475ca3674a31b2b1043e21b46af6": {
     "model_module": "@jupyter-widgets/controls",
     "model_name": "HTMLModel",
     "state": {
      "_dom_classes": [],
      "_model_module": "@jupyter-widgets/controls",
      "_model_module_version": "1.5.0",
      "_model_name": "HTMLModel",
      "_view_count": null,
      "_view_module": "@jupyter-widgets/controls",
      "_view_module_version": "1.5.0",
      "_view_name": "HTMLView",
      "description": "",
      "description_tooltip": null,
      "layout": "IPY_MODEL_ae6f2e427a334971ba841ad1dd52020d",
      "placeholder": "​",
      "style": "IPY_MODEL_546c67e98778492abbdaa711b5fe2f2e",
      "value": " 89576/89576 [00:00&lt;00:00, 404635.56it/s]"
     }
    },
    "6c69700d519e4a3791829bd2c197c73c": {
     "model_module": "@jupyter-widgets/controls",
     "model_name": "DescriptionStyleModel",
     "state": {
      "_model_module": "@jupyter-widgets/controls",
      "_model_module_version": "1.5.0",
      "_model_name": "DescriptionStyleModel",
      "_view_count": null,
      "_view_module": "@jupyter-widgets/base",
      "_view_module_version": "1.2.0",
      "_view_name": "StyleView",
      "description_width": ""
     }
    },
    "6dae4c2d473b46b3ae9004a4a969a5b0": {
     "model_module": "@jupyter-widgets/base",
     "model_name": "LayoutModel",
     "state": {
      "_model_module": "@jupyter-widgets/base",
      "_model_module_version": "1.2.0",
      "_model_name": "LayoutModel",
      "_view_count": null,
      "_view_module": "@jupyter-widgets/base",
      "_view_module_version": "1.2.0",
      "_view_name": "LayoutView",
      "align_content": null,
      "align_items": null,
      "align_self": null,
      "border": null,
      "bottom": null,
      "display": null,
      "flex": null,
      "flex_flow": null,
      "grid_area": null,
      "grid_auto_columns": null,
      "grid_auto_flow": null,
      "grid_auto_rows": null,
      "grid_column": null,
      "grid_gap": null,
      "grid_row": null,
      "grid_template_areas": null,
      "grid_template_columns": null,
      "grid_template_rows": null,
      "height": null,
      "justify_content": null,
      "justify_items": null,
      "left": null,
      "margin": null,
      "max_height": null,
      "max_width": null,
      "min_height": null,
      "min_width": null,
      "object_fit": null,
      "object_position": null,
      "order": null,
      "overflow": null,
      "overflow_x": null,
      "overflow_y": null,
      "padding": null,
      "right": null,
      "top": null,
      "visibility": null,
      "width": null
     }
    },
    "6f01ae26e0c44def85ccd304f4432fa0": {
     "model_module": "@jupyter-widgets/base",
     "model_name": "LayoutModel",
     "state": {
      "_model_module": "@jupyter-widgets/base",
      "_model_module_version": "1.2.0",
      "_model_name": "LayoutModel",
      "_view_count": null,
      "_view_module": "@jupyter-widgets/base",
      "_view_module_version": "1.2.0",
      "_view_name": "LayoutView",
      "align_content": null,
      "align_items": null,
      "align_self": null,
      "border": null,
      "bottom": null,
      "display": null,
      "flex": null,
      "flex_flow": null,
      "grid_area": null,
      "grid_auto_columns": null,
      "grid_auto_flow": null,
      "grid_auto_rows": null,
      "grid_column": null,
      "grid_gap": null,
      "grid_row": null,
      "grid_template_areas": null,
      "grid_template_columns": null,
      "grid_template_rows": null,
      "height": null,
      "justify_content": null,
      "justify_items": null,
      "left": null,
      "margin": null,
      "max_height": null,
      "max_width": null,
      "min_height": null,
      "min_width": null,
      "object_fit": null,
      "object_position": null,
      "order": null,
      "overflow": null,
      "overflow_x": null,
      "overflow_y": null,
      "padding": null,
      "right": null,
      "top": null,
      "visibility": null,
      "width": null
     }
    },
    "71a6840fe97d45e4815606cb740656b0": {
     "model_module": "@jupyter-widgets/controls",
     "model_name": "HBoxModel",
     "state": {
      "_dom_classes": [],
      "_model_module": "@jupyter-widgets/controls",
      "_model_module_version": "1.5.0",
      "_model_name": "HBoxModel",
      "_view_count": null,
      "_view_module": "@jupyter-widgets/controls",
      "_view_module_version": "1.5.0",
      "_view_name": "HBoxView",
      "box_style": "",
      "children": [
       "IPY_MODEL_40cf3692157843df81bf208d0a77dbb6",
       "IPY_MODEL_14b58f0e71d149dd8bfb85a13f661fd3"
      ],
      "layout": "IPY_MODEL_c3b9bf86e39446a99f81e226381fe4d1"
     }
    },
    "769d9a2dc67b4521abce769e29f202b4": {
     "model_module": "@jupyter-widgets/controls",
     "model_name": "HBoxModel",
     "state": {
      "_dom_classes": [],
      "_model_module": "@jupyter-widgets/controls",
      "_model_module_version": "1.5.0",
      "_model_name": "HBoxModel",
      "_view_count": null,
      "_view_module": "@jupyter-widgets/controls",
      "_view_module_version": "1.5.0",
      "_view_name": "HBoxView",
      "box_style": "",
      "children": [
       "IPY_MODEL_1a60b6199c3d47499512d26e1e66ae1a",
       "IPY_MODEL_bc59863f43cb442e8c126afba1001818"
      ],
      "layout": "IPY_MODEL_282b21d9efa745158454add5e549d22b"
     }
    },
    "7a7027874e9d47cf9a43b4ed47761227": {
     "model_module": "@jupyter-widgets/controls",
     "model_name": "HBoxModel",
     "state": {
      "_dom_classes": [],
      "_model_module": "@jupyter-widgets/controls",
      "_model_module_version": "1.5.0",
      "_model_name": "HBoxModel",
      "_view_count": null,
      "_view_module": "@jupyter-widgets/controls",
      "_view_module_version": "1.5.0",
      "_view_name": "HBoxView",
      "box_style": "",
      "children": [
       "IPY_MODEL_c0dea5d935eb46828985843a22dcbfb5",
       "IPY_MODEL_390c302e9e714a29a2cf5feb17447308"
      ],
      "layout": "IPY_MODEL_fe1557caa6954e8da054b08eb2278cb8"
     }
    },
    "7f721b5324354dcf814171a6a4f6a060": {
     "model_module": "@jupyter-widgets/controls",
     "model_name": "IntProgressModel",
     "state": {
      "_dom_classes": [],
      "_model_module": "@jupyter-widgets/controls",
      "_model_module_version": "1.5.0",
      "_model_name": "IntProgressModel",
      "_view_count": null,
      "_view_module": "@jupyter-widgets/controls",
      "_view_module_version": "1.5.0",
      "_view_name": "ProgressView",
      "bar_style": "success",
      "description": "100%",
      "description_tooltip": null,
      "layout": "IPY_MODEL_a8724ff67d554ed6a50f76dc2612ac77",
      "max": 138418,
      "min": 0,
      "orientation": "horizontal",
      "style": "IPY_MODEL_4eb6c6594a79479eb116a557a13f5771",
      "value": 138418
     }
    },
    "8734e3e774134d91820876c3feaabb41": {
     "model_module": "@jupyter-widgets/controls",
     "model_name": "HTMLModel",
     "state": {
      "_dom_classes": [],
      "_model_module": "@jupyter-widgets/controls",
      "_model_module_version": "1.5.0",
      "_model_name": "HTMLModel",
      "_view_count": null,
      "_view_module": "@jupyter-widgets/controls",
      "_view_module_version": "1.5.0",
      "_view_name": "HTMLView",
      "description": "",
      "description_tooltip": null,
      "layout": "IPY_MODEL_db998e7cb01c4d058a134c705a9a97f5",
      "placeholder": "​",
      "style": "IPY_MODEL_5a7403337a2b47c08dfcf4dfed16cbd8",
      "value": " 370634/370634 [02:19&lt;00:00, 2651.31it/s]"
     }
    },
    "949eb480d0d044b3b91ddbd56b999b60": {
     "model_module": "@jupyter-widgets/controls",
     "model_name": "DescriptionStyleModel",
     "state": {
      "_model_module": "@jupyter-widgets/controls",
      "_model_module_version": "1.5.0",
      "_model_name": "DescriptionStyleModel",
      "_view_count": null,
      "_view_module": "@jupyter-widgets/base",
      "_view_module_version": "1.2.0",
      "_view_name": "StyleView",
      "description_width": ""
     }
    },
    "9a83bb027a564f08bedb477cb2715330": {
     "model_module": "@jupyter-widgets/controls",
     "model_name": "DescriptionStyleModel",
     "state": {
      "_model_module": "@jupyter-widgets/controls",
      "_model_module_version": "1.5.0",
      "_model_name": "DescriptionStyleModel",
      "_view_count": null,
      "_view_module": "@jupyter-widgets/base",
      "_view_module_version": "1.2.0",
      "_view_name": "StyleView",
      "description_width": ""
     }
    },
    "a172949fc2744ec18b292793b77865f9": {
     "model_module": "@jupyter-widgets/controls",
     "model_name": "IntProgressModel",
     "state": {
      "_dom_classes": [],
      "_model_module": "@jupyter-widgets/controls",
      "_model_module_version": "1.5.0",
      "_model_name": "IntProgressModel",
      "_view_count": null,
      "_view_module": "@jupyter-widgets/controls",
      "_view_module_version": "1.5.0",
      "_view_name": "ProgressView",
      "bar_style": "success",
      "description": "100%",
      "description_tooltip": null,
      "layout": "IPY_MODEL_43cde56ea5944624bfea75b6aa3385da",
      "max": 370634,
      "min": 0,
      "orientation": "horizontal",
      "style": "IPY_MODEL_25011cb48ddc40e9820dd6b272980180",
      "value": 370634
     }
    },
    "a8724ff67d554ed6a50f76dc2612ac77": {
     "model_module": "@jupyter-widgets/base",
     "model_name": "LayoutModel",
     "state": {
      "_model_module": "@jupyter-widgets/base",
      "_model_module_version": "1.2.0",
      "_model_name": "LayoutModel",
      "_view_count": null,
      "_view_module": "@jupyter-widgets/base",
      "_view_module_version": "1.2.0",
      "_view_name": "LayoutView",
      "align_content": null,
      "align_items": null,
      "align_self": null,
      "border": null,
      "bottom": null,
      "display": null,
      "flex": null,
      "flex_flow": null,
      "grid_area": null,
      "grid_auto_columns": null,
      "grid_auto_flow": null,
      "grid_auto_rows": null,
      "grid_column": null,
      "grid_gap": null,
      "grid_row": null,
      "grid_template_areas": null,
      "grid_template_columns": null,
      "grid_template_rows": null,
      "height": null,
      "justify_content": null,
      "justify_items": null,
      "left": null,
      "margin": null,
      "max_height": null,
      "max_width": null,
      "min_height": null,
      "min_width": null,
      "object_fit": null,
      "object_position": null,
      "order": null,
      "overflow": null,
      "overflow_x": null,
      "overflow_y": null,
      "padding": null,
      "right": null,
      "top": null,
      "visibility": null,
      "width": null
     }
    },
    "ae6f2e427a334971ba841ad1dd52020d": {
     "model_module": "@jupyter-widgets/base",
     "model_name": "LayoutModel",
     "state": {
      "_model_module": "@jupyter-widgets/base",
      "_model_module_version": "1.2.0",
      "_model_name": "LayoutModel",
      "_view_count": null,
      "_view_module": "@jupyter-widgets/base",
      "_view_module_version": "1.2.0",
      "_view_name": "LayoutView",
      "align_content": null,
      "align_items": null,
      "align_self": null,
      "border": null,
      "bottom": null,
      "display": null,
      "flex": null,
      "flex_flow": null,
      "grid_area": null,
      "grid_auto_columns": null,
      "grid_auto_flow": null,
      "grid_auto_rows": null,
      "grid_column": null,
      "grid_gap": null,
      "grid_row": null,
      "grid_template_areas": null,
      "grid_template_columns": null,
      "grid_template_rows": null,
      "height": null,
      "justify_content": null,
      "justify_items": null,
      "left": null,
      "margin": null,
      "max_height": null,
      "max_width": null,
      "min_height": null,
      "min_width": null,
      "object_fit": null,
      "object_position": null,
      "order": null,
      "overflow": null,
      "overflow_x": null,
      "overflow_y": null,
      "padding": null,
      "right": null,
      "top": null,
      "visibility": null,
      "width": null
     }
    },
    "b06fceaecfdc426fbc89ab92b6f389ee": {
     "model_module": "@jupyter-widgets/controls",
     "model_name": "DescriptionStyleModel",
     "state": {
      "_model_module": "@jupyter-widgets/controls",
      "_model_module_version": "1.5.0",
      "_model_name": "DescriptionStyleModel",
      "_view_count": null,
      "_view_module": "@jupyter-widgets/base",
      "_view_module_version": "1.2.0",
      "_view_name": "StyleView",
      "description_width": ""
     }
    },
    "bc59863f43cb442e8c126afba1001818": {
     "model_module": "@jupyter-widgets/controls",
     "model_name": "HTMLModel",
     "state": {
      "_dom_classes": [],
      "_model_module": "@jupyter-widgets/controls",
      "_model_module_version": "1.5.0",
      "_model_name": "HTMLModel",
      "_view_count": null,
      "_view_module": "@jupyter-widgets/controls",
      "_view_module_version": "1.5.0",
      "_view_name": "HTMLView",
      "description": "",
      "description_tooltip": null,
      "layout": "IPY_MODEL_2e6e41f1cea04903bcc81db7a26d74dd",
      "placeholder": "​",
      "style": "IPY_MODEL_6c69700d519e4a3791829bd2c197c73c",
      "value": " 1111222/1111222 [02:11&lt;00:00, 8426.36it/s]"
     }
    },
    "c0dea5d935eb46828985843a22dcbfb5": {
     "model_module": "@jupyter-widgets/controls",
     "model_name": "IntProgressModel",
     "state": {
      "_dom_classes": [],
      "_model_module": "@jupyter-widgets/controls",
      "_model_module_version": "1.5.0",
      "_model_name": "IntProgressModel",
      "_view_count": null,
      "_view_module": "@jupyter-widgets/controls",
      "_view_module_version": "1.5.0",
      "_view_name": "ProgressView",
      "bar_style": "success",
      "description": "100%",
      "description_tooltip": null,
      "layout": "IPY_MODEL_dfe6d8a3da8945c4b2bd0c5d8e3e7a75",
      "max": 370634,
      "min": 0,
      "orientation": "horizontal",
      "style": "IPY_MODEL_4c96d9ed4efe4ce8a78cd0626975c842",
      "value": 370634
     }
    },
    "c3b9bf86e39446a99f81e226381fe4d1": {
     "model_module": "@jupyter-widgets/base",
     "model_name": "LayoutModel",
     "state": {
      "_model_module": "@jupyter-widgets/base",
      "_model_module_version": "1.2.0",
      "_model_name": "LayoutModel",
      "_view_count": null,
      "_view_module": "@jupyter-widgets/base",
      "_view_module_version": "1.2.0",
      "_view_name": "LayoutView",
      "align_content": null,
      "align_items": null,
      "align_self": null,
      "border": null,
      "bottom": null,
      "display": null,
      "flex": null,
      "flex_flow": null,
      "grid_area": null,
      "grid_auto_columns": null,
      "grid_auto_flow": null,
      "grid_auto_rows": null,
      "grid_column": null,
      "grid_gap": null,
      "grid_row": null,
      "grid_template_areas": null,
      "grid_template_columns": null,
      "grid_template_rows": null,
      "height": null,
      "justify_content": null,
      "justify_items": null,
      "left": null,
      "margin": null,
      "max_height": null,
      "max_width": null,
      "min_height": null,
      "min_width": null,
      "object_fit": null,
      "object_position": null,
      "order": null,
      "overflow": null,
      "overflow_x": null,
      "overflow_y": null,
      "padding": null,
      "right": null,
      "top": null,
      "visibility": null,
      "width": null
     }
    },
    "caa17833b61744a9817761c420b9ecb5": {
     "model_module": "@jupyter-widgets/base",
     "model_name": "LayoutModel",
     "state": {
      "_model_module": "@jupyter-widgets/base",
      "_model_module_version": "1.2.0",
      "_model_name": "LayoutModel",
      "_view_count": null,
      "_view_module": "@jupyter-widgets/base",
      "_view_module_version": "1.2.0",
      "_view_name": "LayoutView",
      "align_content": null,
      "align_items": null,
      "align_self": null,
      "border": null,
      "bottom": null,
      "display": null,
      "flex": null,
      "flex_flow": null,
      "grid_area": null,
      "grid_auto_columns": null,
      "grid_auto_flow": null,
      "grid_auto_rows": null,
      "grid_column": null,
      "grid_gap": null,
      "grid_row": null,
      "grid_template_areas": null,
      "grid_template_columns": null,
      "grid_template_rows": null,
      "height": null,
      "justify_content": null,
      "justify_items": null,
      "left": null,
      "margin": null,
      "max_height": null,
      "max_width": null,
      "min_height": null,
      "min_width": null,
      "object_fit": null,
      "object_position": null,
      "order": null,
      "overflow": null,
      "overflow_x": null,
      "overflow_y": null,
      "padding": null,
      "right": null,
      "top": null,
      "visibility": null,
      "width": null
     }
    },
    "d5276def9c2642979c92ff29b48b6ce2": {
     "model_module": "@jupyter-widgets/controls",
     "model_name": "HBoxModel",
     "state": {
      "_dom_classes": [],
      "_model_module": "@jupyter-widgets/controls",
      "_model_module_version": "1.5.0",
      "_model_name": "HBoxModel",
      "_view_count": null,
      "_view_module": "@jupyter-widgets/controls",
      "_view_module_version": "1.5.0",
      "_view_name": "HBoxView",
      "box_style": "",
      "children": [
       "IPY_MODEL_17f23f0e153e40379ed91415aef9f426",
       "IPY_MODEL_607a475ca3674a31b2b1043e21b46af6"
      ],
      "layout": "IPY_MODEL_3b0985d6513949b48e7159d0e7dfa157"
     }
    },
    "da016627e7cb40fe8df2ec6e8f3186cd": {
     "model_module": "@jupyter-widgets/controls",
     "model_name": "HBoxModel",
     "state": {
      "_dom_classes": [],
      "_model_module": "@jupyter-widgets/controls",
      "_model_module_version": "1.5.0",
      "_model_name": "HBoxModel",
      "_view_count": null,
      "_view_module": "@jupyter-widgets/controls",
      "_view_module_version": "1.5.0",
      "_view_name": "HBoxView",
      "box_style": "",
      "children": [
       "IPY_MODEL_a172949fc2744ec18b292793b77865f9",
       "IPY_MODEL_8734e3e774134d91820876c3feaabb41"
      ],
      "layout": "IPY_MODEL_6f01ae26e0c44def85ccd304f4432fa0"
     }
    },
    "db998e7cb01c4d058a134c705a9a97f5": {
     "model_module": "@jupyter-widgets/base",
     "model_name": "LayoutModel",
     "state": {
      "_model_module": "@jupyter-widgets/base",
      "_model_module_version": "1.2.0",
      "_model_name": "LayoutModel",
      "_view_count": null,
      "_view_module": "@jupyter-widgets/base",
      "_view_module_version": "1.2.0",
      "_view_name": "LayoutView",
      "align_content": null,
      "align_items": null,
      "align_self": null,
      "border": null,
      "bottom": null,
      "display": null,
      "flex": null,
      "flex_flow": null,
      "grid_area": null,
      "grid_auto_columns": null,
      "grid_auto_flow": null,
      "grid_auto_rows": null,
      "grid_column": null,
      "grid_gap": null,
      "grid_row": null,
      "grid_template_areas": null,
      "grid_template_columns": null,
      "grid_template_rows": null,
      "height": null,
      "justify_content": null,
      "justify_items": null,
      "left": null,
      "margin": null,
      "max_height": null,
      "max_width": null,
      "min_height": null,
      "min_width": null,
      "object_fit": null,
      "object_position": null,
      "order": null,
      "overflow": null,
      "overflow_x": null,
      "overflow_y": null,
      "padding": null,
      "right": null,
      "top": null,
      "visibility": null,
      "width": null
     }
    },
    "dfe6d8a3da8945c4b2bd0c5d8e3e7a75": {
     "model_module": "@jupyter-widgets/base",
     "model_name": "LayoutModel",
     "state": {
      "_model_module": "@jupyter-widgets/base",
      "_model_module_version": "1.2.0",
      "_model_name": "LayoutModel",
      "_view_count": null,
      "_view_module": "@jupyter-widgets/base",
      "_view_module_version": "1.2.0",
      "_view_name": "LayoutView",
      "align_content": null,
      "align_items": null,
      "align_self": null,
      "border": null,
      "bottom": null,
      "display": null,
      "flex": null,
      "flex_flow": null,
      "grid_area": null,
      "grid_auto_columns": null,
      "grid_auto_flow": null,
      "grid_auto_rows": null,
      "grid_column": null,
      "grid_gap": null,
      "grid_row": null,
      "grid_template_areas": null,
      "grid_template_columns": null,
      "grid_template_rows": null,
      "height": null,
      "justify_content": null,
      "justify_items": null,
      "left": null,
      "margin": null,
      "max_height": null,
      "max_width": null,
      "min_height": null,
      "min_width": null,
      "object_fit": null,
      "object_position": null,
      "order": null,
      "overflow": null,
      "overflow_x": null,
      "overflow_y": null,
      "padding": null,
      "right": null,
      "top": null,
      "visibility": null,
      "width": null
     }
    },
    "f32ff8ebf84f4b6bb604921a7977920c": {
     "model_module": "@jupyter-widgets/controls",
     "model_name": "HBoxModel",
     "state": {
      "_dom_classes": [],
      "_model_module": "@jupyter-widgets/controls",
      "_model_module_version": "1.5.0",
      "_model_name": "HBoxModel",
      "_view_count": null,
      "_view_module": "@jupyter-widgets/controls",
      "_view_module_version": "1.5.0",
      "_view_name": "HBoxView",
      "box_style": "",
      "children": [
       "IPY_MODEL_7f721b5324354dcf814171a6a4f6a060",
       "IPY_MODEL_0c23b466f50845c898ee5c6050ea6f3a"
      ],
      "layout": "IPY_MODEL_f957b0d475a64d39a82db01e3b5f1a43"
     }
    },
    "f957b0d475a64d39a82db01e3b5f1a43": {
     "model_module": "@jupyter-widgets/base",
     "model_name": "LayoutModel",
     "state": {
      "_model_module": "@jupyter-widgets/base",
      "_model_module_version": "1.2.0",
      "_model_name": "LayoutModel",
      "_view_count": null,
      "_view_module": "@jupyter-widgets/base",
      "_view_module_version": "1.2.0",
      "_view_name": "LayoutView",
      "align_content": null,
      "align_items": null,
      "align_self": null,
      "border": null,
      "bottom": null,
      "display": null,
      "flex": null,
      "flex_flow": null,
      "grid_area": null,
      "grid_auto_columns": null,
      "grid_auto_flow": null,
      "grid_auto_rows": null,
      "grid_column": null,
      "grid_gap": null,
      "grid_row": null,
      "grid_template_areas": null,
      "grid_template_columns": null,
      "grid_template_rows": null,
      "height": null,
      "justify_content": null,
      "justify_items": null,
      "left": null,
      "margin": null,
      "max_height": null,
      "max_width": null,
      "min_height": null,
      "min_width": null,
      "object_fit": null,
      "object_position": null,
      "order": null,
      "overflow": null,
      "overflow_x": null,
      "overflow_y": null,
      "padding": null,
      "right": null,
      "top": null,
      "visibility": null,
      "width": null
     }
    },
    "fcf69d04e84542a2a9374b1140712ec5": {
     "model_module": "@jupyter-widgets/controls",
     "model_name": "ProgressStyleModel",
     "state": {
      "_model_module": "@jupyter-widgets/controls",
      "_model_module_version": "1.5.0",
      "_model_name": "ProgressStyleModel",
      "_view_count": null,
      "_view_module": "@jupyter-widgets/base",
      "_view_module_version": "1.2.0",
      "_view_name": "StyleView",
      "bar_color": null,
      "description_width": "initial"
     }
    },
    "fe1557caa6954e8da054b08eb2278cb8": {
     "model_module": "@jupyter-widgets/base",
     "model_name": "LayoutModel",
     "state": {
      "_model_module": "@jupyter-widgets/base",
      "_model_module_version": "1.2.0",
      "_model_name": "LayoutModel",
      "_view_count": null,
      "_view_module": "@jupyter-widgets/base",
      "_view_module_version": "1.2.0",
      "_view_name": "LayoutView",
      "align_content": null,
      "align_items": null,
      "align_self": null,
      "border": null,
      "bottom": null,
      "display": null,
      "flex": null,
      "flex_flow": null,
      "grid_area": null,
      "grid_auto_columns": null,
      "grid_auto_flow": null,
      "grid_auto_rows": null,
      "grid_column": null,
      "grid_gap": null,
      "grid_row": null,
      "grid_template_areas": null,
      "grid_template_columns": null,
      "grid_template_rows": null,
      "height": null,
      "justify_content": null,
      "justify_items": null,
      "left": null,
      "margin": null,
      "max_height": null,
      "max_width": null,
      "min_height": null,
      "min_width": null,
      "object_fit": null,
      "object_position": null,
      "order": null,
      "overflow": null,
      "overflow_x": null,
      "overflow_y": null,
      "padding": null,
      "right": null,
      "top": null,
      "visibility": null,
      "width": null
     }
    }
   }
  }
 },
 "nbformat": 4,
 "nbformat_minor": 1
}
